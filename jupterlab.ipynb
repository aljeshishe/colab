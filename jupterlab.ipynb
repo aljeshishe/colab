{
  "nbformat": 4,
  "nbformat_minor": 0,
  "metadata": {
    "colab": {
      "name": "Untitled34.ipynb",
      "provenance": [],
      "authorship_tag": "ABX9TyNdqv9t76cY78ilOKNt6RQJ",
      "include_colab_link": true
    },
    "kernelspec": {
      "name": "python3",
      "display_name": "Python 3"
    },
    "language_info": {
      "name": "python"
    },
    "accelerator": "GPU"
  },
  "cells": [
    {
      "cell_type": "markdown",
      "metadata": {
        "id": "view-in-github",
        "colab_type": "text"
      },
      "source": [
        "<a href=\"https://colab.research.google.com/github/aljeshishe/colab/blob/main/jupterlab.ipynb\" target=\"_parent\"><img src=\"https://colab.research.google.com/assets/colab-badge.svg\" alt=\"Open In Colab\"/></a>"
      ]
    },
    {
      "cell_type": "code",
      "metadata": {
        "colab": {
          "base_uri": "https://localhost:8080/"
        },
        "id": "W1rAboXI4h8l",
        "outputId": "efa0a257-3bf0-4c8e-9861-890740cd08de"
      },
      "source": [
        "%config Completer.use_jedi = False"
      ],
      "execution_count": 1,
      "outputs": [
        {
          "output_type": "stream",
          "text": [
            "/usr/local/lib/python3.7/dist-packages/ipykernel_launcher.py:3: UserWarning: Config option `use_jedi` not recognized by `IPCompleter`.\n",
            "  This is separate from the ipykernel package so we can avoid doing imports until\n"
          ],
          "name": "stderr"
        }
      ]
    },
    {
      "cell_type": "code",
      "metadata": {
        "colab": {
          "base_uri": "https://localhost:8080/"
        },
        "id": "PL-b_a1L4b8t",
        "outputId": "65b0ad0c-386c-46fb-fc19-7ae983b178e9"
      },
      "source": [
        "!mv /etc/ipython/ipython_config.py /etc/ipython/ipython_config.py_"
      ],
      "execution_count": 2,
      "outputs": [
        {
          "output_type": "stream",
          "text": [
            "mv: cannot stat '/etc/ipython/ipython_config.py': No such file or directory\r\n"
          ],
          "name": "stdout"
        }
      ]
    },
    {
      "cell_type": "code",
      "metadata": {
        "id": "QrbT2rmJ4okv"
      },
      "source": [
        "import socket, os\n",
        "from contextlib import closing\n",
        "with closing(socket.socket(socket.AF_INET, socket.SOCK_STREAM)) as s:\n",
        "  s.bind(('', 0))\n",
        "  s.setsockopt(socket.SOL_SOCKET, socket.SO_REUSEADDR, 1)\n",
        "  free_port = s.getsockname()[1]\n",
        "os.environ['JUPTER_PORT'] = str(free_port)\n"
      ],
      "execution_count": 3,
      "outputs": []
    },
    {
      "cell_type": "code",
      "metadata": {
        "colab": {
          "base_uri": "https://localhost:8080/"
        },
        "id": "JoHxR14u-G5A",
        "outputId": "67d75075-a54c-428e-c813-00aab95ba622"
      },
      "source": [
        "%%bash\n",
        "pip install jupyterlab\n",
        "nohup jupyter-lab --port=$JUPTER_PORT --ServerApp.allow_remote_access=true --allow-root --Completer.use_jedi=False --ip='*' --NotebookApp.token='' --NotebookApp.password='' > log.txt 2>&1 &\n",
        "echo $! > jupter_pid.txt"
      ],
      "execution_count": 4,
      "outputs": [
        {
          "output_type": "stream",
          "text": [
            "Requirement already satisfied: jupyterlab in /usr/local/lib/python3.7/dist-packages (3.0.16)\n",
            "Requirement already satisfied: ipython in /usr/local/lib/python3.7/dist-packages (from jupyterlab) (5.5.0)\n",
            "Requirement already satisfied: packaging in /usr/local/lib/python3.7/dist-packages (from jupyterlab) (20.9)\n",
            "Requirement already satisfied: jupyter-core in /usr/local/lib/python3.7/dist-packages (from jupyterlab) (4.7.1)\n",
            "Requirement already satisfied: jupyter-server~=1.4 in /usr/local/lib/python3.7/dist-packages (from jupyterlab) (1.8.0)\n",
            "Requirement already satisfied: jinja2>=2.1 in /usr/local/lib/python3.7/dist-packages (from jupyterlab) (2.11.3)\n",
            "Requirement already satisfied: nbclassic~=0.2 in /usr/local/lib/python3.7/dist-packages (from jupyterlab) (0.3.1)\n",
            "Requirement already satisfied: jupyterlab-server~=2.3 in /usr/local/lib/python3.7/dist-packages (from jupyterlab) (2.6.0)\n",
            "Requirement already satisfied: tornado>=6.1.0 in /usr/local/lib/python3.7/dist-packages (from jupyterlab) (6.1)\n",
            "Requirement already satisfied: pickleshare in /usr/local/lib/python3.7/dist-packages (from ipython->jupyterlab) (0.7.5)\n",
            "Requirement already satisfied: traitlets>=4.2 in /usr/local/lib/python3.7/dist-packages (from ipython->jupyterlab) (5.0.5)\n",
            "Requirement already satisfied: pygments in /usr/local/lib/python3.7/dist-packages (from ipython->jupyterlab) (2.6.1)\n",
            "Requirement already satisfied: setuptools>=18.5 in /usr/local/lib/python3.7/dist-packages (from ipython->jupyterlab) (57.0.0)\n",
            "Requirement already satisfied: decorator in /usr/local/lib/python3.7/dist-packages (from ipython->jupyterlab) (4.4.2)\n",
            "Requirement already satisfied: prompt-toolkit<2.0.0,>=1.0.4 in /usr/local/lib/python3.7/dist-packages (from ipython->jupyterlab) (1.0.18)\n",
            "Requirement already satisfied: simplegeneric>0.8 in /usr/local/lib/python3.7/dist-packages (from ipython->jupyterlab) (0.8.1)\n",
            "Requirement already satisfied: pexpect; sys_platform != \"win32\" in /usr/local/lib/python3.7/dist-packages (from ipython->jupyterlab) (4.8.0)\n",
            "Requirement already satisfied: pyparsing>=2.0.2 in /usr/local/lib/python3.7/dist-packages (from packaging->jupyterlab) (2.4.7)\n",
            "Requirement already satisfied: Send2Trash in /usr/local/lib/python3.7/dist-packages (from jupyter-server~=1.4->jupyterlab) (1.5.0)\n",
            "Requirement already satisfied: prometheus-client in /usr/local/lib/python3.7/dist-packages (from jupyter-server~=1.4->jupyterlab) (0.11.0)\n",
            "Requirement already satisfied: argon2-cffi in /usr/local/lib/python3.7/dist-packages (from jupyter-server~=1.4->jupyterlab) (20.1.0)\n",
            "Requirement already satisfied: websocket-client in /usr/local/lib/python3.7/dist-packages (from jupyter-server~=1.4->jupyterlab) (1.1.0)\n",
            "Requirement already satisfied: ipython-genutils in /usr/local/lib/python3.7/dist-packages (from jupyter-server~=1.4->jupyterlab) (0.2.0)\n",
            "Requirement already satisfied: anyio<4,>=3.1.0 in /usr/local/lib/python3.7/dist-packages (from jupyter-server~=1.4->jupyterlab) (3.2.0)\n",
            "Requirement already satisfied: nbconvert in /usr/local/lib/python3.7/dist-packages (from jupyter-server~=1.4->jupyterlab) (5.6.1)\n",
            "Requirement already satisfied: nbformat in /usr/local/lib/python3.7/dist-packages (from jupyter-server~=1.4->jupyterlab) (5.1.3)\n",
            "Requirement already satisfied: pyzmq>=17 in /usr/local/lib/python3.7/dist-packages (from jupyter-server~=1.4->jupyterlab) (22.1.0)\n",
            "Requirement already satisfied: terminado>=0.8.3 in /usr/local/lib/python3.7/dist-packages (from jupyter-server~=1.4->jupyterlab) (0.10.1)\n",
            "Requirement already satisfied: jupyter-client>=6.1.1 in /usr/local/lib/python3.7/dist-packages (from jupyter-server~=1.4->jupyterlab) (6.1.12)\n",
            "Requirement already satisfied: MarkupSafe>=0.23 in /usr/local/lib/python3.7/dist-packages (from jinja2>=2.1->jupyterlab) (2.0.1)\n",
            "Requirement already satisfied: notebook<7 in /usr/local/lib/python3.7/dist-packages (from nbclassic~=0.2->jupyterlab) (5.3.1)\n",
            "Requirement already satisfied: jsonschema>=3.0.1 in /usr/local/lib/python3.7/dist-packages (from jupyterlab-server~=2.3->jupyterlab) (3.2.0)\n",
            "Requirement already satisfied: json5 in /usr/local/lib/python3.7/dist-packages (from jupyterlab-server~=2.3->jupyterlab) (0.9.5)\n",
            "Requirement already satisfied: requests in /usr/local/lib/python3.7/dist-packages (from jupyterlab-server~=2.3->jupyterlab) (2.25.1)\n",
            "Requirement already satisfied: babel in /usr/local/lib/python3.7/dist-packages (from jupyterlab-server~=2.3->jupyterlab) (2.9.1)\n",
            "Requirement already satisfied: six>=1.9.0 in /usr/local/lib/python3.7/dist-packages (from prompt-toolkit<2.0.0,>=1.0.4->ipython->jupyterlab) (1.15.0)\n",
            "Requirement already satisfied: wcwidth in /usr/local/lib/python3.7/dist-packages (from prompt-toolkit<2.0.0,>=1.0.4->ipython->jupyterlab) (0.2.5)\n",
            "Requirement already satisfied: ptyprocess>=0.5 in /usr/local/lib/python3.7/dist-packages (from pexpect; sys_platform != \"win32\"->ipython->jupyterlab) (0.7.0)\n",
            "Requirement already satisfied: cffi>=1.0.0 in /usr/local/lib/python3.7/dist-packages (from argon2-cffi->jupyter-server~=1.4->jupyterlab) (1.14.5)\n",
            "Requirement already satisfied: idna>=2.8 in /usr/local/lib/python3.7/dist-packages (from anyio<4,>=3.1.0->jupyter-server~=1.4->jupyterlab) (2.10)\n",
            "Requirement already satisfied: typing-extensions; python_version < \"3.8\" in /usr/local/lib/python3.7/dist-packages (from anyio<4,>=3.1.0->jupyter-server~=1.4->jupyterlab) (3.7.4.3)\n",
            "Requirement already satisfied: sniffio>=1.1 in /usr/local/lib/python3.7/dist-packages (from anyio<4,>=3.1.0->jupyter-server~=1.4->jupyterlab) (1.2.0)\n",
            "Requirement already satisfied: bleach in /usr/local/lib/python3.7/dist-packages (from nbconvert->jupyter-server~=1.4->jupyterlab) (3.3.0)\n",
            "Requirement already satisfied: entrypoints>=0.2.2 in /usr/local/lib/python3.7/dist-packages (from nbconvert->jupyter-server~=1.4->jupyterlab) (0.3)\n",
            "Requirement already satisfied: pandocfilters>=1.4.1 in /usr/local/lib/python3.7/dist-packages (from nbconvert->jupyter-server~=1.4->jupyterlab) (1.4.3)\n",
            "Requirement already satisfied: testpath in /usr/local/lib/python3.7/dist-packages (from nbconvert->jupyter-server~=1.4->jupyterlab) (0.5.0)\n",
            "Requirement already satisfied: mistune<2,>=0.8.1 in /usr/local/lib/python3.7/dist-packages (from nbconvert->jupyter-server~=1.4->jupyterlab) (0.8.4)\n",
            "Requirement already satisfied: defusedxml in /usr/local/lib/python3.7/dist-packages (from nbconvert->jupyter-server~=1.4->jupyterlab) (0.7.1)\n",
            "Requirement already satisfied: python-dateutil>=2.1 in /usr/local/lib/python3.7/dist-packages (from jupyter-client>=6.1.1->jupyter-server~=1.4->jupyterlab) (2.8.1)\n",
            "Requirement already satisfied: ipykernel in /usr/local/lib/python3.7/dist-packages (from notebook<7->nbclassic~=0.2->jupyterlab) (4.10.1)\n",
            "Requirement already satisfied: importlib-metadata; python_version < \"3.8\" in /usr/local/lib/python3.7/dist-packages (from jsonschema>=3.0.1->jupyterlab-server~=2.3->jupyterlab) (4.5.0)\n",
            "Requirement already satisfied: pyrsistent>=0.14.0 in /usr/local/lib/python3.7/dist-packages (from jsonschema>=3.0.1->jupyterlab-server~=2.3->jupyterlab) (0.17.3)\n",
            "Requirement already satisfied: attrs>=17.4.0 in /usr/local/lib/python3.7/dist-packages (from jsonschema>=3.0.1->jupyterlab-server~=2.3->jupyterlab) (21.2.0)\n",
            "Requirement already satisfied: urllib3<1.27,>=1.21.1 in /usr/local/lib/python3.7/dist-packages (from requests->jupyterlab-server~=2.3->jupyterlab) (1.24.3)\n",
            "Requirement already satisfied: certifi>=2017.4.17 in /usr/local/lib/python3.7/dist-packages (from requests->jupyterlab-server~=2.3->jupyterlab) (2021.5.30)\n",
            "Requirement already satisfied: chardet<5,>=3.0.2 in /usr/local/lib/python3.7/dist-packages (from requests->jupyterlab-server~=2.3->jupyterlab) (3.0.4)\n",
            "Requirement already satisfied: pytz>=2015.7 in /usr/local/lib/python3.7/dist-packages (from babel->jupyterlab-server~=2.3->jupyterlab) (2018.9)\n",
            "Requirement already satisfied: pycparser in /usr/local/lib/python3.7/dist-packages (from cffi>=1.0.0->argon2-cffi->jupyter-server~=1.4->jupyterlab) (2.20)\n",
            "Requirement already satisfied: webencodings in /usr/local/lib/python3.7/dist-packages (from bleach->nbconvert->jupyter-server~=1.4->jupyterlab) (0.5.1)\n",
            "Requirement already satisfied: zipp>=0.5 in /usr/local/lib/python3.7/dist-packages (from importlib-metadata; python_version < \"3.8\"->jsonschema>=3.0.1->jupyterlab-server~=2.3->jupyterlab) (3.4.1)\n"
          ],
          "name": "stdout"
        }
      ]
    },
    {
      "cell_type": "code",
      "metadata": {
        "colab": {
          "base_uri": "https://localhost:8080/"
        },
        "id": "t8Sxg5_H5QCK",
        "outputId": "7a97cc1a-0a2d-4f95-a3d0-a238e1dff4cb"
      },
      "source": [
        "%%bash\n",
        "wget -q -nc https://bin.equinox.io/c/VdrWdbjqyF/cloudflared-stable-linux-amd64.tgz\n",
        "tar zxf cloudflared-stable-linux-amd64.tgz\n",
        "nohup ./cloudflared tunnel --url http://localhost:$JUPTER_PORT > cloudflared.log 2>&1 &\n",
        "echo $! > cloudflared_pid.txt\n",
        "sleep 5\n",
        "grep https cloudflared.log"
      ],
      "execution_count": 6,
      "outputs": [
        {
          "output_type": "stream",
          "text": [
            "2021-06-21T19:21:14Z INF |    https://bidding-commercial-correlation-pdt.trycloudflare.com  |\n",
            "2021-06-21T19:21:16Z INF |    https://bidding-commercial-correlation-pdt.trycloudflare.com  |\n",
            "2021-06-21T19:21:16Z INF |    https://bidding-commercial-correlation-pdt.trycloudflare.com  |\n"
          ],
          "name": "stdout"
        }
      ]
    },
    {
      "cell_type": "code",
      "metadata": {
        "colab": {
          "base_uri": "https://localhost:8080/"
        },
        "id": "vHMlR3Hw_ait",
        "outputId": "bda3c8bb-d05c-4819-c095-e036c696197f"
      },
      "source": [
        "!ps ajfxww"
      ],
      "execution_count": 7,
      "outputs": [
        {
          "output_type": "stream",
          "text": [
            "   PPID     PID    PGID     SID TTY        TPGID STAT   UID   TIME COMMAND\r\n",
            "      0      16      16      16 ?             -1 Ss       0   0:00 tail -n +0 -F /root/.config/Google/DriveFS/Logs/dpb.txt /root/.config/Google/DriveFS/Logs/drive_fs.txt\r\n",
            "      0       1       1       1 ?             -1 Ssl      0   0:05 /tools/node/bin/node /datalab/web/app.js\r\n",
            "      1      49       1       1 ?             -1 Sl       0   0:06 /usr/bin/python2 /usr/local/bin/jupyter-notebook --ip=\"172.28.0.2\" --port=9000 --FileContentsManager.root_dir=\"/\" --MappingKernelManager.root_dir=\"/content\"\r\n",
            "     49    1361    1361    1361 ?             -1 Ssl      0   0:01  \\_ /usr/bin/python3 -m ipykernel_launcher -f /root/.local/share/jupyter/runtime/kernel-e73e2b85-7d7b-4233-be2f-bdc2e1b7a5e3.json\r\n",
            "   1361    1458    1458    1458 pts/0       1458 Ss+      0   0:00      \\_ /bin/sh -c ps ajfxww\r\n",
            "   1458    1459    1458    1458 pts/0       1458 R+       0   0:00          \\_ ps ajfxww\r\n",
            "      1      50       1       1 ?             -1 Sl       0   0:03 /usr/local/bin/dap_multiplexer --domain_socket_path=/tmp/debugger_1tj2xc8e49\r\n",
            "      1      81      78      78 ?             -1 Sl       0   0:06 /usr/bin/python3 /usr/local/lib/python3.7/dist-packages/debugpy/adapter --for-server 40293 --host 127.0.0.1 --port 24678 --server-access-token 8409797da7d93589794fb2ea45dd81eeb620ad2d75d90641463ffb5f689288e8\r\n",
            "      1     170      61      61 ?             -1 Z        0   0:03 [jupyter-lab] <defunct>\r\n",
            "      1     294      61      61 ?             -1 Z        0   0:05 [jupyter-lab] <defunct>\r\n",
            "      1     480     479     479 ?             -1 Z        0   0:42 [python3] <defunct>\r\n",
            "      1     522     479     479 ?             -1 Z        0   0:00 [python3] <defunct>\r\n",
            "      1     599      61      61 ?             -1 Z        0   0:01 [jupyter-lab] <defunct>\r\n",
            "      1     655      61      61 ?             -1 Z        0   0:01 [jupyter-lab] <defunct>\r\n",
            "      1     724      61      61 ?             -1 Z        0   0:00 [cloudflared] <defunct>\r\n",
            "      1     733      61      61 ?             -1 Z        0   0:00 [cloudflared] <defunct>\r\n",
            "      1     744      61      61 ?             -1 Z        0   0:00 [cloudflared] <defunct>\r\n",
            "      1     762      61      61 ?             -1 Z        0   0:00 [cloudflared] <defunct>\r\n",
            "      1     797      61      61 ?             -1 Z        0   0:00 [cloudflared] <defunct>\r\n",
            "      1     807      61      61 ?             -1 Z        0   0:00 [cloudflared] <defunct>\r\n",
            "      1     820      61      61 ?             -1 Z        0   0:00 [cloudflared] <defunct>\r\n",
            "      1     828      61      61 ?             -1 Z        0   0:00 [cloudflared] <defunct>\r\n",
            "      1     847      61      61 ?             -1 Z        0   0:01 [jupyter-lab] <defunct>\r\n",
            "      1     878      61      61 ?             -1 Z        0   0:01 [jupyter-lab] <defunct>\r\n",
            "      1     926      61      61 ?             -1 Z        0   0:02 [jupyter-lab] <defunct>\r\n",
            "      1     933      61      61 ?             -1 Z        0   0:00 [cloudflared] <defunct>\r\n",
            "      1     950      61      61 ?             -1 Z        0   0:00 [cloudflared] <defunct>\r\n",
            "      1     988      61      61 ?             -1 Z        0   0:00 [cloudflared] <defunct>\r\n",
            "      1     997      61      61 ?             -1 Z        0   0:00 [cloudflared] <defunct>\r\n",
            "      1    1011      61      61 ?             -1 Z        0   0:00 [cloudflared] <defunct>\r\n",
            "      1    1020      61      61 ?             -1 Z        0   0:00 [cloudflared] <defunct>\r\n",
            "      1    1032      61      61 ?             -1 Z        0   0:00 [cloudflared] <defunct>\r\n",
            "      1    1041      61      61 ?             -1 Z        0   0:30 [cloudflared] <defunct>\r\n",
            "      1    1117      61      61 ?             -1 Z        0   0:00 [cloudflared] <defunct>\r\n",
            "      1    1125      61      61 ?             -1 Z        0   0:00 [cloudflared] <defunct>\r\n",
            "      1    1137      61      61 ?             -1 Z        0   0:00 [cloudflared] <defunct>\r\n",
            "      1    1148      61      61 ?             -1 Z        0   0:00 [cloudflared] <defunct>\r\n",
            "      1    1259      61      61 ?             -1 Sl       0   0:03 /usr/bin/python3 /usr/local/bin/jupyter-lab --port=40417 --ServerApp.allow_remote_access=true --allow-root --Completer.use_jedi=False --ip=* --NotebookApp.token= --NotebookApp.password=\r\n",
            "   1259    1347    1347    1347 ?             -1 Ssl      0   0:00  \\_ /usr/bin/python3 -m ipykernel_launcher -f /root/.local/share/jupyter/runtime/kernel-2761077a-3b39-466e-a30b-1a6d11474fc3.json\r\n",
            "      1    1288      61      61 ?             -1 Sl       0   0:00 ./cloudflared tunnel --url http://localhost:40417\r\n",
            "      1    1382    1379    1379 ?             -1 Sl       0   0:00 /usr/bin/python3 /usr/local/lib/python3.7/dist-packages/debugpy/adapter --for-server 37599 --host 127.0.0.1 --port 16867 --server-access-token 239d535e944bd5453fbaf678f29ec36d5ffefd70e3d30c8ac17f164ee4e9dfab\r\n",
            "      1    1417    1361    1361 ?             -1 Sl       0   0:01 /usr/bin/python3 /usr/local/bin/jupyter-lab --port=57777 --ServerApp.allow_remote_access=true --allow-root --Completer.use_jedi=False --ip=* --NotebookApp.token= --NotebookApp.password=\r\n",
            "      1    1446    1361    1361 ?             -1 Sl       0   0:00 ./cloudflared tunnel --url http://localhost:57777\r\n"
          ],
          "name": "stdout"
        }
      ]
    },
    {
      "cell_type": "code",
      "metadata": {
        "colab": {
          "base_uri": "https://localhost:8080/"
        },
        "id": "sUodsY2J_xlA",
        "outputId": "baf947eb-e77f-4028-928f-a2d6b1d2c567"
      },
      "source": [
        "!pgrep -af jupyter-lab\n",
        "!pgrep -af cloudflared"
      ],
      "execution_count": 8,
      "outputs": [
        {
          "output_type": "stream",
          "text": [
            "170 jupyter-lab\r\n",
            "294 jupyter-lab\r\n",
            "599 jupyter-lab\r\n",
            "655 jupyter-lab\r\n",
            "847 jupyter-lab\r\n",
            "878 jupyter-lab\r\n",
            "926 jupyter-lab\r\n",
            "1259 /usr/bin/python3 /usr/local/bin/jupyter-lab --port=40417 --ServerApp.allow_remote_access=true --allow-root --Completer.use_jedi=False --ip=* --NotebookApp.token= --NotebookApp.password=\r\n",
            "1417 /usr/bin/python3 /usr/local/bin/jupyter-lab --port=57777 --ServerApp.allow_remote_access=true --allow-root --Completer.use_jedi=False --ip=* --NotebookApp.token= --NotebookApp.password=\r\n",
            "1460 /bin/sh -c pgrep -af jupyter-lab\n",
            "724 cloudflared\n",
            "733 cloudflared\n",
            "744 cloudflared\n",
            "762 cloudflared\n",
            "797 cloudflared\n",
            "807 cloudflared\n",
            "820 cloudflared\n",
            "828 cloudflared\n",
            "933 cloudflared\n",
            "950 cloudflared\n",
            "988 cloudflared\n",
            "997 cloudflared\n",
            "1011 cloudflared\n",
            "1020 cloudflared\n",
            "1032 cloudflared\n",
            "1041 cloudflared\n",
            "1117 cloudflared\n",
            "1125 cloudflared\n",
            "1137 cloudflared\n",
            "1148 cloudflared\n",
            "1288 ./cloudflared tunnel --url http://localhost:40417\n",
            "1446 ./cloudflared tunnel --url http://localhost:57777\n",
            "1462 /bin/sh -c pgrep -af cloudflared\n"
          ],
          "name": "stdout"
        }
      ]
    },
    {
      "cell_type": "code",
      "metadata": {
        "id": "K7JrwUdyAQJX"
      },
      "source": [
        "#!pkill -9 -f jupyter-lab\n",
        "#!pkill -9 -f cloudflared"
      ],
      "execution_count": 9,
      "outputs": []
    },
    {
      "cell_type": "code",
      "metadata": {
        "id": "CKSNHBcJAdUH"
      },
      "source": [
        ""
      ],
      "execution_count": 9,
      "outputs": []
    }
  ]
}