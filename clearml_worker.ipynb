{
  "nbformat": 4,
  "nbformat_minor": 0,
  "metadata": {
    "accelerator": "GPU",
    "colab": {
      "name": "Untitled2.ipynb",
      "provenance": [],
      "collapsed_sections": [],
      "include_colab_link": true
    },
    "kernelspec": {
      "display_name": "Python 3",
      "name": "python3"
    },
    "language_info": {
      "name": "python"
    }
  },
  "cells": [
    {
      "cell_type": "markdown",
      "metadata": {
        "id": "view-in-github",
        "colab_type": "text"
      },
      "source": [
        "<a href=\"https://colab.research.google.com/github/aljeshishe/colab/blob/main/clearml_worker.ipynb\" target=\"_parent\"><img src=\"https://colab.research.google.com/assets/colab-badge.svg\" alt=\"Open In Colab\"/></a>"
      ]
    },
    {
      "cell_type": "code",
      "metadata": {
        "id": "UMABYcl1oDVR"
      },
      "source": [
        "!nvidia-smi"
      ],
      "execution_count": null,
      "outputs": []
    },
    {
      "cell_type": "code",
      "metadata": {
        "id": "m8VmIJQ4ZCSj"
      },
      "source": [
        "!pip install colab_ssh --upgrade\n",
        "\n",
        "from colab_ssh import launch_ssh_cloudflared, init_git_cloudflared\n",
        "launch_ssh_cloudflared(password=\"32167\")\n"
      ],
      "execution_count": null,
      "outputs": []
    },
    {
      "cell_type": "code",
      "metadata": {
        "id": "HQbnpRqnMvUw"
      },
      "source": [
        "%%bash\n",
        "\n",
        "export api=`cat <<EOF\n",
        "# TRAINS-AGENT configuration file\n",
        "api {\n",
        "    # Алексей Грачев's workspace\n",
        "    web_server: https://app.community.clear.ml\n",
        "    api_server: https://api.community.clear.ml\n",
        "    files_server: https://files.community.clear.ml\n",
        "    credentials {\n",
        "        \"access_key\" = \"4BHZKTYWV223UI0Y1HW2\"\n",
        "        \"secret_key\" = \"!5pAP^z=eMt9GcVeYsSRhRPqi5RPa4w-Yd2fh#m%SZ&t!6n!-6\"\n",
        "    }\n",
        "}\n",
        "\n",
        "# Set GIT user/pass credentials\n",
        "# leave blank for GIT SSH credentials\n",
        "agent.git_user=\"\"\n",
        "agent.git_pass=\"\"\n",
        "EOF\n",
        "`\n",
        "echo \"$api\" > /root/clearml.conf\n"
      ],
      "execution_count": null,
      "outputs": []
    },
    {
      "cell_type": "code",
      "metadata": {
        "colab": {
          "background_save": true
        },
        "id": "WZSlIXugNTuq"
      },
      "source": [
        "!pip install clearml numpy clearml-agent 'pyjwt<1.8.0'\n",
        "!clearml-agent daemon --queue default -d"
      ],
      "execution_count": null,
      "outputs": []
    }
  ]
}