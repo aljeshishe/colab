{
  "nbformat": 4,
  "nbformat_minor": 0,
  "metadata": {
    "kernelspec": {
      "display_name": "py39",
      "language": "python",
      "name": "py39"
    },
    "language_info": {
      "codemirror_mode": {
        "name": "ipython",
        "version": 3
      },
      "file_extension": ".py",
      "mimetype": "text/x-python",
      "name": "python",
      "nbconvert_exporter": "python",
      "pygments_lexer": "ipython3",
      "version": "3.9.1"
    },
    "colab": {
      "name": "okama.ipynb",
      "provenance": [],
      "include_colab_link": true
    }
  },
  "cells": [
    {
      "cell_type": "markdown",
      "metadata": {
        "id": "view-in-github",
        "colab_type": "text"
      },
      "source": [
        "<a href=\"https://colab.research.google.com/github/aljeshishe/colab/blob/main/dividends.ipynb\" target=\"_parent\"><img src=\"https://colab.research.google.com/assets/colab-badge.svg\" alt=\"Open In Colab\"/></a>"
      ]
    },
    {
      "cell_type": "markdown",
      "metadata": {
        "id": "25YAoNbslUd7"
      },
      "source": [
        "<a href=\"https://colab.research.google.com/github/mbk-dev/okama/blob/master/examples/01%20howto.ipynb\"><img align=\"left\" src=\"https://colab.research.google.com/assets/colab-badge.svg\" alt=\"Open in Colab\" title=\"Open and Execute in Google Colaboratory\"></a>"
      ]
    },
    {
      "cell_type": "markdown",
      "metadata": {
        "id": "jx2wnnBMlUeE"
      },
      "source": [
        "You can run the code examples in [Google Colab](https://colab.research.google.com/github/mbk-dev/okama/blob/master/examples/01%20howto.ipynb)."
      ]
    },
    {
      "cell_type": "markdown",
      "metadata": {
        "id": "h1dWUfnMlUeG"
      },
      "source": [
        "**To install the package:**"
      ]
    },
    {
      "cell_type": "code",
      "metadata": {
        "id": "5S0co9PflUeH",
        "colab": {
          "base_uri": "https://localhost:8080/"
        },
        "outputId": "e3f23c18-dec1-4394-c883-09b152df1590"
      },
      "source": [
        "!pip install -U okama plotly"
      ],
      "execution_count": 1,
      "outputs": [
        {
          "output_type": "stream",
          "name": "stdout",
          "text": [
            "Collecting okama\n",
            "  Downloading okama-1.1.1-py3-none-any.whl (81 kB)\n",
            "\u001b[?25l\r\u001b[K     |████                            | 10 kB 22.5 MB/s eta 0:00:01\r\u001b[K     |████████                        | 20 kB 27.9 MB/s eta 0:00:01\r\u001b[K     |████████████                    | 30 kB 12.9 MB/s eta 0:00:01\r\u001b[K     |████████████████                | 40 kB 9.8 MB/s eta 0:00:01\r\u001b[K     |████████████████████▏           | 51 kB 4.5 MB/s eta 0:00:01\r\u001b[K     |████████████████████████▏       | 61 kB 4.8 MB/s eta 0:00:01\r\u001b[K     |████████████████████████████▏   | 71 kB 4.3 MB/s eta 0:00:01\r\u001b[K     |████████████████████████████████| 81 kB 3.4 MB/s \n",
            "\u001b[?25hRequirement already satisfied: plotly in /usr/local/lib/python3.7/dist-packages (4.4.1)\n",
            "Collecting plotly\n",
            "  Downloading plotly-5.4.0-py2.py3-none-any.whl (25.3 MB)\n",
            "\u001b[K     |████████████████████████████████| 25.3 MB 1.4 MB/s \n",
            "\u001b[?25hRequirement already satisfied: matplotlib in /usr/local/lib/python3.7/dist-packages (from okama) (3.2.2)\n",
            "Requirement already satisfied: pandas>=0.25.0 in /usr/local/lib/python3.7/dist-packages (from okama) (1.1.5)\n",
            "Requirement already satisfied: numpy>=1.16.5 in /usr/local/lib/python3.7/dist-packages (from okama) (1.19.5)\n",
            "Requirement already satisfied: scipy>=0.14.0 in /usr/local/lib/python3.7/dist-packages (from okama) (1.4.1)\n",
            "Requirement already satisfied: requests in /usr/local/lib/python3.7/dist-packages (from okama) (2.23.0)\n",
            "Requirement already satisfied: python-dateutil>=2.7.3 in /usr/local/lib/python3.7/dist-packages (from pandas>=0.25.0->okama) (2.8.2)\n",
            "Requirement already satisfied: pytz>=2017.2 in /usr/local/lib/python3.7/dist-packages (from pandas>=0.25.0->okama) (2018.9)\n",
            "Requirement already satisfied: six>=1.5 in /usr/local/lib/python3.7/dist-packages (from python-dateutil>=2.7.3->pandas>=0.25.0->okama) (1.15.0)\n",
            "Collecting tenacity>=6.2.0\n",
            "  Downloading tenacity-8.0.1-py3-none-any.whl (24 kB)\n",
            "Requirement already satisfied: cycler>=0.10 in /usr/local/lib/python3.7/dist-packages (from matplotlib->okama) (0.11.0)\n",
            "Requirement already satisfied: kiwisolver>=1.0.1 in /usr/local/lib/python3.7/dist-packages (from matplotlib->okama) (1.3.2)\n",
            "Requirement already satisfied: pyparsing!=2.0.4,!=2.1.2,!=2.1.6,>=2.0.1 in /usr/local/lib/python3.7/dist-packages (from matplotlib->okama) (3.0.6)\n",
            "Requirement already satisfied: idna<3,>=2.5 in /usr/local/lib/python3.7/dist-packages (from requests->okama) (2.10)\n",
            "Requirement already satisfied: chardet<4,>=3.0.2 in /usr/local/lib/python3.7/dist-packages (from requests->okama) (3.0.4)\n",
            "Requirement already satisfied: certifi>=2017.4.17 in /usr/local/lib/python3.7/dist-packages (from requests->okama) (2021.10.8)\n",
            "Requirement already satisfied: urllib3!=1.25.0,!=1.25.1,<1.26,>=1.21.1 in /usr/local/lib/python3.7/dist-packages (from requests->okama) (1.24.3)\n",
            "Installing collected packages: tenacity, plotly, okama\n",
            "  Attempting uninstall: plotly\n",
            "    Found existing installation: plotly 4.4.1\n",
            "    Uninstalling plotly-4.4.1:\n",
            "      Successfully uninstalled plotly-4.4.1\n",
            "Successfully installed okama-1.1.1 plotly-5.4.0 tenacity-8.0.1\n"
          ]
        }
      ]
    },
    {
      "cell_type": "code",
      "metadata": {
        "id": "yhKY076DlUeN"
      },
      "source": [
        "import okama as ok\n",
        "import pandas as pd\n",
        "import matplotlib.pyplot as plt\n",
        "\n",
        "plt.rcParams['figure.figsize'] = [12.0, 6.0]\n",
        "pd.options.plotting.backend = 'plotly'\n",
        "pd.options.display.max_rows = None"
      ],
      "execution_count": 2,
      "outputs": []
    },
    {
      "cell_type": "code",
      "metadata": {
        "id": "_1BiA6oYef1f"
      },
      "source": [
        "from google.colab import auth\n",
        "auth.authenticate_user()\n",
        "\n",
        "import gspread\n",
        "from oauth2client.client import GoogleCredentials\n",
        "\n",
        "gc = gspread.authorize(GoogleCredentials.get_application_default())"
      ],
      "execution_count": 5,
      "outputs": []
    },
    {
      "cell_type": "code",
      "metadata": {
        "id": "_b68FLwweyHU",
        "colab": {
          "base_uri": "https://localhost:8080/",
          "height": 206
        },
        "outputId": "8261237c-b5f9-4408-d0de-bc55b8d70193"
      },
      "source": [
        "from gspread_dataframe import set_with_dataframe, get_as_dataframe\n",
        "\n",
        "name = 'dividends'\n",
        "# name = 'test'\n",
        "sheet = gc.open(name).sheet1\n",
        "new_df = get_as_dataframe(sheet)\n",
        "tickers = new_df.dropna(how='all')[['symbol']]\n",
        "tickers.head(5)"
      ],
      "execution_count": 6,
      "outputs": [
        {
          "output_type": "execute_result",
          "data": {
            "text/html": [
              "<div>\n",
              "<style scoped>\n",
              "    .dataframe tbody tr th:only-of-type {\n",
              "        vertical-align: middle;\n",
              "    }\n",
              "\n",
              "    .dataframe tbody tr th {\n",
              "        vertical-align: top;\n",
              "    }\n",
              "\n",
              "    .dataframe thead th {\n",
              "        text-align: right;\n",
              "    }\n",
              "</style>\n",
              "<table border=\"1\" class=\"dataframe\">\n",
              "  <thead>\n",
              "    <tr style=\"text-align: right;\">\n",
              "      <th></th>\n",
              "      <th>symbol</th>\n",
              "    </tr>\n",
              "  </thead>\n",
              "  <tbody>\n",
              "    <tr>\n",
              "      <th>0</th>\n",
              "      <td>LNZLP.MOEX</td>\n",
              "    </tr>\n",
              "    <tr>\n",
              "      <th>1</th>\n",
              "      <td>LNZL.MOEX</td>\n",
              "    </tr>\n",
              "    <tr>\n",
              "      <th>2</th>\n",
              "      <td>NLMK.MOEX</td>\n",
              "    </tr>\n",
              "    <tr>\n",
              "      <th>3</th>\n",
              "      <td>MTLRP.MOEX</td>\n",
              "    </tr>\n",
              "    <tr>\n",
              "      <th>4</th>\n",
              "      <td>CHMF.MOEX</td>\n",
              "    </tr>\n",
              "  </tbody>\n",
              "</table>\n",
              "</div>"
            ],
            "text/plain": [
              "       symbol\n",
              "0  LNZLP.MOEX\n",
              "1   LNZL.MOEX\n",
              "2   NLMK.MOEX\n",
              "3  MTLRP.MOEX\n",
              "4   CHMF.MOEX"
            ]
          },
          "metadata": {},
          "execution_count": 6
        }
      ]
    },
    {
      "cell_type": "code",
      "metadata": {
        "id": "nmtinOfKr7Au",
        "colab": {
          "base_uri": "https://localhost:8080/"
        },
        "outputId": "743b08dd-5578-4547-e45a-69aa7017d06c"
      },
      "source": [
        "def get_div(row):\n",
        "  x = ok.Asset(row.symbol)\n",
        "  div = x.dividends\n",
        "  div.index = div.index.to_timestamp()\n",
        "\n",
        "  div_value = div[:'2022-01'].last('12M').sum() if '2021' in div.index else float('nan')\n",
        "  forecast_div_value = div.last('12M').sum() if '2022' in div.index else float('nan')\n",
        "\n",
        "  row['ticker'] = row.symbol.split('.')[0]\n",
        "  row['div_value'] = div_value\n",
        "  row['forecast_div_value'] = forecast_div_value\n",
        "  row['inc'] = div_value / x.price * 100\n",
        "  row['forecast_inc'] = forecast_div_value / x.price * 100\n",
        "  row['name'] = x.name\n",
        "  print(row.to_dict())\n",
        "  return row\n",
        "\n",
        "new_data_df = tickers.apply(get_div, axis='columns', result_type='expand').round(2)\n",
        "new_data_df.head(5)"
      ],
      "execution_count": null,
      "outputs": [
        {
          "output_type": "stream",
          "name": "stdout",
          "text": [
            "{'symbol': 'LNZLP.MOEX', 'ticker': 'LNZLP', 'div_value': 3699.27, 'forecast_div_value': nan, 'inc': 189.70615384615382, 'forecast_inc': nan, 'name': 'Lena Gold-Mining Public Joint Stock Company Lenzoloto'}\n",
            "{'symbol': 'LNZL.MOEX', 'ticker': 'LNZL', 'div_value': 15219.5, 'forecast_div_value': nan, 'inc': 145.78065134099617, 'forecast_inc': nan, 'name': 'Lena Gold-Mining Public Joint Stock Company Lenzoloto'}\n"
          ]
        }
      ]
    },
    {
      "cell_type": "code",
      "metadata": {
        "id": "qup9RCr2XeA_"
      },
      "source": [
        "def get_prices(row):\n",
        "  x = ok.Asset(row.symbol)\n",
        "  prices = x.close_daily\n",
        "  prices.index = prices.index.to_timestamp()\n",
        "  row['price'] = x.price\n",
        "  row['30d_min'] = prices.last('30D').min()\n",
        "  row['30d_max'] = prices.last('30D').max()\n",
        "  row['30d_drowdown'] = x.price / row['30d_max'] * 100 - 100\n",
        "  row['365d_min'] = prices.last('365D').min()\n",
        "  row['365d_max'] = prices.last('365D').max()\n",
        "  row['365d_drowdown'] = x.price / row['365d_max'] * 100 - 100\n",
        "  print(row.to_dict())\n",
        "  return row\n",
        "\n",
        "new_data_df = new_data_df.apply(get_prices, axis='columns', result_type='expand').round(2)\n",
        "new_data_df.head(5)\n"
      ],
      "execution_count": null,
      "outputs": []
    },
    {
      "cell_type": "code",
      "metadata": {
        "id": "8hNCnAZHknyq"
      },
      "source": [
        "\n",
        "set_with_dataframe(sheet, new_data_df, include_index=False)"
      ],
      "execution_count": null,
      "outputs": []
    },
    {
      "cell_type": "code",
      "metadata": {
        "id": "kB40bkG2r8O_"
      },
      "source": [
        ""
      ],
      "execution_count": null,
      "outputs": []
    }
  ]
}