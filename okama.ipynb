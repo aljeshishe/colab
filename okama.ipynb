{
  "nbformat": 4,
  "nbformat_minor": 0,
  "metadata": {
    "kernelspec": {
      "display_name": "py39",
      "language": "python",
      "name": "py39"
    },
    "language_info": {
      "codemirror_mode": {
        "name": "ipython",
        "version": 3
      },
      "file_extension": ".py",
      "mimetype": "text/x-python",
      "name": "python",
      "nbconvert_exporter": "python",
      "pygments_lexer": "ipython3",
      "version": "3.9.1"
    },
    "colab": {
      "name": "okama.ipynb",
      "provenance": [],
      "include_colab_link": true
    }
  },
  "cells": [
    {
      "cell_type": "markdown",
      "metadata": {
        "id": "view-in-github",
        "colab_type": "text"
      },
      "source": [
        "<a href=\"https://colab.research.google.com/github/aljeshishe/colab/blob/main/okama.ipynb\" target=\"_parent\"><img src=\"https://colab.research.google.com/assets/colab-badge.svg\" alt=\"Open In Colab\"/></a>"
      ]
    },
    {
      "cell_type": "markdown",
      "metadata": {
        "id": "25YAoNbslUd7"
      },
      "source": [
        "<a href=\"https://colab.research.google.com/github/mbk-dev/okama/blob/master/examples/01%20howto.ipynb\"><img align=\"left\" src=\"https://colab.research.google.com/assets/colab-badge.svg\" alt=\"Open in Colab\" title=\"Open and Execute in Google Colaboratory\"></a>"
      ]
    },
    {
      "cell_type": "markdown",
      "metadata": {
        "id": "jx2wnnBMlUeE"
      },
      "source": [
        "You can run the code examples in [Google Colab](https://colab.research.google.com/github/mbk-dev/okama/blob/master/examples/01%20howto.ipynb)."
      ]
    },
    {
      "cell_type": "markdown",
      "metadata": {
        "id": "h1dWUfnMlUeG"
      },
      "source": [
        "**To install the package:**"
      ]
    },
    {
      "cell_type": "code",
      "metadata": {
        "id": "5S0co9PflUeH",
        "colab": {
          "base_uri": "https://localhost:8080/"
        },
        "outputId": "686a777d-031e-4bae-c2c7-cb652caf1a0c"
      },
      "source": [
        "!pip install -U okama plotly"
      ],
      "execution_count": 1,
      "outputs": [
        {
          "output_type": "stream",
          "name": "stdout",
          "text": [
            "Collecting okama\n",
            "  Downloading okama-1.1.0-py3-none-any.whl (80 kB)\n",
            "\u001b[?25l\r\u001b[K     |████                            | 10 kB 24.4 MB/s eta 0:00:01\r\u001b[K     |████████▏                       | 20 kB 27.6 MB/s eta 0:00:01\r\u001b[K     |████████████▏                   | 30 kB 18.7 MB/s eta 0:00:01\r\u001b[K     |████████████████▎               | 40 kB 16.1 MB/s eta 0:00:01\r\u001b[K     |████████████████████▎           | 51 kB 7.2 MB/s eta 0:00:01\r\u001b[K     |████████████████████████▍       | 61 kB 8.2 MB/s eta 0:00:01\r\u001b[K     |████████████████████████████▍   | 71 kB 7.7 MB/s eta 0:00:01\r\u001b[K     |████████████████████████████████| 80 kB 5.0 MB/s \n",
            "\u001b[?25hRequirement already satisfied: plotly in /usr/local/lib/python3.7/dist-packages (4.4.1)\n",
            "Collecting plotly\n",
            "  Downloading plotly-5.4.0-py2.py3-none-any.whl (25.3 MB)\n",
            "\u001b[K     |████████████████████████████████| 25.3 MB 68 kB/s \n",
            "\u001b[?25hRequirement already satisfied: scipy>=0.14.0 in /usr/local/lib/python3.7/dist-packages (from okama) (1.4.1)\n",
            "Requirement already satisfied: numpy>=1.16.5 in /usr/local/lib/python3.7/dist-packages (from okama) (1.19.5)\n",
            "Requirement already satisfied: pandas>=0.25.0 in /usr/local/lib/python3.7/dist-packages (from okama) (1.1.5)\n",
            "Requirement already satisfied: requests in /usr/local/lib/python3.7/dist-packages (from okama) (2.23.0)\n",
            "Requirement already satisfied: matplotlib in /usr/local/lib/python3.7/dist-packages (from okama) (3.2.2)\n",
            "Requirement already satisfied: python-dateutil>=2.7.3 in /usr/local/lib/python3.7/dist-packages (from pandas>=0.25.0->okama) (2.8.2)\n",
            "Requirement already satisfied: pytz>=2017.2 in /usr/local/lib/python3.7/dist-packages (from pandas>=0.25.0->okama) (2018.9)\n",
            "Requirement already satisfied: six>=1.5 in /usr/local/lib/python3.7/dist-packages (from python-dateutil>=2.7.3->pandas>=0.25.0->okama) (1.15.0)\n",
            "Collecting tenacity>=6.2.0\n",
            "  Downloading tenacity-8.0.1-py3-none-any.whl (24 kB)\n",
            "Requirement already satisfied: cycler>=0.10 in /usr/local/lib/python3.7/dist-packages (from matplotlib->okama) (0.11.0)\n",
            "Requirement already satisfied: kiwisolver>=1.0.1 in /usr/local/lib/python3.7/dist-packages (from matplotlib->okama) (1.3.2)\n",
            "Requirement already satisfied: pyparsing!=2.0.4,!=2.1.2,!=2.1.6,>=2.0.1 in /usr/local/lib/python3.7/dist-packages (from matplotlib->okama) (2.4.7)\n",
            "Requirement already satisfied: chardet<4,>=3.0.2 in /usr/local/lib/python3.7/dist-packages (from requests->okama) (3.0.4)\n",
            "Requirement already satisfied: idna<3,>=2.5 in /usr/local/lib/python3.7/dist-packages (from requests->okama) (2.10)\n",
            "Requirement already satisfied: urllib3!=1.25.0,!=1.25.1,<1.26,>=1.21.1 in /usr/local/lib/python3.7/dist-packages (from requests->okama) (1.24.3)\n",
            "Requirement already satisfied: certifi>=2017.4.17 in /usr/local/lib/python3.7/dist-packages (from requests->okama) (2021.10.8)\n",
            "Installing collected packages: tenacity, plotly, okama\n",
            "  Attempting uninstall: plotly\n",
            "    Found existing installation: plotly 4.4.1\n",
            "    Uninstalling plotly-4.4.1:\n",
            "      Successfully uninstalled plotly-4.4.1\n",
            "Successfully installed okama-1.1.0 plotly-5.4.0 tenacity-8.0.1\n"
          ]
        }
      ]
    },
    {
      "cell_type": "code",
      "metadata": {
        "id": "yhKY076DlUeN"
      },
      "source": [
        "import okama as ok\n",
        "import pandas as pd\n",
        "import matplotlib.pyplot as plt\n",
        "\n",
        "plt.rcParams['figure.figsize'] = [12.0, 6.0]\n",
        "pd.options.plotting.backend = 'plotly'\n",
        "pd.options.display.max_rows = None"
      ],
      "execution_count": 2,
      "outputs": []
    },
    {
      "cell_type": "code",
      "metadata": {
        "id": "MvYpPq3abEdy",
        "colab": {
          "base_uri": "https://localhost:8080/",
          "height": 110
        },
        "outputId": "4ebfbf00-4f8d-4d83-d414-39516c294d82"
      },
      "source": [
        "ok.search('LKOH')"
      ],
      "execution_count": 68,
      "outputs": [
        {
          "output_type": "execute_result",
          "data": {
            "text/html": [
              "<div>\n",
              "<style scoped>\n",
              "    .dataframe tbody tr th:only-of-type {\n",
              "        vertical-align: middle;\n",
              "    }\n",
              "\n",
              "    .dataframe tbody tr th {\n",
              "        vertical-align: top;\n",
              "    }\n",
              "\n",
              "    .dataframe thead th {\n",
              "        text-align: right;\n",
              "    }\n",
              "</style>\n",
              "<table border=\"1\" class=\"dataframe\">\n",
              "  <thead>\n",
              "    <tr style=\"text-align: right;\">\n",
              "      <th></th>\n",
              "      <th>symbol</th>\n",
              "      <th>ticker</th>\n",
              "      <th>name</th>\n",
              "      <th>country</th>\n",
              "      <th>exchange</th>\n",
              "      <th>currency</th>\n",
              "      <th>type</th>\n",
              "      <th>isin</th>\n",
              "    </tr>\n",
              "  </thead>\n",
              "  <tbody>\n",
              "    <tr>\n",
              "      <th>0</th>\n",
              "      <td>LKOH.LSE</td>\n",
              "      <td>LKOH</td>\n",
              "      <td>PJSC LUKOIL</td>\n",
              "      <td>UK</td>\n",
              "      <td>LSE</td>\n",
              "      <td>USD</td>\n",
              "      <td>Common Stock</td>\n",
              "      <td>RU0009024277</td>\n",
              "    </tr>\n",
              "    <tr>\n",
              "      <th>1</th>\n",
              "      <td>LKOH.MOEX</td>\n",
              "      <td>LKOH</td>\n",
              "      <td>PJSC LUKOIL</td>\n",
              "      <td>Russia</td>\n",
              "      <td>MOEX</td>\n",
              "      <td>RUB</td>\n",
              "      <td>Common Stock</td>\n",
              "      <td>RU0009024277</td>\n",
              "    </tr>\n",
              "  </tbody>\n",
              "</table>\n",
              "</div>"
            ],
            "text/plain": [
              "      symbol ticker         name  ... currency          type          isin\n",
              "0   LKOH.LSE   LKOH  PJSC LUKOIL  ...      USD  Common Stock  RU0009024277\n",
              "1  LKOH.MOEX   LKOH  PJSC LUKOIL  ...      RUB  Common Stock  RU0009024277\n",
              "\n",
              "[2 rows x 8 columns]"
            ]
          },
          "metadata": {},
          "execution_count": 68
        }
      ]
    },
    {
      "cell_type": "code",
      "metadata": {
        "id": "p7Ex5ntDzfea",
        "colab": {
          "base_uri": "https://localhost:8080/"
        },
        "outputId": "d4df45a8-b6aa-4809-d854-3cf80b58a453"
      },
      "source": [
        "ok.Asset('LNZLP.MOEX').price"
      ],
      "execution_count": 33,
      "outputs": [
        {
          "output_type": "execute_result",
          "data": {
            "text/plain": [
              "2105.0"
            ]
          },
          "metadata": {},
          "execution_count": 33
        }
      ]
    },
    {
      "cell_type": "code",
      "metadata": {
        "id": "xpMR36PCuuy_",
        "colab": {
          "base_uri": "https://localhost:8080/"
        },
        "outputId": "f42a7fdb-fc46-4b81-ed46-7bcc6f9bde6d"
      },
      "source": [
        "ok.Asset('STSBP.MOEX').dividends.tail(50)"
      ],
      "execution_count": 5,
      "outputs": [
        {
          "output_type": "execute_result",
          "data": {
            "text/plain": [
              "Date\n",
              "2017-06    0.0229\n",
              "2017-07    0.0000\n",
              "2017-08    0.0000\n",
              "2017-09    0.0000\n",
              "2017-10    0.0000\n",
              "2017-11    0.0000\n",
              "2017-12    0.0000\n",
              "2018-01    0.0000\n",
              "2018-02    0.0000\n",
              "2018-03    0.0000\n",
              "2018-04    0.0000\n",
              "2018-05    0.0000\n",
              "2018-06    0.0244\n",
              "2018-07    0.0000\n",
              "2018-08    0.0000\n",
              "2018-09    0.0000\n",
              "2018-10    0.0000\n",
              "2018-11    0.0000\n",
              "2018-12    0.0000\n",
              "2019-01    0.0000\n",
              "2019-02    0.0000\n",
              "2019-03    0.0000\n",
              "2019-04    0.0000\n",
              "2019-05    0.0000\n",
              "2019-06    0.0000\n",
              "2019-07    0.0249\n",
              "2019-08    0.0000\n",
              "2019-09    0.0000\n",
              "2019-10    0.0000\n",
              "2019-11    0.0000\n",
              "2019-12    0.0000\n",
              "2020-01    0.0000\n",
              "2020-02    0.0000\n",
              "2020-03    0.0000\n",
              "2020-04    0.0000\n",
              "2020-05    0.0000\n",
              "2020-06    0.0000\n",
              "2020-07    0.0000\n",
              "2020-08    0.0288\n",
              "2020-09    0.0000\n",
              "2020-10    0.0000\n",
              "2020-11    0.0000\n",
              "2020-12    0.0000\n",
              "2021-01    0.0000\n",
              "2021-02    0.0000\n",
              "2021-03    0.0000\n",
              "2021-04    0.0000\n",
              "2021-05    0.0000\n",
              "2021-06    0.0000\n",
              "2021-07    0.0628\n",
              "Freq: M, Name: STSBP.MOEX, dtype: float64"
            ]
          },
          "metadata": {},
          "execution_count": 5
        }
      ]
    },
    {
      "cell_type": "code",
      "metadata": {
        "id": "lVFoQcm1PwxU",
        "outputId": "44cf409c-9797-4757-b8ac-699b0d64d100",
        "colab": {
          "base_uri": "https://localhost:8080/"
        }
      },
      "source": [
        "div = ok.Asset('LNZLP.MOEX').close_daily\n",
        "div.index = div.index.to_timestamp()\n",
        "div.last('30D')\n"
      ],
      "execution_count": 34,
      "outputs": [
        {
          "output_type": "execute_result",
          "data": {
            "text/plain": [
              "Date\n",
              "2021-10-18    2215.0\n",
              "2021-10-19    2215.0\n",
              "2021-10-20    2205.0\n",
              "2021-10-21    2180.0\n",
              "2021-10-22    2165.0\n",
              "2021-10-25    2140.0\n",
              "2021-10-26    2125.0\n",
              "2021-10-27    2115.0\n",
              "2021-10-28    2120.0\n",
              "2021-10-29    2120.0\n",
              "2021-11-01    2115.0\n",
              "2021-11-02    2115.0\n",
              "2021-11-03    2115.0\n",
              "2021-11-05    2105.0\n",
              "2021-11-08    2105.0\n",
              "2021-11-09    2105.0\n",
              "2021-11-10    2095.0\n",
              "2021-11-11    2160.0\n",
              "2021-11-12    2130.0\n",
              "2021-11-15    2105.0\n",
              "2021-11-16    2095.0\n",
              "Name: LNZLP.MOEX, dtype: float64"
            ]
          },
          "metadata": {},
          "execution_count": 34
        }
      ]
    },
    {
      "cell_type": "code",
      "metadata": {
        "id": "2gPiuTDnU1zh",
        "outputId": "259cdaf8-205c-435e-ed4f-690105a89c84",
        "colab": {
          "base_uri": "https://localhost:8080/"
        }
      },
      "source": [
        "\n",
        "div.last('30D').max()"
      ],
      "execution_count": 35,
      "outputs": [
        {
          "output_type": "execute_result",
          "data": {
            "text/plain": [
              "2215.0"
            ]
          },
          "metadata": {},
          "execution_count": 35
        }
      ]
    },
    {
      "cell_type": "code",
      "metadata": {
        "id": "8EokZB7txFpz",
        "outputId": "7941fa18-46ca-4f59-f229-0410a331b561",
        "colab": {
          "base_uri": "https://localhost:8080/"
        }
      },
      "source": [
        "ok.Asset('NLMK.MOEX').price\n"
      ],
      "execution_count": 18,
      "outputs": [
        {
          "output_type": "execute_result",
          "data": {
            "text/plain": [
              "223.8"
            ]
          },
          "metadata": {},
          "execution_count": 18
        }
      ]
    },
    {
      "cell_type": "code",
      "metadata": {
        "id": "Z0K19LZ6sclU"
      },
      "source": [
        "# ok.symbols_in_namespace('MOEX').iterrows()\n",
        "symbols = ['LNZLP.MOEX', 'LNZL.MOEX', 'NLMK.MOEX', 'MTLRP.MOEX', 'CHMF.MOEX', 'MAGN.MOEX', 'NKNCP.MOEX', 'STSBP.MOEX', 'GMKN.MOEX', 'KGKCP.MOEX', 'MVID.MOEX', 'QIWI.MOEX', 'MRSB.MOEX', 'RASP.MOEX', 'WTCMP.MOEX', 'UPRO.MOEX', 'TATNP.MOEX', 'OGKB.MOEX', 'NKNC.MOEX', 'GAZP.MOEX', 'WTCM.MOEX', 'LKOH.MOEX', 'MTSS.MOEX', 'VTBR.MOEX', 'ALRS.MOEX', 'TATN.MOEX', 'MRKC.MOEX', 'LSNGP.MOEX', 'RGSS.MOEX', 'MSRS.MOEX', 'PHOR.MOEX', 'LSRG.MOEX', 'BANEP.MOEX', 'RSTIP.MOEX', 'KRKNP.MOEX', 'SIBN.MOEX', 'ENRU.MOEX', 'KGKC.MOEX', 'MGTSP.MOEX', 'FEES.MOEX', 'AGRO.MOEX', 'DSKY.MOEX', 'POLY.MOEX', 'SBERP.MOEX', 'TRNFP.MOEX', 'MRKP.MOEX', 'RSTI.MOEX', 'NMTP.MOEX', 'SNGSP.MOEX', 'HYDR.MOEX', 'PMSBP.MOEX', 'BANE.MOEX', 'SBER.MOEX', 'EELT.MOEX', 'GLTR.MOEX', 'RZSB.MOEX', 'AKRN.MOEX', 'PMSB.MOEX', 'KZOS.MOEX', 'RDRB.MOEX', 'ROSN.MOEX', 'TTLK.MOEX', 'RTKMP.MOEX', 'NKHP.MOEX', 'MOEX.MOEX', 'KRSBP.MOEX', 'HIMCP.MOEX', 'GCHE.MOEX', 'MSNG.MOEX', 'BSPB.MOEX', 'RTKM.MOEX', 'MGTS.MOEX', 'VSMO.MOEX', 'TRMK.MOEX', 'MDMG.MOEX', 'IRAO.MOEX', 'NVTK.MOEX', 'KRSB.MOEX', 'DIOD.MOEX', 'BISVP.MOEX', 'BELU.MOEX', 'KAZT.MOEX', 'KAZTP.MOEX', 'FLOT.MOEX', 'PRMB.MOEX', 'ASSB.MOEX', 'ARSA.MOEX', 'KBSB.MOEX', 'PIKK.MOEX', 'PLZL.MOEX', 'SELG.MOEX', 'LSNG.MOEX', 'SELGP.MOEX', 'AQUA.MOEX', 'MGNT.MOEX', 'INGR.MOEX', 'FIXP.MOEX', 'VLHZ.MOEX', 'ABRD.MOEX', 'KZOSP.MOEX', 'AFKS.MOEX', 'SMLT.MOEX', 'SNGS.MOEX', 'LVHK.MOEX', 'TCSG.MOEX', 'HHRU.MOEX', 'CNTLP.MOEX', 'YAKG.MOEX', 'KMAZ.MOEX', 'FIVE.MOEX', 'JNOSP.MOEX', 'KROTP.MOEX', 'KROT.MOEX']"
      ],
      "execution_count": 7,
      "outputs": []
    },
    {
      "cell_type": "code",
      "metadata": {
        "id": "q7V1k3JRrpd8",
        "colab": {
          "base_uri": "https://localhost:8080/"
        },
        "outputId": "e4555f6c-719a-4b36-9c37-d9d6a40f9548"
      },
      "source": [
        "result = []\n",
        "for symbol in symbols:\n",
        "  x = ok.Asset(symbol)\n",
        "  div = x.dividends\n",
        "  div.index = div.index.to_timestamp()\n",
        "\n",
        "  div_value = div[:'2022-01'].last('12M').sum() if '2021' in div.index else float('nan')\n",
        "  forecast_div_value = div.last('12M').sum() if '2022' in div.index else float('nan')\n",
        "\n",
        "  data = dict(ticker=symbol.split('.')[0],\n",
        "              symbol=symbol,\n",
        "              div_value=div_value,\n",
        "              forecast_div_value=forecast_div_value,\n",
        "              inc=div_value / x.price * 100,\n",
        "              forecast_inc=forecast_div_value / x.price * 100,\n",
        "              name=x.name)\n",
        "  print(data)\n",
        "  result.append(data)\n"
      ],
      "execution_count": 8,
      "outputs": [
        {
          "output_type": "stream",
          "name": "stdout",
          "text": [
            "{'ticker': 'LNZLP', 'symbol': 'LNZLP.MOEX', 'div_value': 3699.27, 'forecast_div_value': nan, 'inc': 175.32085308056872, 'forecast_inc': nan, 'name': 'Lena Gold-Mining Public Joint Stock Company Lenzoloto'}\n",
            "{'ticker': 'LNZL', 'symbol': 'LNZL.MOEX', 'div_value': 15219.5, 'forecast_div_value': nan, 'inc': 138.35909090909092, 'forecast_inc': nan, 'name': 'Lena Gold-Mining Public Joint Stock Company Lenzoloto'}\n",
            "{'ticker': 'NLMK', 'symbol': 'NLMK.MOEX', 'div_value': 41.91, 'forecast_div_value': 44.14, 'inc': 18.874977481534856, 'forecast_inc': 19.87930102684201, 'name': 'Public Joint Stock Company \"Novolipetsk Steel\"'}\n",
            "{'ticker': 'MTLRP', 'symbol': 'MTLRP.MOEX', 'div_value': 1.17, 'forecast_div_value': 58.89, 'inc': 0.37717601547388785, 'forecast_inc': 18.984526112185687, 'name': 'Mechel PAO'}\n",
            "{'ticker': 'CHMF', 'symbol': 'CHMF.MOEX', 'div_value': 253.42000000000002, 'forecast_div_value': 320.3, 'inc': 15.1766678644149, 'forecast_inc': 19.181937956641516, 'name': 'Public Joint Stock Company Severstal'}\n",
            "{'ticker': 'MAGN', 'symbol': 'MAGN.MOEX', 'div_value': 8.925, 'forecast_div_value': 11.96, 'inc': 14.439411098527746, 'forecast_inc': 19.349619802620936, 'name': 'Public Joint Stock Company Magnitogorsk Iron & Steel Works'}\n",
            "{'ticker': 'NKNCP', 'symbol': 'NKNCP.MOEX', 'div_value': 10.27, 'forecast_div_value': 15.899999999999999, 'inc': 10.025380710659897, 'forecast_inc': 15.521280749707145, 'name': 'Public Joint Stock Company Nizhnekamskneftekhim'}\n",
            "{'ticker': 'STSBP', 'symbol': 'STSBP.MOEX', 'div_value': 0.09159999999999999, 'forecast_div_value': nan, 'inc': 15.266666666666664, 'forecast_inc': nan, 'name': 'Stavropolenergosbyt Public Joint-Stock Company'}\n",
            "{'ticker': 'GMKN', 'symbol': 'GMKN.MOEX', 'div_value': 3376.26, 'forecast_div_value': 3268.45, 'inc': 14.923355728429987, 'forecast_inc': 14.446826379066477, 'name': 'Public Joint Stock Company Mining and Metallurgical Company Norilsk Nickel'}\n",
            "{'ticker': 'KGKCP', 'symbol': 'KGKCP.MOEX', 'div_value': 6.8491, 'forecast_div_value': nan, 'inc': 14.209751037344398, 'forecast_inc': nan, 'name': 'Public Joint Stock Company Kurgan Generation Company'}\n",
            "{'ticker': 'MVID', 'symbol': 'MVID.MOEX', 'div_value': 73.0, 'forecast_div_value': 77.88, 'inc': 12.54080054973372, 'forecast_inc': 13.379144476894004, 'name': 'Public Joint Stock Company M.video'}\n",
            "{'ticker': 'QIWI', 'symbol': 'QIWI.MOEX', 'div_value': 83.82, 'forecast_div_value': 83.65, 'inc': 12.975232198142415, 'forecast_inc': 12.948916408668731, 'name': 'QIWI plc'}\n",
            "{'ticker': 'MRSB', 'symbol': 'MRSB.MOEX', 'div_value': 0.0595, 'forecast_div_value': nan, 'inc': 12.142857142857142, 'forecast_inc': nan, 'name': 'Mordovia Energy Retail Company Public Joint-Stock Company'}\n",
            "{'ticker': 'RASP', 'symbol': 'RASP.MOEX', 'div_value': 28.7, 'forecast_div_value': 54.54, 'inc': 6.8993701620270205, 'forecast_inc': 13.111207269580266, 'name': 'Public Joint Stock Company Raspadskaya'}\n",
            "{'ticker': 'WTCMP', 'symbol': 'WTCMP.MOEX', 'div_value': 1.1246, 'forecast_div_value': nan, 'inc': 12.750566893424036, 'forecast_inc': nan, 'name': 'Joint Stock Company \"World Trade Center Moscow\" RUB1 PRF(USD)'}\n",
            "{'ticker': 'UPRO', 'symbol': 'UPRO.MOEX', 'div_value': 0.31720000000000004, 'forecast_div_value': 0.3489, 'inc': 11.369175627240145, 'forecast_inc': 12.505376344086022, 'name': 'Public Joint-Stock Company Unipro'}\n",
            "{'ticker': 'TATNP', 'symbol': 'TATNP.MOEX', 'div_value': 40.59, 'forecast_div_value': 60.33, 'inc': 8.428156146179402, 'forecast_inc': 12.526993355481727, 'name': 'PJSC Tatneft'}\n",
            "{'ticker': 'OGKB', 'symbol': 'OGKB.MOEX', 'div_value': 0.06, 'forecast_div_value': 0.0834, 'inc': 8.695652173913043, 'forecast_inc': 12.08695652173913, 'name': 'Public Joint-Stock Company \"Second Generating Company of the Electric Power Wholesale Market\"'}\n",
            "{'ticker': 'NKNC', 'symbol': 'NKNC.MOEX', 'div_value': 10.27, 'forecast_div_value': 15.899999999999999, 'inc': 7.830728173846739, 'forecast_inc': 12.123522683949673, 'name': 'Public Joint Stock Company Nizhnekamskneftekhim'}\n",
            "{'ticker': 'GAZP', 'symbol': 'GAZP.MOEX', 'div_value': 12.55, 'forecast_div_value': 39.58, 'inc': 3.7390138537166697, 'forecast_inc': 11.792045285267392, 'name': 'Public Joint Stock Company Gazprom'}\n",
            "{'ticker': 'WTCM', 'symbol': 'WTCM.MOEX', 'div_value': 1.1246, 'forecast_div_value': nan, 'inc': 11.788259958071281, 'forecast_inc': nan, 'name': 'Joint Stock Company \"World Trade Center Moscow\"'}\n",
            "{'ticker': 'LKOH', 'symbol': 'LKOH.MOEX', 'div_value': 553.0, 'forecast_div_value': 772.98, 'inc': 7.957407007698396, 'forecast_inc': 11.122814590977768, 'name': 'PJSC LUKOIL'}\n",
            "{'ticker': 'MTSS', 'symbol': 'MTSS.MOEX', 'div_value': 37.06, 'forecast_div_value': 36.0, 'inc': 11.648593430771651, 'forecast_inc': 11.315417256011315, 'name': 'Mobile TeleSystems Public Joint Stock Company'}\n",
            "{'ticker': 'VTBR', 'symbol': 'VTBR.MOEX', 'div_value': 0.0014, 'forecast_div_value': 0.0057, 'inc': 2.8, 'forecast_inc': 11.4, 'name': 'VTB Bank (public joint-stock company)'}\n",
            "{'ticker': 'ALRS', 'symbol': 'ALRS.MOEX', 'div_value': 18.33, 'forecast_div_value': 14.72, 'inc': 13.850687622789781, 'forecast_inc': 11.122865346833914, 'name': 'Public Joint Stock Company ALROSA'}\n",
            "{'ticker': 'TATN', 'symbol': 'TATN.MOEX', 'div_value': 40.59, 'forecast_div_value': 60.33, 'inc': 7.586915887850468, 'forecast_inc': 11.276635514018691, 'name': 'PJSC Tatneft'}\n",
            "{'ticker': 'MRKC', 'symbol': 'MRKC.MOEX', 'div_value': 0.0335, 'forecast_div_value': 0.0452, 'inc': 7.976190476190477, 'forecast_inc': 10.761904761904761, 'name': 'Interregional Distribution Grid Company of Centre Public Joint Stock Company'}\n",
            "{'ticker': 'LSNGP', 'symbol': 'LSNGP.MOEX', 'div_value': 15.17, 'forecast_div_value': 19.99, 'inc': 8.355824841641422, 'forecast_inc': 11.010740842743044, 'name': 'Public Joint stock company Rosseti Lenenergo'}\n",
            "{'ticker': 'RGSS', 'symbol': 'RGSS.MOEX', 'div_value': 0.025, 'forecast_div_value': nan, 'inc': 10.869565217391305, 'forecast_inc': nan, 'name': 'Rosgosstrakh Insurance Company (Public Joint Stock Company)'}\n",
            "{'ticker': 'MSRS', 'symbol': 'MSRS.MOEX', 'div_value': 0.0493, 'forecast_div_value': 0.1457, 'inc': 3.7067669172932325, 'forecast_inc': 10.954887218045112, 'name': 'Public Joint-Stock Company \"Rosseti Moscow Region\"'}\n",
            "{'ticker': 'PHOR', 'symbol': 'PHOR.MOEX', 'div_value': 558.0, 'forecast_div_value': 615.5899999999999, 'inc': 9.637305699481866, 'forecast_inc': 10.63195164075993, 'name': 'Public Joint-Stock Company PhosAgro'}\n",
            "{'ticker': 'LSRG', 'symbol': 'LSRG.MOEX', 'div_value': 39.0, 'forecast_div_value': 78.0, 'inc': 5.297473512632436, 'forecast_inc': 10.594947025264872, 'name': 'PJSC LSR Group'}\n",
            "{'ticker': 'BANEP', 'symbol': 'BANEP.MOEX', 'div_value': 0.1, 'forecast_div_value': 118.4, 'inc': 0.008908685968819599, 'forecast_inc': 10.547884187082406, 'name': 'Public Joint Stock Oil Company Bashneft'}\n",
            "{'ticker': 'RSTIP', 'symbol': 'RSTIP.MOEX', 'div_value': 0.0588, 'forecast_div_value': 0.2008, 'inc': 3.0309278350515463, 'forecast_inc': 10.350515463917526, 'name': 'Rosseti Public Joint Stock Company'}\n",
            "{'ticker': 'KRKNP', 'symbol': 'KRKNP.MOEX', 'div_value': 1132.93, 'forecast_div_value': 1582.2, 'inc': 7.054358655043587, 'forecast_inc': 9.851805728518057, 'name': 'Public Joint Stock Company Saratov Oil Refinery'}\n",
            "{'ticker': 'SIBN', 'symbol': 'SIBN.MOEX', 'div_value': 10.0, 'forecast_div_value': 12.34, 'inc': 1.9349845201238391, 'forecast_inc': 2.3877708978328176, 'name': 'Public Joint Stock Company Gazprom Neft'}\n",
            "{'ticker': 'ENRU', 'symbol': 'ENRU.MOEX', 'div_value': 0.0, 'forecast_div_value': 0.085, 'inc': 0.0, 'forecast_inc': 9.55056179775281, 'name': 'Public Joint-Stock Company Enel Russia'}\n",
            "{'ticker': 'KGKC', 'symbol': 'KGKC.MOEX', 'div_value': 4.5074000000000005, 'forecast_div_value': nan, 'inc': 9.351452282157677, 'forecast_inc': nan, 'name': 'Public Joint Stock Company Kurgan Generation Company'}\n",
            "{'ticker': 'MGTSP', 'symbol': 'MGTSP.MOEX', 'div_value': 154.0, 'forecast_div_value': 132.28, 'inc': 11.175616835994195, 'forecast_inc': 9.599419448476052, 'name': 'Public Joint Stock Company Moscow City Telephone Network'}\n",
            "{'ticker': 'FEES', 'symbol': 'FEES.MOEX', 'div_value': 0.0161, 'forecast_div_value': 0.0165, 'inc': 8.944444444444445, 'forecast_inc': 9.166666666666668, 'name': 'Public Joint-Stock Company Federal Grid Company of Unified Energy System'}\n",
            "{'ticker': 'AGRO', 'symbol': 'AGRO.MOEX', 'div_value': 144.97, 'forecast_div_value': 105.9, 'inc': 12.348381601362862, 'forecast_inc': 9.020442930153322, 'name': 'Ros Agro PLC'}\n",
            "{'ticker': 'DSKY', 'symbol': 'DSKY.MOEX', 'div_value': 11.27, 'forecast_div_value': 12.780000000000001, 'inc': 8.052300657330665, 'forecast_inc': 9.131180337239211, 'name': 'Public Joint Stock Company Detsky Mir'}\n",
            "{'ticker': 'POLY', 'symbol': 'POLY.MOEX', 'div_value': 99.16, 'forecast_div_value': 124.41, 'inc': 6.720433751270756, 'forecast_inc': 8.431718061674008, 'name': 'Polymetal International plc'}\n",
            "{'ticker': 'SBERP', 'symbol': 'SBERP.MOEX', 'div_value': 18.7, 'forecast_div_value': 28.06, 'inc': 6.043956043956044, 'forecast_inc': 9.069166127989657, 'name': 'Sberbank of Russia'}\n",
            "{'ticker': 'TRNFP', 'symbol': 'TRNFP.MOEX', 'div_value': 9224.28, 'forecast_div_value': 13046.03, 'inc': 6.129089700996678, 'forecast_inc': 8.668458471760799, 'name': 'Public Joint Stock Company Transneft'}\n",
            "{'ticker': 'MRKP', 'symbol': 'MRKP.MOEX', 'div_value': 0.0259, 'forecast_div_value': 0.0228, 'inc': 9.96153846153846, 'forecast_inc': 8.76923076923077, 'name': 'Interregional Distribution Grid Company of Center and Volga Region Public Joint Stock Company'}\n",
            "{'ticker': 'RSTI', 'symbol': 'RSTI.MOEX', 'div_value': 0.0245, 'forecast_div_value': 0.1142, 'inc': 1.7625899280575543, 'forecast_inc': 8.215827338129497, 'name': 'Rosseti Public Joint Stock Company'}\n",
            "{'ticker': 'NMTP', 'symbol': 'NMTP.MOEX', 'div_value': 0.06, 'forecast_div_value': 0.6263, 'inc': 0.8310249307479225, 'forecast_inc': 8.674515235457063, 'name': 'Public Joint Stock Company Novorossiysk Commercial Sea Port'}\n",
            "{'ticker': 'SNGSP', 'symbol': 'SNGSP.MOEX', 'div_value': 6.72, 'forecast_div_value': 3.23, 'inc': 16.837885241794037, 'forecast_inc': 8.093209721874217, 'name': 'Surgutneftegas Public Joint Stock Company'}\n",
            "{'ticker': 'HYDR', 'symbol': 'HYDR.MOEX', 'div_value': 0.053, 'forecast_div_value': 0.0667, 'inc': 6.463414634146342, 'forecast_inc': 8.134146341463415, 'name': 'Public Joint-Stock Company Federal Hydro-Generating Company - RusHydro'}\n",
            "{'ticker': 'PMSBP', 'symbol': 'PMSBP.MOEX', 'div_value': 12.5, 'forecast_div_value': nan, 'inc': 8.169934640522875, 'forecast_inc': nan, 'name': 'Public Joint Stock Company Perm Energy Supplying Company'}\n",
            "{'ticker': 'BANE', 'symbol': 'BANE.MOEX', 'div_value': 0.0, 'forecast_div_value': 118.4, 'inc': 0.0, 'forecast_inc': 7.830687830687831, 'name': 'Public Joint Stock Oil Company Bashneft'}\n",
            "{'ticker': 'SBER', 'symbol': 'SBER.MOEX', 'div_value': 18.7, 'forecast_div_value': 28.06, 'inc': 5.53877139979859, 'forecast_inc': 8.311119009537348, 'name': 'Sberbank of Russia'}\n",
            "{'ticker': 'EELT', 'symbol': 'EELT.MOEX', 'div_value': 0.5885, 'forecast_div_value': nan, 'inc': 8.017711171662127, 'forecast_inc': nan, 'name': 'European Eltech Public Joint Stock Company'}\n",
            "{'ticker': 'GLTR', 'symbol': 'GLTR.MOEX', 'div_value': 50.24, 'forecast_div_value': 47.730000000000004, 'inc': 8.411183659802447, 'forecast_inc': 7.990959316926169, 'name': 'Globaltrans Investment Plc'}\n",
            "{'ticker': 'RZSB', 'symbol': 'RZSB.MOEX', 'div_value': 1.4517, 'forecast_div_value': nan, 'inc': 7.796455424274972, 'forecast_inc': nan, 'name': 'Joint-Stock Company Ryazanenergosbyt'}\n",
            "{'ticker': 'AKRN', 'symbol': 'AKRN.MOEX', 'div_value': 780.0, 'forecast_div_value': 1159.43, 'inc': 6.345590628050765, 'forecast_inc': 9.43239505369346, 'name': 'Public Joint Stock Company Acron'}\n",
            "{'ticker': 'PMSB', 'symbol': 'PMSB.MOEX', 'div_value': 12.5, 'forecast_div_value': nan, 'inc': 7.961783439490445, 'forecast_inc': nan, 'name': 'Public Joint Stock Company Perm Energy Supplying Company'}\n",
            "{'ticker': 'KZOS', 'symbol': 'KZOS.MOEX', 'div_value': 9.11, 'forecast_div_value': 7.58, 'inc': 9.46985446985447, 'forecast_inc': 7.87941787941788, 'name': 'Kazan Public Joint Stock Company Organichesky sintez'}\n",
            "{'ticker': 'RDRB', 'symbol': 'RDRB.MOEX', 'div_value': 17.3136, 'forecast_div_value': nan, 'inc': 7.660884955752214, 'forecast_inc': nan, 'name': 'The Russian Public Joint-Stock Commercial Roads Bank (Public joint-stock company)'}\n",
            "{'ticker': 'ROSN', 'symbol': 'ROSN.MOEX', 'div_value': 24.970000000000002, 'forecast_div_value': 54.8, 'inc': 4.012211777938459, 'forecast_inc': 8.805334618783641, 'name': 'Public Joint Stock Company Rosneft Oil Company'}\n",
            "{'ticker': 'TTLK', 'symbol': 'TTLK.MOEX', 'div_value': 0.0393, 'forecast_div_value': 0.0447, 'inc': 6.046153846153846, 'forecast_inc': 6.8769230769230765, 'name': 'Tattelecom Public Joint-Stock Company'}\n",
            "{'ticker': 'RTKMP', 'symbol': 'RTKMP.MOEX', 'div_value': 5.0, 'forecast_div_value': 6.0, 'inc': 5.977286312014345, 'forecast_inc': 7.172743574417215, 'name': 'Public Joint Stock Company Rostelecom'}\n",
            "{'ticker': 'NKHP', 'symbol': 'NKHP.MOEX', 'div_value': 23.17, 'forecast_div_value': 24.6, 'inc': 6.6676258992805755, 'forecast_inc': 7.079136690647482, 'name': 'Public Joint Stock Company Novorossyisk Grain Plant'}\n",
            "{'ticker': 'MOEX', 'symbol': 'MOEX.MOEX', 'div_value': 9.45, 'forecast_div_value': 11.94, 'inc': 5.603320486214052, 'forecast_inc': 7.079750963533946, 'name': 'Public Joint-Stock Company Moscow Exchange MICEX-RTS'}\n",
            "{'ticker': 'KRSBP', 'symbol': 'KRSBP.MOEX', 'div_value': 0.6471, 'forecast_div_value': nan, 'inc': 6.973060344827586, 'forecast_inc': nan, 'name': 'Public Joint Stock Company Krasnoyarskenergosbyt'}\n",
            "{'ticker': 'HIMCP', 'symbol': 'HIMCP.MOEX', 'div_value': 0.5605, 'forecast_div_value': 0.7954, 'inc': 4.955791335101679, 'forecast_inc': 7.032714412024757, 'name': 'Khimprom Public Joint stock company'}\n",
            "{'ticker': 'GCHE', 'symbol': 'GCHE.MOEX', 'div_value': 219.26999999999998, 'forecast_div_value': 231.88, 'inc': 6.172273047149894, 'forecast_inc': 6.527234342012667, 'name': 'Public Joint Stock Company \"Cherkizovo Group\"'}\n",
            "{'ticker': 'MSNG', 'symbol': 'MSNG.MOEX', 'div_value': 0.1794, 'forecast_div_value': 0.1477, 'inc': 8.117647058823529, 'forecast_inc': 6.683257918552036, 'name': 'Public Joint Stock Company Mosenergo'}\n",
            "{'ticker': 'BSPB', 'symbol': 'BSPB.MOEX', 'div_value': 4.56, 'forecast_div_value': 6.1, 'inc': 4.978709466098918, 'forecast_inc': 6.660115733158641, 'name': '\"Bank \"Saint-Petersburg\" Public Joint-Stock Company'}\n",
            "{'ticker': 'RTKM', 'symbol': 'RTKM.MOEX', 'div_value': 5.0, 'forecast_div_value': 6.0, 'inc': 5.405405405405405, 'forecast_inc': 6.486486486486487, 'name': 'Public Joint Stock Company Rostelecom'}\n",
            "{'ticker': 'MGTS', 'symbol': 'MGTS.MOEX', 'div_value': 154.0, 'forecast_div_value': 132.28, 'inc': 6.875000000000001, 'forecast_inc': 5.9053571428571425, 'name': 'Public Joint Stock Company Moscow City Telephone Network'}\n",
            "{'ticker': 'VSMO', 'symbol': 'VSMO.MOEX', 'div_value': 1129.63, 'forecast_div_value': 1970.79, 'inc': 2.5545680687471735, 'forecast_inc': 4.456784260515604, 'name': 'public stock company VSMPO-AVISMA Corporation'}\n",
            "{'ticker': 'TRMK', 'symbol': 'TRMK.MOEX', 'div_value': 29.380000000000003, 'forecast_div_value': 4.5, 'inc': 35.20249221183801, 'forecast_inc': 5.391804457225018, 'name': 'PAO TMK'}\n",
            "{'ticker': 'MDMG', 'symbol': 'MDMG.MOEX', 'div_value': 37.39, 'forecast_div_value': 44.45, 'inc': 4.373610948648965, 'forecast_inc': 5.199438530822318, 'name': 'MD Medical Group Investments Plc'}\n",
            "{'ticker': 'IRAO', 'symbol': 'IRAO.MOEX', 'div_value': 0.1807, 'forecast_div_value': 0.2439, 'inc': 3.8202959830866807, 'forecast_inc': 5.15644820295983, 'name': 'Public Joint Stock Company Inter RAO UES'}\n",
            "{'ticker': 'NVTK', 'symbol': 'NVTK.MOEX', 'div_value': 51.41, 'forecast_div_value': 91.18, 'inc': 2.902224229423055, 'forecast_inc': 5.14734108614655, 'name': 'PAO NOVATEK'}\n",
            "{'ticker': 'KRSB', 'symbol': 'KRSB.MOEX', 'div_value': 0.6471, 'forecast_div_value': 0.455, 'inc': 7.378563283922464, 'forecast_inc': 5.188141391106043, 'name': 'Public Joint Stock Company Krasnoyarskenergosbyt'}\n",
            "{'ticker': 'DIOD', 'symbol': 'DIOD.MOEX', 'div_value': 0.65, 'forecast_div_value': 0.43, 'inc': 7.63807285546416, 'forecast_inc': 5.052878965922444, 'name': 'DIOD Maker of Eco-Friendly Equipment and Nutrition Public Joint Stock Company'}\n",
            "{'ticker': 'BISVP', 'symbol': 'BISVP.MOEX', 'div_value': 0.264, 'forecast_div_value': 0.3969, 'inc': 3.1428571428571432, 'forecast_inc': 4.725, 'name': \"Public Joint-Stock Company Bashinformsvyaz RUB1 PRF'A'(USD)\"}\n",
            "{'ticker': 'BELU', 'symbol': 'BELU.MOEX', 'div_value': 162.76, 'forecast_div_value': 182.64, 'inc': 4.220954356846473, 'forecast_inc': 4.736514522821576, 'name': 'Beluga Group Public Joint-Stock Company'}\n",
            "{'ticker': 'KAZT', 'symbol': 'KAZT.MOEX', 'div_value': 18.85, 'forecast_div_value': 17.0, 'inc': 4.986772486772487, 'forecast_inc': 4.497354497354497, 'name': 'Public Joint Stock Company KuibyshevAzot'}\n",
            "{'ticker': 'KAZTP', 'symbol': 'KAZTP.MOEX', 'div_value': 18.85, 'forecast_div_value': 17.0, 'inc': 4.696063776781266, 'forecast_inc': 4.235176880916792, 'name': 'Public Joint Stock Company KuibyshevAzot'}\n",
            "{'ticker': 'FLOT', 'symbol': 'FLOT.MOEX', 'div_value': 6.67, 'forecast_div_value': 3.05, 'inc': 7.928206347319625, 'forecast_inc': 3.625341733032212, 'name': 'Sovcomflot Pao'}\n",
            "{'ticker': 'PRMB', 'symbol': 'PRMB.MOEX', 'div_value': 1706.55, 'forecast_div_value': nan, 'inc': 3.878522727272727, 'forecast_inc': nan, 'name': 'Public joint-stock commercial bank Primorye'}\n",
            "{'ticker': 'ASSB', 'symbol': 'ASSB.MOEX', 'div_value': 0.0, 'forecast_div_value': 0.0388, 'inc': 0.0, 'forecast_inc': 4.217391304347826, 'name': 'Astrakhan Power Sale Company Public Joint-Stock Company'}\n",
            "{'ticker': 'ARSA', 'symbol': 'ARSA.MOEX', 'div_value': 0.36, 'forecast_div_value': nan, 'inc': 4.137931034482759, 'forecast_inc': nan, 'name': 'Arsagera Asset Management'}\n",
            "{'ticker': 'KBSB', 'symbol': 'KBSB.MOEX', 'div_value': 7.07, 'forecast_div_value': nan, 'inc': 4.503184713375797, 'forecast_inc': nan, 'name': 'Public Joint Stock Company \"TNS energo Kuban\"'}\n",
            "{'ticker': 'PIKK', 'symbol': 'PIKK.MOEX', 'div_value': 68.14, 'forecast_div_value': 45.22, 'inc': 6.191731031349387, 'forecast_inc': 4.109041344843253, 'name': 'Public Joint Stock Company PIK-specialized homebuilder'}\n",
            "{'ticker': 'PLZL', 'symbol': 'PLZL.MOEX', 'div_value': 654.63, 'forecast_div_value': 648.13, 'inc': 4.119371991316113, 'forecast_inc': 4.078469622125035, 'name': 'Public Joint Stock Company Polyus'}\n",
            "{'ticker': 'SELG', 'symbol': 'SELG.MOEX', 'div_value': 2.73, 'forecast_div_value': 2.73, 'inc': 3.979011805859204, 'forecast_inc': 3.979011805859204, 'name': 'Public Joint-Stock Company Seligdar'}\n",
            "{'ticker': 'LSNG', 'symbol': 'LSNG.MOEX', 'div_value': 0.2626, 'forecast_div_value': 0.3002, 'inc': 2.7876857749469215, 'forecast_inc': 3.1868365180467095, 'name': 'Public Joint stock company Rosseti Lenenergo'}\n",
            "{'ticker': 'SELGP', 'symbol': 'SELGP.MOEX', 'div_value': 2.25, 'forecast_div_value': 2.25, 'inc': 3.2846715328467155, 'forecast_inc': 3.2846715328467155, 'name': 'Public Joint-Stock Company Seligdar'}\n",
            "{'ticker': 'AQUA', 'symbol': 'AQUA.MOEX', 'div_value': 17.0, 'forecast_div_value': 18.0, 'inc': 3.071364046973803, 'forecast_inc': 3.2520325203252036, 'name': 'PJSC Russian Aquaculture'}\n",
            "{'ticker': 'MGNT', 'symbol': 'MGNT.MOEX', 'div_value': 539.6800000000001, 'forecast_div_value': 489.70000000000005, 'inc': 8.241905925473429, 'forecast_inc': 7.478619425778864, 'name': 'Public Joint Stock Company Magnit'}\n",
            "{'ticker': 'INGR', 'symbol': 'INGR.MOEX', 'div_value': 36.39, 'forecast_div_value': nan, 'inc': 2.7673003802281366, 'forecast_inc': nan, 'name': 'Public Joint Stock Company \"INGRAD\"'}\n",
            "{'ticker': 'FIXP', 'symbol': 'FIXP.MOEX', 'div_value': 11.69, 'forecast_div_value': 13.399999999999999, 'inc': 1.9663582842724978, 'forecast_inc': 2.2539949537426405, 'name': 'Fix Price Group Ltd.'}\n",
            "{'ticker': 'VLHZ', 'symbol': 'VLHZ.MOEX', 'div_value': 1.8, 'forecast_div_value': nan, 'inc': 2.0761245674740483, 'forecast_inc': nan, 'name': 'Public Joint Stock Company Vladimir Chemical Plant'}\n",
            "{'ticker': 'ABRD', 'symbol': 'ABRD.MOEX', 'div_value': 3.8899999999999997, 'forecast_div_value': nan, 'inc': 1.959697732997481, 'forecast_inc': nan, 'name': 'Public Joint Stock Company Abrau-Durso'}\n",
            "{'ticker': 'KZOSP', 'symbol': 'KZOSP.MOEX', 'div_value': 0.75, 'forecast_div_value': 0.5, 'inc': 2.7788069655427936, 'forecast_inc': 1.8525379770285293, 'name': 'Kazan Public Joint Stock Company Organichesky sintez'}\n",
            "{'ticker': 'AFKS', 'symbol': 'AFKS.MOEX', 'div_value': 0.31, 'forecast_div_value': 0.53, 'inc': 1.1260443152924082, 'forecast_inc': 1.9251725390483108, 'name': 'Sistema Public Joint Stock Financial Corporation'}\n",
            "{'ticker': 'SMLT', 'symbol': 'SMLT.MOEX', 'div_value': 82.0, 'forecast_div_value': 82.0, 'inc': 1.6984962094535812, 'forecast_inc': 1.6984962094535812, 'name': 'Samolet Group Public Joint Stock Company'}\n",
            "{'ticker': 'SNGS', 'symbol': 'SNGS.MOEX', 'div_value': 0.7, 'forecast_div_value': 0.6, 'inc': 1.558672901358272, 'forecast_inc': 1.3360053440213762, 'name': 'Surgutneftegas Public Joint Stock Company'}\n",
            "{'ticker': 'LVHK', 'symbol': 'LVHK.MOEX', 'div_value': 0.3, 'forecast_div_value': 0.2549, 'inc': 1.6703786191536747, 'forecast_inc': 1.4192650334075725, 'name': 'Levenhuk Inc'}\n",
            "{'ticker': 'TCSG', 'symbol': 'TCSG.MOEX', 'div_value': 17.51, 'forecast_div_value': 83.32, 'inc': 0.2391815102174626, 'forecast_inc': 1.1381269806578516, 'name': 'TCS Group Holding PLC'}\n",
            "{'ticker': 'HHRU', 'symbol': 'HHRU.MOEX', 'div_value': 40.33, 'forecast_div_value': 34.56, 'inc': 0.8676850258175559, 'forecast_inc': 0.7435456110154905, 'name': 'HeadHunter Group PLC'}\n",
            "{'ticker': 'CNTLP', 'symbol': 'CNTLP.MOEX', 'div_value': 0.25, 'forecast_div_value': 0.0496, 'inc': 2.5879917184265007, 'forecast_inc': 0.5134575569358177, 'name': 'Central Telegraph Public Joint Stock Company'}\n",
            "{'ticker': 'YAKG', 'symbol': 'YAKG.MOEX', 'div_value': 0.61, 'forecast_div_value': nan, 'inc': 0.4681504221028396, 'forecast_inc': nan, 'name': 'Public Joint Stock Company Yakutsk Fuel and Energy Company'}\n",
            "{'ticker': 'KMAZ', 'symbol': 'KMAZ.MOEX', 'div_value': 0.54, 'forecast_div_value': 0.4242, 'inc': 0.44591246903385634, 'forecast_inc': 0.35028901734104045, 'name': 'KAMAZ Publicly Traded Company'}\n",
            "{'ticker': 'FIVE', 'symbol': 'FIVE.MOEX', 'div_value': 2.5038, 'forecast_div_value': nan, 'inc': 0.10600338696020323, 'forecast_inc': nan, 'name': 'X5 Retail Group N.V'}\n",
            "{'ticker': 'JNOSP', 'symbol': 'JNOSP.MOEX', 'div_value': 0.01, 'forecast_div_value': nan, 'inc': 0.05567928730512249, 'forecast_inc': nan, 'name': 'Public Joint Stock Company Slavneft-Yaroslavnefteorgsintez'}\n",
            "{'ticker': 'KROTP', 'symbol': 'KROTP.MOEX', 'div_value': 0.13, 'forecast_div_value': nan, 'inc': 0.03851851851851852, 'forecast_inc': nan, 'name': 'Joint-Stock Company Krasnyj Octyabr RUB1 PRF(RUB)'}\n",
            "{'ticker': 'KROT', 'symbol': 'KROT.MOEX', 'div_value': 0.1, 'forecast_div_value': nan, 'inc': 0.02280501710376283, 'forecast_inc': nan, 'name': 'Public Joint-Stock Company Krasnyj Octyabr'}\n"
          ]
        }
      ]
    },
    {
      "cell_type": "code",
      "metadata": {
        "id": "kvov2K6efF67",
        "outputId": "2ffd1bf1-f8c8-4e93-9941-3315b6df9597",
        "colab": {
          "base_uri": "https://localhost:8080/",
          "height": 1000
        }
      },
      "source": [
        "forecast_div_df = pd.DataFrame(result).round(2).set_index(['ticker'])\n",
        "forecast_div_df"
      ],
      "execution_count": 32,
      "outputs": [
        {
          "output_type": "execute_result",
          "data": {
            "text/html": [
              "<div>\n",
              "<style scoped>\n",
              "    .dataframe tbody tr th:only-of-type {\n",
              "        vertical-align: middle;\n",
              "    }\n",
              "\n",
              "    .dataframe tbody tr th {\n",
              "        vertical-align: top;\n",
              "    }\n",
              "\n",
              "    .dataframe thead th {\n",
              "        text-align: right;\n",
              "    }\n",
              "</style>\n",
              "<table border=\"1\" class=\"dataframe\">\n",
              "  <thead>\n",
              "    <tr style=\"text-align: right;\">\n",
              "      <th></th>\n",
              "      <th>symbol</th>\n",
              "      <th>div_value</th>\n",
              "      <th>forecast_div_value</th>\n",
              "      <th>inc</th>\n",
              "      <th>forecast_inc</th>\n",
              "      <th>name</th>\n",
              "    </tr>\n",
              "    <tr>\n",
              "      <th>ticker</th>\n",
              "      <th></th>\n",
              "      <th></th>\n",
              "      <th></th>\n",
              "      <th></th>\n",
              "      <th></th>\n",
              "      <th></th>\n",
              "    </tr>\n",
              "  </thead>\n",
              "  <tbody>\n",
              "    <tr>\n",
              "      <th>LNZLP</th>\n",
              "      <td>LNZLP.MOEX</td>\n",
              "      <td>3699.27</td>\n",
              "      <td>NaN</td>\n",
              "      <td>175.32</td>\n",
              "      <td>NaN</td>\n",
              "      <td>Lena Gold-Mining Public Joint Stock Company Le...</td>\n",
              "    </tr>\n",
              "    <tr>\n",
              "      <th>LNZL</th>\n",
              "      <td>LNZL.MOEX</td>\n",
              "      <td>15219.50</td>\n",
              "      <td>NaN</td>\n",
              "      <td>138.36</td>\n",
              "      <td>NaN</td>\n",
              "      <td>Lena Gold-Mining Public Joint Stock Company Le...</td>\n",
              "    </tr>\n",
              "    <tr>\n",
              "      <th>NLMK</th>\n",
              "      <td>NLMK.MOEX</td>\n",
              "      <td>41.91</td>\n",
              "      <td>44.14</td>\n",
              "      <td>18.87</td>\n",
              "      <td>19.88</td>\n",
              "      <td>Public Joint Stock Company \"Novolipetsk Steel\"</td>\n",
              "    </tr>\n",
              "    <tr>\n",
              "      <th>MTLRP</th>\n",
              "      <td>MTLRP.MOEX</td>\n",
              "      <td>1.17</td>\n",
              "      <td>58.89</td>\n",
              "      <td>0.38</td>\n",
              "      <td>18.98</td>\n",
              "      <td>Mechel PAO</td>\n",
              "    </tr>\n",
              "    <tr>\n",
              "      <th>CHMF</th>\n",
              "      <td>CHMF.MOEX</td>\n",
              "      <td>253.42</td>\n",
              "      <td>320.30</td>\n",
              "      <td>15.18</td>\n",
              "      <td>19.18</td>\n",
              "      <td>Public Joint Stock Company Severstal</td>\n",
              "    </tr>\n",
              "    <tr>\n",
              "      <th>MAGN</th>\n",
              "      <td>MAGN.MOEX</td>\n",
              "      <td>8.93</td>\n",
              "      <td>11.96</td>\n",
              "      <td>14.44</td>\n",
              "      <td>19.35</td>\n",
              "      <td>Public Joint Stock Company Magnitogorsk Iron &amp;...</td>\n",
              "    </tr>\n",
              "    <tr>\n",
              "      <th>NKNCP</th>\n",
              "      <td>NKNCP.MOEX</td>\n",
              "      <td>10.27</td>\n",
              "      <td>15.90</td>\n",
              "      <td>10.03</td>\n",
              "      <td>15.52</td>\n",
              "      <td>Public Joint Stock Company Nizhnekamskneftekhim</td>\n",
              "    </tr>\n",
              "    <tr>\n",
              "      <th>STSBP</th>\n",
              "      <td>STSBP.MOEX</td>\n",
              "      <td>0.09</td>\n",
              "      <td>NaN</td>\n",
              "      <td>15.27</td>\n",
              "      <td>NaN</td>\n",
              "      <td>Stavropolenergosbyt Public Joint-Stock Company</td>\n",
              "    </tr>\n",
              "    <tr>\n",
              "      <th>GMKN</th>\n",
              "      <td>GMKN.MOEX</td>\n",
              "      <td>3376.26</td>\n",
              "      <td>3268.45</td>\n",
              "      <td>14.92</td>\n",
              "      <td>14.45</td>\n",
              "      <td>Public Joint Stock Company Mining and Metallur...</td>\n",
              "    </tr>\n",
              "    <tr>\n",
              "      <th>KGKCP</th>\n",
              "      <td>KGKCP.MOEX</td>\n",
              "      <td>6.85</td>\n",
              "      <td>NaN</td>\n",
              "      <td>14.21</td>\n",
              "      <td>NaN</td>\n",
              "      <td>Public Joint Stock Company Kurgan Generation C...</td>\n",
              "    </tr>\n",
              "    <tr>\n",
              "      <th>MVID</th>\n",
              "      <td>MVID.MOEX</td>\n",
              "      <td>73.00</td>\n",
              "      <td>77.88</td>\n",
              "      <td>12.54</td>\n",
              "      <td>13.38</td>\n",
              "      <td>Public Joint Stock Company M.video</td>\n",
              "    </tr>\n",
              "    <tr>\n",
              "      <th>QIWI</th>\n",
              "      <td>QIWI.MOEX</td>\n",
              "      <td>83.82</td>\n",
              "      <td>83.65</td>\n",
              "      <td>12.98</td>\n",
              "      <td>12.95</td>\n",
              "      <td>QIWI plc</td>\n",
              "    </tr>\n",
              "    <tr>\n",
              "      <th>MRSB</th>\n",
              "      <td>MRSB.MOEX</td>\n",
              "      <td>0.06</td>\n",
              "      <td>NaN</td>\n",
              "      <td>12.14</td>\n",
              "      <td>NaN</td>\n",
              "      <td>Mordovia Energy Retail Company Public Joint-St...</td>\n",
              "    </tr>\n",
              "    <tr>\n",
              "      <th>RASP</th>\n",
              "      <td>RASP.MOEX</td>\n",
              "      <td>28.70</td>\n",
              "      <td>54.54</td>\n",
              "      <td>6.90</td>\n",
              "      <td>13.11</td>\n",
              "      <td>Public Joint Stock Company Raspadskaya</td>\n",
              "    </tr>\n",
              "    <tr>\n",
              "      <th>WTCMP</th>\n",
              "      <td>WTCMP.MOEX</td>\n",
              "      <td>1.12</td>\n",
              "      <td>NaN</td>\n",
              "      <td>12.75</td>\n",
              "      <td>NaN</td>\n",
              "      <td>Joint Stock Company \"World Trade Center Moscow...</td>\n",
              "    </tr>\n",
              "    <tr>\n",
              "      <th>UPRO</th>\n",
              "      <td>UPRO.MOEX</td>\n",
              "      <td>0.32</td>\n",
              "      <td>0.35</td>\n",
              "      <td>11.37</td>\n",
              "      <td>12.51</td>\n",
              "      <td>Public Joint-Stock Company Unipro</td>\n",
              "    </tr>\n",
              "    <tr>\n",
              "      <th>TATNP</th>\n",
              "      <td>TATNP.MOEX</td>\n",
              "      <td>40.59</td>\n",
              "      <td>60.33</td>\n",
              "      <td>8.43</td>\n",
              "      <td>12.53</td>\n",
              "      <td>PJSC Tatneft</td>\n",
              "    </tr>\n",
              "    <tr>\n",
              "      <th>OGKB</th>\n",
              "      <td>OGKB.MOEX</td>\n",
              "      <td>0.06</td>\n",
              "      <td>0.08</td>\n",
              "      <td>8.70</td>\n",
              "      <td>12.09</td>\n",
              "      <td>Public Joint-Stock Company \"Second Generating ...</td>\n",
              "    </tr>\n",
              "    <tr>\n",
              "      <th>NKNC</th>\n",
              "      <td>NKNC.MOEX</td>\n",
              "      <td>10.27</td>\n",
              "      <td>15.90</td>\n",
              "      <td>7.83</td>\n",
              "      <td>12.12</td>\n",
              "      <td>Public Joint Stock Company Nizhnekamskneftekhim</td>\n",
              "    </tr>\n",
              "    <tr>\n",
              "      <th>GAZP</th>\n",
              "      <td>GAZP.MOEX</td>\n",
              "      <td>12.55</td>\n",
              "      <td>39.58</td>\n",
              "      <td>3.74</td>\n",
              "      <td>11.79</td>\n",
              "      <td>Public Joint Stock Company Gazprom</td>\n",
              "    </tr>\n",
              "    <tr>\n",
              "      <th>WTCM</th>\n",
              "      <td>WTCM.MOEX</td>\n",
              "      <td>1.12</td>\n",
              "      <td>NaN</td>\n",
              "      <td>11.79</td>\n",
              "      <td>NaN</td>\n",
              "      <td>Joint Stock Company \"World Trade Center Moscow\"</td>\n",
              "    </tr>\n",
              "    <tr>\n",
              "      <th>LKOH</th>\n",
              "      <td>LKOH.MOEX</td>\n",
              "      <td>553.00</td>\n",
              "      <td>772.98</td>\n",
              "      <td>7.96</td>\n",
              "      <td>11.12</td>\n",
              "      <td>PJSC LUKOIL</td>\n",
              "    </tr>\n",
              "    <tr>\n",
              "      <th>MTSS</th>\n",
              "      <td>MTSS.MOEX</td>\n",
              "      <td>37.06</td>\n",
              "      <td>36.00</td>\n",
              "      <td>11.65</td>\n",
              "      <td>11.32</td>\n",
              "      <td>Mobile TeleSystems Public Joint Stock Company</td>\n",
              "    </tr>\n",
              "    <tr>\n",
              "      <th>VTBR</th>\n",
              "      <td>VTBR.MOEX</td>\n",
              "      <td>0.00</td>\n",
              "      <td>0.01</td>\n",
              "      <td>2.80</td>\n",
              "      <td>11.40</td>\n",
              "      <td>VTB Bank (public joint-stock company)</td>\n",
              "    </tr>\n",
              "    <tr>\n",
              "      <th>ALRS</th>\n",
              "      <td>ALRS.MOEX</td>\n",
              "      <td>18.33</td>\n",
              "      <td>14.72</td>\n",
              "      <td>13.85</td>\n",
              "      <td>11.12</td>\n",
              "      <td>Public Joint Stock Company ALROSA</td>\n",
              "    </tr>\n",
              "    <tr>\n",
              "      <th>TATN</th>\n",
              "      <td>TATN.MOEX</td>\n",
              "      <td>40.59</td>\n",
              "      <td>60.33</td>\n",
              "      <td>7.59</td>\n",
              "      <td>11.28</td>\n",
              "      <td>PJSC Tatneft</td>\n",
              "    </tr>\n",
              "    <tr>\n",
              "      <th>MRKC</th>\n",
              "      <td>MRKC.MOEX</td>\n",
              "      <td>0.03</td>\n",
              "      <td>0.05</td>\n",
              "      <td>7.98</td>\n",
              "      <td>10.76</td>\n",
              "      <td>Interregional Distribution Grid Company of Cen...</td>\n",
              "    </tr>\n",
              "    <tr>\n",
              "      <th>LSNGP</th>\n",
              "      <td>LSNGP.MOEX</td>\n",
              "      <td>15.17</td>\n",
              "      <td>19.99</td>\n",
              "      <td>8.36</td>\n",
              "      <td>11.01</td>\n",
              "      <td>Public Joint stock company Rosseti Lenenergo</td>\n",
              "    </tr>\n",
              "    <tr>\n",
              "      <th>RGSS</th>\n",
              "      <td>RGSS.MOEX</td>\n",
              "      <td>0.02</td>\n",
              "      <td>NaN</td>\n",
              "      <td>10.87</td>\n",
              "      <td>NaN</td>\n",
              "      <td>Rosgosstrakh Insurance Company (Public Joint S...</td>\n",
              "    </tr>\n",
              "    <tr>\n",
              "      <th>MSRS</th>\n",
              "      <td>MSRS.MOEX</td>\n",
              "      <td>0.05</td>\n",
              "      <td>0.15</td>\n",
              "      <td>3.71</td>\n",
              "      <td>10.95</td>\n",
              "      <td>Public Joint-Stock Company \"Rosseti Moscow Reg...</td>\n",
              "    </tr>\n",
              "    <tr>\n",
              "      <th>PHOR</th>\n",
              "      <td>PHOR.MOEX</td>\n",
              "      <td>558.00</td>\n",
              "      <td>615.59</td>\n",
              "      <td>9.64</td>\n",
              "      <td>10.63</td>\n",
              "      <td>Public Joint-Stock Company PhosAgro</td>\n",
              "    </tr>\n",
              "    <tr>\n",
              "      <th>LSRG</th>\n",
              "      <td>LSRG.MOEX</td>\n",
              "      <td>39.00</td>\n",
              "      <td>78.00</td>\n",
              "      <td>5.30</td>\n",
              "      <td>10.59</td>\n",
              "      <td>PJSC LSR Group</td>\n",
              "    </tr>\n",
              "    <tr>\n",
              "      <th>BANEP</th>\n",
              "      <td>BANEP.MOEX</td>\n",
              "      <td>0.10</td>\n",
              "      <td>118.40</td>\n",
              "      <td>0.01</td>\n",
              "      <td>10.55</td>\n",
              "      <td>Public Joint Stock Oil Company Bashneft</td>\n",
              "    </tr>\n",
              "    <tr>\n",
              "      <th>RSTIP</th>\n",
              "      <td>RSTIP.MOEX</td>\n",
              "      <td>0.06</td>\n",
              "      <td>0.20</td>\n",
              "      <td>3.03</td>\n",
              "      <td>10.35</td>\n",
              "      <td>Rosseti Public Joint Stock Company</td>\n",
              "    </tr>\n",
              "    <tr>\n",
              "      <th>KRKNP</th>\n",
              "      <td>KRKNP.MOEX</td>\n",
              "      <td>1132.93</td>\n",
              "      <td>1582.20</td>\n",
              "      <td>7.05</td>\n",
              "      <td>9.85</td>\n",
              "      <td>Public Joint Stock Company Saratov Oil Refinery</td>\n",
              "    </tr>\n",
              "    <tr>\n",
              "      <th>SIBN</th>\n",
              "      <td>SIBN.MOEX</td>\n",
              "      <td>10.00</td>\n",
              "      <td>12.34</td>\n",
              "      <td>1.93</td>\n",
              "      <td>2.39</td>\n",
              "      <td>Public Joint Stock Company Gazprom Neft</td>\n",
              "    </tr>\n",
              "    <tr>\n",
              "      <th>ENRU</th>\n",
              "      <td>ENRU.MOEX</td>\n",
              "      <td>0.00</td>\n",
              "      <td>0.08</td>\n",
              "      <td>0.00</td>\n",
              "      <td>9.55</td>\n",
              "      <td>Public Joint-Stock Company Enel Russia</td>\n",
              "    </tr>\n",
              "    <tr>\n",
              "      <th>KGKC</th>\n",
              "      <td>KGKC.MOEX</td>\n",
              "      <td>4.51</td>\n",
              "      <td>NaN</td>\n",
              "      <td>9.35</td>\n",
              "      <td>NaN</td>\n",
              "      <td>Public Joint Stock Company Kurgan Generation C...</td>\n",
              "    </tr>\n",
              "    <tr>\n",
              "      <th>MGTSP</th>\n",
              "      <td>MGTSP.MOEX</td>\n",
              "      <td>154.00</td>\n",
              "      <td>132.28</td>\n",
              "      <td>11.18</td>\n",
              "      <td>9.60</td>\n",
              "      <td>Public Joint Stock Company Moscow City Telepho...</td>\n",
              "    </tr>\n",
              "    <tr>\n",
              "      <th>FEES</th>\n",
              "      <td>FEES.MOEX</td>\n",
              "      <td>0.02</td>\n",
              "      <td>0.02</td>\n",
              "      <td>8.94</td>\n",
              "      <td>9.17</td>\n",
              "      <td>Public Joint-Stock Company Federal Grid Compan...</td>\n",
              "    </tr>\n",
              "    <tr>\n",
              "      <th>AGRO</th>\n",
              "      <td>AGRO.MOEX</td>\n",
              "      <td>144.97</td>\n",
              "      <td>105.90</td>\n",
              "      <td>12.35</td>\n",
              "      <td>9.02</td>\n",
              "      <td>Ros Agro PLC</td>\n",
              "    </tr>\n",
              "    <tr>\n",
              "      <th>DSKY</th>\n",
              "      <td>DSKY.MOEX</td>\n",
              "      <td>11.27</td>\n",
              "      <td>12.78</td>\n",
              "      <td>8.05</td>\n",
              "      <td>9.13</td>\n",
              "      <td>Public Joint Stock Company Detsky Mir</td>\n",
              "    </tr>\n",
              "    <tr>\n",
              "      <th>POLY</th>\n",
              "      <td>POLY.MOEX</td>\n",
              "      <td>99.16</td>\n",
              "      <td>124.41</td>\n",
              "      <td>6.72</td>\n",
              "      <td>8.43</td>\n",
              "      <td>Polymetal International plc</td>\n",
              "    </tr>\n",
              "    <tr>\n",
              "      <th>SBERP</th>\n",
              "      <td>SBERP.MOEX</td>\n",
              "      <td>18.70</td>\n",
              "      <td>28.06</td>\n",
              "      <td>6.04</td>\n",
              "      <td>9.07</td>\n",
              "      <td>Sberbank of Russia</td>\n",
              "    </tr>\n",
              "    <tr>\n",
              "      <th>TRNFP</th>\n",
              "      <td>TRNFP.MOEX</td>\n",
              "      <td>9224.28</td>\n",
              "      <td>13046.03</td>\n",
              "      <td>6.13</td>\n",
              "      <td>8.67</td>\n",
              "      <td>Public Joint Stock Company Transneft</td>\n",
              "    </tr>\n",
              "    <tr>\n",
              "      <th>MRKP</th>\n",
              "      <td>MRKP.MOEX</td>\n",
              "      <td>0.03</td>\n",
              "      <td>0.02</td>\n",
              "      <td>9.96</td>\n",
              "      <td>8.77</td>\n",
              "      <td>Interregional Distribution Grid Company of Cen...</td>\n",
              "    </tr>\n",
              "    <tr>\n",
              "      <th>RSTI</th>\n",
              "      <td>RSTI.MOEX</td>\n",
              "      <td>0.02</td>\n",
              "      <td>0.11</td>\n",
              "      <td>1.76</td>\n",
              "      <td>8.22</td>\n",
              "      <td>Rosseti Public Joint Stock Company</td>\n",
              "    </tr>\n",
              "    <tr>\n",
              "      <th>NMTP</th>\n",
              "      <td>NMTP.MOEX</td>\n",
              "      <td>0.06</td>\n",
              "      <td>0.63</td>\n",
              "      <td>0.83</td>\n",
              "      <td>8.67</td>\n",
              "      <td>Public Joint Stock Company Novorossiysk Commer...</td>\n",
              "    </tr>\n",
              "    <tr>\n",
              "      <th>SNGSP</th>\n",
              "      <td>SNGSP.MOEX</td>\n",
              "      <td>6.72</td>\n",
              "      <td>3.23</td>\n",
              "      <td>16.84</td>\n",
              "      <td>8.09</td>\n",
              "      <td>Surgutneftegas Public Joint Stock Company</td>\n",
              "    </tr>\n",
              "    <tr>\n",
              "      <th>HYDR</th>\n",
              "      <td>HYDR.MOEX</td>\n",
              "      <td>0.05</td>\n",
              "      <td>0.07</td>\n",
              "      <td>6.46</td>\n",
              "      <td>8.13</td>\n",
              "      <td>Public Joint-Stock Company Federal Hydro-Gener...</td>\n",
              "    </tr>\n",
              "    <tr>\n",
              "      <th>PMSBP</th>\n",
              "      <td>PMSBP.MOEX</td>\n",
              "      <td>12.50</td>\n",
              "      <td>NaN</td>\n",
              "      <td>8.17</td>\n",
              "      <td>NaN</td>\n",
              "      <td>Public Joint Stock Company Perm Energy Supplyi...</td>\n",
              "    </tr>\n",
              "    <tr>\n",
              "      <th>BANE</th>\n",
              "      <td>BANE.MOEX</td>\n",
              "      <td>0.00</td>\n",
              "      <td>118.40</td>\n",
              "      <td>0.00</td>\n",
              "      <td>7.83</td>\n",
              "      <td>Public Joint Stock Oil Company Bashneft</td>\n",
              "    </tr>\n",
              "    <tr>\n",
              "      <th>SBER</th>\n",
              "      <td>SBER.MOEX</td>\n",
              "      <td>18.70</td>\n",
              "      <td>28.06</td>\n",
              "      <td>5.54</td>\n",
              "      <td>8.31</td>\n",
              "      <td>Sberbank of Russia</td>\n",
              "    </tr>\n",
              "    <tr>\n",
              "      <th>EELT</th>\n",
              "      <td>EELT.MOEX</td>\n",
              "      <td>0.59</td>\n",
              "      <td>NaN</td>\n",
              "      <td>8.02</td>\n",
              "      <td>NaN</td>\n",
              "      <td>European Eltech Public Joint Stock Company</td>\n",
              "    </tr>\n",
              "    <tr>\n",
              "      <th>GLTR</th>\n",
              "      <td>GLTR.MOEX</td>\n",
              "      <td>50.24</td>\n",
              "      <td>47.73</td>\n",
              "      <td>8.41</td>\n",
              "      <td>7.99</td>\n",
              "      <td>Globaltrans Investment Plc</td>\n",
              "    </tr>\n",
              "    <tr>\n",
              "      <th>RZSB</th>\n",
              "      <td>RZSB.MOEX</td>\n",
              "      <td>1.45</td>\n",
              "      <td>NaN</td>\n",
              "      <td>7.80</td>\n",
              "      <td>NaN</td>\n",
              "      <td>Joint-Stock Company Ryazanenergosbyt</td>\n",
              "    </tr>\n",
              "    <tr>\n",
              "      <th>AKRN</th>\n",
              "      <td>AKRN.MOEX</td>\n",
              "      <td>780.00</td>\n",
              "      <td>1159.43</td>\n",
              "      <td>6.35</td>\n",
              "      <td>9.43</td>\n",
              "      <td>Public Joint Stock Company Acron</td>\n",
              "    </tr>\n",
              "    <tr>\n",
              "      <th>PMSB</th>\n",
              "      <td>PMSB.MOEX</td>\n",
              "      <td>12.50</td>\n",
              "      <td>NaN</td>\n",
              "      <td>7.96</td>\n",
              "      <td>NaN</td>\n",
              "      <td>Public Joint Stock Company Perm Energy Supplyi...</td>\n",
              "    </tr>\n",
              "    <tr>\n",
              "      <th>KZOS</th>\n",
              "      <td>KZOS.MOEX</td>\n",
              "      <td>9.11</td>\n",
              "      <td>7.58</td>\n",
              "      <td>9.47</td>\n",
              "      <td>7.88</td>\n",
              "      <td>Kazan Public Joint Stock Company Organichesky ...</td>\n",
              "    </tr>\n",
              "    <tr>\n",
              "      <th>RDRB</th>\n",
              "      <td>RDRB.MOEX</td>\n",
              "      <td>17.31</td>\n",
              "      <td>NaN</td>\n",
              "      <td>7.66</td>\n",
              "      <td>NaN</td>\n",
              "      <td>The Russian Public Joint-Stock Commercial Road...</td>\n",
              "    </tr>\n",
              "    <tr>\n",
              "      <th>ROSN</th>\n",
              "      <td>ROSN.MOEX</td>\n",
              "      <td>24.97</td>\n",
              "      <td>54.80</td>\n",
              "      <td>4.01</td>\n",
              "      <td>8.81</td>\n",
              "      <td>Public Joint Stock Company Rosneft Oil Company</td>\n",
              "    </tr>\n",
              "    <tr>\n",
              "      <th>TTLK</th>\n",
              "      <td>TTLK.MOEX</td>\n",
              "      <td>0.04</td>\n",
              "      <td>0.04</td>\n",
              "      <td>6.05</td>\n",
              "      <td>6.88</td>\n",
              "      <td>Tattelecom Public Joint-Stock Company</td>\n",
              "    </tr>\n",
              "    <tr>\n",
              "      <th>RTKMP</th>\n",
              "      <td>RTKMP.MOEX</td>\n",
              "      <td>5.00</td>\n",
              "      <td>6.00</td>\n",
              "      <td>5.98</td>\n",
              "      <td>7.17</td>\n",
              "      <td>Public Joint Stock Company Rostelecom</td>\n",
              "    </tr>\n",
              "    <tr>\n",
              "      <th>NKHP</th>\n",
              "      <td>NKHP.MOEX</td>\n",
              "      <td>23.17</td>\n",
              "      <td>24.60</td>\n",
              "      <td>6.67</td>\n",
              "      <td>7.08</td>\n",
              "      <td>Public Joint Stock Company Novorossyisk Grain ...</td>\n",
              "    </tr>\n",
              "    <tr>\n",
              "      <th>MOEX</th>\n",
              "      <td>MOEX.MOEX</td>\n",
              "      <td>9.45</td>\n",
              "      <td>11.94</td>\n",
              "      <td>5.60</td>\n",
              "      <td>7.08</td>\n",
              "      <td>Public Joint-Stock Company Moscow Exchange MIC...</td>\n",
              "    </tr>\n",
              "    <tr>\n",
              "      <th>KRSBP</th>\n",
              "      <td>KRSBP.MOEX</td>\n",
              "      <td>0.65</td>\n",
              "      <td>NaN</td>\n",
              "      <td>6.97</td>\n",
              "      <td>NaN</td>\n",
              "      <td>Public Joint Stock Company Krasnoyarskenergosbyt</td>\n",
              "    </tr>\n",
              "    <tr>\n",
              "      <th>HIMCP</th>\n",
              "      <td>HIMCP.MOEX</td>\n",
              "      <td>0.56</td>\n",
              "      <td>0.80</td>\n",
              "      <td>4.96</td>\n",
              "      <td>7.03</td>\n",
              "      <td>Khimprom Public Joint stock company</td>\n",
              "    </tr>\n",
              "    <tr>\n",
              "      <th>GCHE</th>\n",
              "      <td>GCHE.MOEX</td>\n",
              "      <td>219.27</td>\n",
              "      <td>231.88</td>\n",
              "      <td>6.17</td>\n",
              "      <td>6.53</td>\n",
              "      <td>Public Joint Stock Company \"Cherkizovo Group\"</td>\n",
              "    </tr>\n",
              "    <tr>\n",
              "      <th>MSNG</th>\n",
              "      <td>MSNG.MOEX</td>\n",
              "      <td>0.18</td>\n",
              "      <td>0.15</td>\n",
              "      <td>8.12</td>\n",
              "      <td>6.68</td>\n",
              "      <td>Public Joint Stock Company Mosenergo</td>\n",
              "    </tr>\n",
              "    <tr>\n",
              "      <th>BSPB</th>\n",
              "      <td>BSPB.MOEX</td>\n",
              "      <td>4.56</td>\n",
              "      <td>6.10</td>\n",
              "      <td>4.98</td>\n",
              "      <td>6.66</td>\n",
              "      <td>\"Bank \"Saint-Petersburg\" Public Joint-Stock Co...</td>\n",
              "    </tr>\n",
              "    <tr>\n",
              "      <th>RTKM</th>\n",
              "      <td>RTKM.MOEX</td>\n",
              "      <td>5.00</td>\n",
              "      <td>6.00</td>\n",
              "      <td>5.41</td>\n",
              "      <td>6.49</td>\n",
              "      <td>Public Joint Stock Company Rostelecom</td>\n",
              "    </tr>\n",
              "    <tr>\n",
              "      <th>MGTS</th>\n",
              "      <td>MGTS.MOEX</td>\n",
              "      <td>154.00</td>\n",
              "      <td>132.28</td>\n",
              "      <td>6.88</td>\n",
              "      <td>5.91</td>\n",
              "      <td>Public Joint Stock Company Moscow City Telepho...</td>\n",
              "    </tr>\n",
              "    <tr>\n",
              "      <th>VSMO</th>\n",
              "      <td>VSMO.MOEX</td>\n",
              "      <td>1129.63</td>\n",
              "      <td>1970.79</td>\n",
              "      <td>2.55</td>\n",
              "      <td>4.46</td>\n",
              "      <td>public stock company VSMPO-AVISMA Corporation</td>\n",
              "    </tr>\n",
              "    <tr>\n",
              "      <th>TRMK</th>\n",
              "      <td>TRMK.MOEX</td>\n",
              "      <td>29.38</td>\n",
              "      <td>4.50</td>\n",
              "      <td>35.20</td>\n",
              "      <td>5.39</td>\n",
              "      <td>PAO TMK</td>\n",
              "    </tr>\n",
              "    <tr>\n",
              "      <th>MDMG</th>\n",
              "      <td>MDMG.MOEX</td>\n",
              "      <td>37.39</td>\n",
              "      <td>44.45</td>\n",
              "      <td>4.37</td>\n",
              "      <td>5.20</td>\n",
              "      <td>MD Medical Group Investments Plc</td>\n",
              "    </tr>\n",
              "    <tr>\n",
              "      <th>IRAO</th>\n",
              "      <td>IRAO.MOEX</td>\n",
              "      <td>0.18</td>\n",
              "      <td>0.24</td>\n",
              "      <td>3.82</td>\n",
              "      <td>5.16</td>\n",
              "      <td>Public Joint Stock Company Inter RAO UES</td>\n",
              "    </tr>\n",
              "    <tr>\n",
              "      <th>NVTK</th>\n",
              "      <td>NVTK.MOEX</td>\n",
              "      <td>51.41</td>\n",
              "      <td>91.18</td>\n",
              "      <td>2.90</td>\n",
              "      <td>5.15</td>\n",
              "      <td>PAO NOVATEK</td>\n",
              "    </tr>\n",
              "    <tr>\n",
              "      <th>KRSB</th>\n",
              "      <td>KRSB.MOEX</td>\n",
              "      <td>0.65</td>\n",
              "      <td>0.46</td>\n",
              "      <td>7.38</td>\n",
              "      <td>5.19</td>\n",
              "      <td>Public Joint Stock Company Krasnoyarskenergosbyt</td>\n",
              "    </tr>\n",
              "    <tr>\n",
              "      <th>DIOD</th>\n",
              "      <td>DIOD.MOEX</td>\n",
              "      <td>0.65</td>\n",
              "      <td>0.43</td>\n",
              "      <td>7.64</td>\n",
              "      <td>5.05</td>\n",
              "      <td>DIOD Maker of Eco-Friendly Equipment and Nutri...</td>\n",
              "    </tr>\n",
              "    <tr>\n",
              "      <th>BISVP</th>\n",
              "      <td>BISVP.MOEX</td>\n",
              "      <td>0.26</td>\n",
              "      <td>0.40</td>\n",
              "      <td>3.14</td>\n",
              "      <td>4.72</td>\n",
              "      <td>Public Joint-Stock Company Bashinformsvyaz RUB...</td>\n",
              "    </tr>\n",
              "    <tr>\n",
              "      <th>BELU</th>\n",
              "      <td>BELU.MOEX</td>\n",
              "      <td>162.76</td>\n",
              "      <td>182.64</td>\n",
              "      <td>4.22</td>\n",
              "      <td>4.74</td>\n",
              "      <td>Beluga Group Public Joint-Stock Company</td>\n",
              "    </tr>\n",
              "    <tr>\n",
              "      <th>KAZT</th>\n",
              "      <td>KAZT.MOEX</td>\n",
              "      <td>18.85</td>\n",
              "      <td>17.00</td>\n",
              "      <td>4.99</td>\n",
              "      <td>4.50</td>\n",
              "      <td>Public Joint Stock Company KuibyshevAzot</td>\n",
              "    </tr>\n",
              "    <tr>\n",
              "      <th>KAZTP</th>\n",
              "      <td>KAZTP.MOEX</td>\n",
              "      <td>18.85</td>\n",
              "      <td>17.00</td>\n",
              "      <td>4.70</td>\n",
              "      <td>4.24</td>\n",
              "      <td>Public Joint Stock Company KuibyshevAzot</td>\n",
              "    </tr>\n",
              "    <tr>\n",
              "      <th>FLOT</th>\n",
              "      <td>FLOT.MOEX</td>\n",
              "      <td>6.67</td>\n",
              "      <td>3.05</td>\n",
              "      <td>7.93</td>\n",
              "      <td>3.63</td>\n",
              "      <td>Sovcomflot Pao</td>\n",
              "    </tr>\n",
              "    <tr>\n",
              "      <th>PRMB</th>\n",
              "      <td>PRMB.MOEX</td>\n",
              "      <td>1706.55</td>\n",
              "      <td>NaN</td>\n",
              "      <td>3.88</td>\n",
              "      <td>NaN</td>\n",
              "      <td>Public joint-stock commercial bank Primorye</td>\n",
              "    </tr>\n",
              "    <tr>\n",
              "      <th>ASSB</th>\n",
              "      <td>ASSB.MOEX</td>\n",
              "      <td>0.00</td>\n",
              "      <td>0.04</td>\n",
              "      <td>0.00</td>\n",
              "      <td>4.22</td>\n",
              "      <td>Astrakhan Power Sale Company Public Joint-Stoc...</td>\n",
              "    </tr>\n",
              "    <tr>\n",
              "      <th>ARSA</th>\n",
              "      <td>ARSA.MOEX</td>\n",
              "      <td>0.36</td>\n",
              "      <td>NaN</td>\n",
              "      <td>4.14</td>\n",
              "      <td>NaN</td>\n",
              "      <td>Arsagera Asset Management</td>\n",
              "    </tr>\n",
              "    <tr>\n",
              "      <th>KBSB</th>\n",
              "      <td>KBSB.MOEX</td>\n",
              "      <td>7.07</td>\n",
              "      <td>NaN</td>\n",
              "      <td>4.50</td>\n",
              "      <td>NaN</td>\n",
              "      <td>Public Joint Stock Company \"TNS energo Kuban\"</td>\n",
              "    </tr>\n",
              "    <tr>\n",
              "      <th>PIKK</th>\n",
              "      <td>PIKK.MOEX</td>\n",
              "      <td>68.14</td>\n",
              "      <td>45.22</td>\n",
              "      <td>6.19</td>\n",
              "      <td>4.11</td>\n",
              "      <td>Public Joint Stock Company PIK-specialized hom...</td>\n",
              "    </tr>\n",
              "    <tr>\n",
              "      <th>PLZL</th>\n",
              "      <td>PLZL.MOEX</td>\n",
              "      <td>654.63</td>\n",
              "      <td>648.13</td>\n",
              "      <td>4.12</td>\n",
              "      <td>4.08</td>\n",
              "      <td>Public Joint Stock Company Polyus</td>\n",
              "    </tr>\n",
              "    <tr>\n",
              "      <th>SELG</th>\n",
              "      <td>SELG.MOEX</td>\n",
              "      <td>2.73</td>\n",
              "      <td>2.73</td>\n",
              "      <td>3.98</td>\n",
              "      <td>3.98</td>\n",
              "      <td>Public Joint-Stock Company Seligdar</td>\n",
              "    </tr>\n",
              "    <tr>\n",
              "      <th>LSNG</th>\n",
              "      <td>LSNG.MOEX</td>\n",
              "      <td>0.26</td>\n",
              "      <td>0.30</td>\n",
              "      <td>2.79</td>\n",
              "      <td>3.19</td>\n",
              "      <td>Public Joint stock company Rosseti Lenenergo</td>\n",
              "    </tr>\n",
              "    <tr>\n",
              "      <th>SELGP</th>\n",
              "      <td>SELGP.MOEX</td>\n",
              "      <td>2.25</td>\n",
              "      <td>2.25</td>\n",
              "      <td>3.28</td>\n",
              "      <td>3.28</td>\n",
              "      <td>Public Joint-Stock Company Seligdar</td>\n",
              "    </tr>\n",
              "    <tr>\n",
              "      <th>AQUA</th>\n",
              "      <td>AQUA.MOEX</td>\n",
              "      <td>17.00</td>\n",
              "      <td>18.00</td>\n",
              "      <td>3.07</td>\n",
              "      <td>3.25</td>\n",
              "      <td>PJSC Russian Aquaculture</td>\n",
              "    </tr>\n",
              "    <tr>\n",
              "      <th>MGNT</th>\n",
              "      <td>MGNT.MOEX</td>\n",
              "      <td>539.68</td>\n",
              "      <td>489.70</td>\n",
              "      <td>8.24</td>\n",
              "      <td>7.48</td>\n",
              "      <td>Public Joint Stock Company Magnit</td>\n",
              "    </tr>\n",
              "    <tr>\n",
              "      <th>INGR</th>\n",
              "      <td>INGR.MOEX</td>\n",
              "      <td>36.39</td>\n",
              "      <td>NaN</td>\n",
              "      <td>2.77</td>\n",
              "      <td>NaN</td>\n",
              "      <td>Public Joint Stock Company \"INGRAD\"</td>\n",
              "    </tr>\n",
              "    <tr>\n",
              "      <th>FIXP</th>\n",
              "      <td>FIXP.MOEX</td>\n",
              "      <td>11.69</td>\n",
              "      <td>13.40</td>\n",
              "      <td>1.97</td>\n",
              "      <td>2.25</td>\n",
              "      <td>Fix Price Group Ltd.</td>\n",
              "    </tr>\n",
              "    <tr>\n",
              "      <th>VLHZ</th>\n",
              "      <td>VLHZ.MOEX</td>\n",
              "      <td>1.80</td>\n",
              "      <td>NaN</td>\n",
              "      <td>2.08</td>\n",
              "      <td>NaN</td>\n",
              "      <td>Public Joint Stock Company Vladimir Chemical P...</td>\n",
              "    </tr>\n",
              "    <tr>\n",
              "      <th>ABRD</th>\n",
              "      <td>ABRD.MOEX</td>\n",
              "      <td>3.89</td>\n",
              "      <td>NaN</td>\n",
              "      <td>1.96</td>\n",
              "      <td>NaN</td>\n",
              "      <td>Public Joint Stock Company Abrau-Durso</td>\n",
              "    </tr>\n",
              "    <tr>\n",
              "      <th>KZOSP</th>\n",
              "      <td>KZOSP.MOEX</td>\n",
              "      <td>0.75</td>\n",
              "      <td>0.50</td>\n",
              "      <td>2.78</td>\n",
              "      <td>1.85</td>\n",
              "      <td>Kazan Public Joint Stock Company Organichesky ...</td>\n",
              "    </tr>\n",
              "    <tr>\n",
              "      <th>AFKS</th>\n",
              "      <td>AFKS.MOEX</td>\n",
              "      <td>0.31</td>\n",
              "      <td>0.53</td>\n",
              "      <td>1.13</td>\n",
              "      <td>1.93</td>\n",
              "      <td>Sistema Public Joint Stock Financial Corporation</td>\n",
              "    </tr>\n",
              "    <tr>\n",
              "      <th>SMLT</th>\n",
              "      <td>SMLT.MOEX</td>\n",
              "      <td>82.00</td>\n",
              "      <td>82.00</td>\n",
              "      <td>1.70</td>\n",
              "      <td>1.70</td>\n",
              "      <td>Samolet Group Public Joint Stock Company</td>\n",
              "    </tr>\n",
              "    <tr>\n",
              "      <th>SNGS</th>\n",
              "      <td>SNGS.MOEX</td>\n",
              "      <td>0.70</td>\n",
              "      <td>0.60</td>\n",
              "      <td>1.56</td>\n",
              "      <td>1.34</td>\n",
              "      <td>Surgutneftegas Public Joint Stock Company</td>\n",
              "    </tr>\n",
              "    <tr>\n",
              "      <th>LVHK</th>\n",
              "      <td>LVHK.MOEX</td>\n",
              "      <td>0.30</td>\n",
              "      <td>0.25</td>\n",
              "      <td>1.67</td>\n",
              "      <td>1.42</td>\n",
              "      <td>Levenhuk Inc</td>\n",
              "    </tr>\n",
              "    <tr>\n",
              "      <th>TCSG</th>\n",
              "      <td>TCSG.MOEX</td>\n",
              "      <td>17.51</td>\n",
              "      <td>83.32</td>\n",
              "      <td>0.24</td>\n",
              "      <td>1.14</td>\n",
              "      <td>TCS Group Holding PLC</td>\n",
              "    </tr>\n",
              "    <tr>\n",
              "      <th>HHRU</th>\n",
              "      <td>HHRU.MOEX</td>\n",
              "      <td>40.33</td>\n",
              "      <td>34.56</td>\n",
              "      <td>0.87</td>\n",
              "      <td>0.74</td>\n",
              "      <td>HeadHunter Group PLC</td>\n",
              "    </tr>\n",
              "    <tr>\n",
              "      <th>CNTLP</th>\n",
              "      <td>CNTLP.MOEX</td>\n",
              "      <td>0.25</td>\n",
              "      <td>0.05</td>\n",
              "      <td>2.59</td>\n",
              "      <td>0.51</td>\n",
              "      <td>Central Telegraph Public Joint Stock Company</td>\n",
              "    </tr>\n",
              "    <tr>\n",
              "      <th>YAKG</th>\n",
              "      <td>YAKG.MOEX</td>\n",
              "      <td>0.61</td>\n",
              "      <td>NaN</td>\n",
              "      <td>0.47</td>\n",
              "      <td>NaN</td>\n",
              "      <td>Public Joint Stock Company Yakutsk Fuel and En...</td>\n",
              "    </tr>\n",
              "    <tr>\n",
              "      <th>KMAZ</th>\n",
              "      <td>KMAZ.MOEX</td>\n",
              "      <td>0.54</td>\n",
              "      <td>0.42</td>\n",
              "      <td>0.45</td>\n",
              "      <td>0.35</td>\n",
              "      <td>KAMAZ Publicly Traded Company</td>\n",
              "    </tr>\n",
              "    <tr>\n",
              "      <th>FIVE</th>\n",
              "      <td>FIVE.MOEX</td>\n",
              "      <td>2.50</td>\n",
              "      <td>NaN</td>\n",
              "      <td>0.11</td>\n",
              "      <td>NaN</td>\n",
              "      <td>X5 Retail Group N.V</td>\n",
              "    </tr>\n",
              "    <tr>\n",
              "      <th>JNOSP</th>\n",
              "      <td>JNOSP.MOEX</td>\n",
              "      <td>0.01</td>\n",
              "      <td>NaN</td>\n",
              "      <td>0.06</td>\n",
              "      <td>NaN</td>\n",
              "      <td>Public Joint Stock Company Slavneft-Yaroslavne...</td>\n",
              "    </tr>\n",
              "    <tr>\n",
              "      <th>KROTP</th>\n",
              "      <td>KROTP.MOEX</td>\n",
              "      <td>0.13</td>\n",
              "      <td>NaN</td>\n",
              "      <td>0.04</td>\n",
              "      <td>NaN</td>\n",
              "      <td>Joint-Stock Company Krasnyj Octyabr RUB1 PRF(RUB)</td>\n",
              "    </tr>\n",
              "    <tr>\n",
              "      <th>KROT</th>\n",
              "      <td>KROT.MOEX</td>\n",
              "      <td>0.10</td>\n",
              "      <td>NaN</td>\n",
              "      <td>0.02</td>\n",
              "      <td>NaN</td>\n",
              "      <td>Public Joint-Stock Company Krasnyj Octyabr</td>\n",
              "    </tr>\n",
              "  </tbody>\n",
              "</table>\n",
              "</div>"
            ],
            "text/plain": [
              "            symbol  ...                                               name\n",
              "ticker              ...                                                   \n",
              "LNZLP   LNZLP.MOEX  ...  Lena Gold-Mining Public Joint Stock Company Le...\n",
              "LNZL     LNZL.MOEX  ...  Lena Gold-Mining Public Joint Stock Company Le...\n",
              "NLMK     NLMK.MOEX  ...     Public Joint Stock Company \"Novolipetsk Steel\"\n",
              "MTLRP   MTLRP.MOEX  ...                                         Mechel PAO\n",
              "CHMF     CHMF.MOEX  ...               Public Joint Stock Company Severstal\n",
              "MAGN     MAGN.MOEX  ...  Public Joint Stock Company Magnitogorsk Iron &...\n",
              "NKNCP   NKNCP.MOEX  ...    Public Joint Stock Company Nizhnekamskneftekhim\n",
              "STSBP   STSBP.MOEX  ...     Stavropolenergosbyt Public Joint-Stock Company\n",
              "GMKN     GMKN.MOEX  ...  Public Joint Stock Company Mining and Metallur...\n",
              "KGKCP   KGKCP.MOEX  ...  Public Joint Stock Company Kurgan Generation C...\n",
              "MVID     MVID.MOEX  ...                 Public Joint Stock Company M.video\n",
              "QIWI     QIWI.MOEX  ...                                           QIWI plc\n",
              "MRSB     MRSB.MOEX  ...  Mordovia Energy Retail Company Public Joint-St...\n",
              "RASP     RASP.MOEX  ...             Public Joint Stock Company Raspadskaya\n",
              "WTCMP   WTCMP.MOEX  ...  Joint Stock Company \"World Trade Center Moscow...\n",
              "UPRO     UPRO.MOEX  ...                  Public Joint-Stock Company Unipro\n",
              "TATNP   TATNP.MOEX  ...                                       PJSC Tatneft\n",
              "OGKB     OGKB.MOEX  ...  Public Joint-Stock Company \"Second Generating ...\n",
              "NKNC     NKNC.MOEX  ...    Public Joint Stock Company Nizhnekamskneftekhim\n",
              "GAZP     GAZP.MOEX  ...                 Public Joint Stock Company Gazprom\n",
              "WTCM     WTCM.MOEX  ...    Joint Stock Company \"World Trade Center Moscow\"\n",
              "LKOH     LKOH.MOEX  ...                                        PJSC LUKOIL\n",
              "MTSS     MTSS.MOEX  ...      Mobile TeleSystems Public Joint Stock Company\n",
              "VTBR     VTBR.MOEX  ...              VTB Bank (public joint-stock company)\n",
              "ALRS     ALRS.MOEX  ...                  Public Joint Stock Company ALROSA\n",
              "TATN     TATN.MOEX  ...                                       PJSC Tatneft\n",
              "MRKC     MRKC.MOEX  ...  Interregional Distribution Grid Company of Cen...\n",
              "LSNGP   LSNGP.MOEX  ...       Public Joint stock company Rosseti Lenenergo\n",
              "RGSS     RGSS.MOEX  ...  Rosgosstrakh Insurance Company (Public Joint S...\n",
              "MSRS     MSRS.MOEX  ...  Public Joint-Stock Company \"Rosseti Moscow Reg...\n",
              "PHOR     PHOR.MOEX  ...                Public Joint-Stock Company PhosAgro\n",
              "LSRG     LSRG.MOEX  ...                                     PJSC LSR Group\n",
              "BANEP   BANEP.MOEX  ...            Public Joint Stock Oil Company Bashneft\n",
              "RSTIP   RSTIP.MOEX  ...                 Rosseti Public Joint Stock Company\n",
              "KRKNP   KRKNP.MOEX  ...    Public Joint Stock Company Saratov Oil Refinery\n",
              "SIBN     SIBN.MOEX  ...            Public Joint Stock Company Gazprom Neft\n",
              "ENRU     ENRU.MOEX  ...             Public Joint-Stock Company Enel Russia\n",
              "KGKC     KGKC.MOEX  ...  Public Joint Stock Company Kurgan Generation C...\n",
              "MGTSP   MGTSP.MOEX  ...  Public Joint Stock Company Moscow City Telepho...\n",
              "FEES     FEES.MOEX  ...  Public Joint-Stock Company Federal Grid Compan...\n",
              "AGRO     AGRO.MOEX  ...                                       Ros Agro PLC\n",
              "DSKY     DSKY.MOEX  ...              Public Joint Stock Company Detsky Mir\n",
              "POLY     POLY.MOEX  ...                        Polymetal International plc\n",
              "SBERP   SBERP.MOEX  ...                                 Sberbank of Russia\n",
              "TRNFP   TRNFP.MOEX  ...               Public Joint Stock Company Transneft\n",
              "MRKP     MRKP.MOEX  ...  Interregional Distribution Grid Company of Cen...\n",
              "RSTI     RSTI.MOEX  ...                 Rosseti Public Joint Stock Company\n",
              "NMTP     NMTP.MOEX  ...  Public Joint Stock Company Novorossiysk Commer...\n",
              "SNGSP   SNGSP.MOEX  ...          Surgutneftegas Public Joint Stock Company\n",
              "HYDR     HYDR.MOEX  ...  Public Joint-Stock Company Federal Hydro-Gener...\n",
              "PMSBP   PMSBP.MOEX  ...  Public Joint Stock Company Perm Energy Supplyi...\n",
              "BANE     BANE.MOEX  ...            Public Joint Stock Oil Company Bashneft\n",
              "SBER     SBER.MOEX  ...                                 Sberbank of Russia\n",
              "EELT     EELT.MOEX  ...         European Eltech Public Joint Stock Company\n",
              "GLTR     GLTR.MOEX  ...                         Globaltrans Investment Plc\n",
              "RZSB     RZSB.MOEX  ...               Joint-Stock Company Ryazanenergosbyt\n",
              "AKRN     AKRN.MOEX  ...                   Public Joint Stock Company Acron\n",
              "PMSB     PMSB.MOEX  ...  Public Joint Stock Company Perm Energy Supplyi...\n",
              "KZOS     KZOS.MOEX  ...  Kazan Public Joint Stock Company Organichesky ...\n",
              "RDRB     RDRB.MOEX  ...  The Russian Public Joint-Stock Commercial Road...\n",
              "ROSN     ROSN.MOEX  ...     Public Joint Stock Company Rosneft Oil Company\n",
              "TTLK     TTLK.MOEX  ...              Tattelecom Public Joint-Stock Company\n",
              "RTKMP   RTKMP.MOEX  ...              Public Joint Stock Company Rostelecom\n",
              "NKHP     NKHP.MOEX  ...  Public Joint Stock Company Novorossyisk Grain ...\n",
              "MOEX     MOEX.MOEX  ...  Public Joint-Stock Company Moscow Exchange MIC...\n",
              "KRSBP   KRSBP.MOEX  ...   Public Joint Stock Company Krasnoyarskenergosbyt\n",
              "HIMCP   HIMCP.MOEX  ...                Khimprom Public Joint stock company\n",
              "GCHE     GCHE.MOEX  ...      Public Joint Stock Company \"Cherkizovo Group\"\n",
              "MSNG     MSNG.MOEX  ...               Public Joint Stock Company Mosenergo\n",
              "BSPB     BSPB.MOEX  ...  \"Bank \"Saint-Petersburg\" Public Joint-Stock Co...\n",
              "RTKM     RTKM.MOEX  ...              Public Joint Stock Company Rostelecom\n",
              "MGTS     MGTS.MOEX  ...  Public Joint Stock Company Moscow City Telepho...\n",
              "VSMO     VSMO.MOEX  ...      public stock company VSMPO-AVISMA Corporation\n",
              "TRMK     TRMK.MOEX  ...                                            PAO TMK\n",
              "MDMG     MDMG.MOEX  ...                   MD Medical Group Investments Plc\n",
              "IRAO     IRAO.MOEX  ...           Public Joint Stock Company Inter RAO UES\n",
              "NVTK     NVTK.MOEX  ...                                        PAO NOVATEK\n",
              "KRSB     KRSB.MOEX  ...   Public Joint Stock Company Krasnoyarskenergosbyt\n",
              "DIOD     DIOD.MOEX  ...  DIOD Maker of Eco-Friendly Equipment and Nutri...\n",
              "BISVP   BISVP.MOEX  ...  Public Joint-Stock Company Bashinformsvyaz RUB...\n",
              "BELU     BELU.MOEX  ...            Beluga Group Public Joint-Stock Company\n",
              "KAZT     KAZT.MOEX  ...           Public Joint Stock Company KuibyshevAzot\n",
              "KAZTP   KAZTP.MOEX  ...           Public Joint Stock Company KuibyshevAzot\n",
              "FLOT     FLOT.MOEX  ...                                     Sovcomflot Pao\n",
              "PRMB     PRMB.MOEX  ...        Public joint-stock commercial bank Primorye\n",
              "ASSB     ASSB.MOEX  ...  Astrakhan Power Sale Company Public Joint-Stoc...\n",
              "ARSA     ARSA.MOEX  ...                          Arsagera Asset Management\n",
              "KBSB     KBSB.MOEX  ...      Public Joint Stock Company \"TNS energo Kuban\"\n",
              "PIKK     PIKK.MOEX  ...  Public Joint Stock Company PIK-specialized hom...\n",
              "PLZL     PLZL.MOEX  ...                  Public Joint Stock Company Polyus\n",
              "SELG     SELG.MOEX  ...                Public Joint-Stock Company Seligdar\n",
              "LSNG     LSNG.MOEX  ...       Public Joint stock company Rosseti Lenenergo\n",
              "SELGP   SELGP.MOEX  ...                Public Joint-Stock Company Seligdar\n",
              "AQUA     AQUA.MOEX  ...                           PJSC Russian Aquaculture\n",
              "MGNT     MGNT.MOEX  ...                  Public Joint Stock Company Magnit\n",
              "INGR     INGR.MOEX  ...                Public Joint Stock Company \"INGRAD\"\n",
              "FIXP     FIXP.MOEX  ...                               Fix Price Group Ltd.\n",
              "VLHZ     VLHZ.MOEX  ...  Public Joint Stock Company Vladimir Chemical P...\n",
              "ABRD     ABRD.MOEX  ...             Public Joint Stock Company Abrau-Durso\n",
              "KZOSP   KZOSP.MOEX  ...  Kazan Public Joint Stock Company Organichesky ...\n",
              "AFKS     AFKS.MOEX  ...   Sistema Public Joint Stock Financial Corporation\n",
              "SMLT     SMLT.MOEX  ...           Samolet Group Public Joint Stock Company\n",
              "SNGS     SNGS.MOEX  ...          Surgutneftegas Public Joint Stock Company\n",
              "LVHK     LVHK.MOEX  ...                                       Levenhuk Inc\n",
              "TCSG     TCSG.MOEX  ...                              TCS Group Holding PLC\n",
              "HHRU     HHRU.MOEX  ...                               HeadHunter Group PLC\n",
              "CNTLP   CNTLP.MOEX  ...       Central Telegraph Public Joint Stock Company\n",
              "YAKG     YAKG.MOEX  ...  Public Joint Stock Company Yakutsk Fuel and En...\n",
              "KMAZ     KMAZ.MOEX  ...                      KAMAZ Publicly Traded Company\n",
              "FIVE     FIVE.MOEX  ...                                X5 Retail Group N.V\n",
              "JNOSP   JNOSP.MOEX  ...  Public Joint Stock Company Slavneft-Yaroslavne...\n",
              "KROTP   KROTP.MOEX  ...  Joint-Stock Company Krasnyj Octyabr RUB1 PRF(RUB)\n",
              "KROT     KROT.MOEX  ...         Public Joint-Stock Company Krasnyj Octyabr\n",
              "\n",
              "[113 rows x 6 columns]"
            ]
          },
          "metadata": {},
          "execution_count": 32
        }
      ]
    },
    {
      "cell_type": "code",
      "metadata": {
        "id": "_1BiA6oYef1f"
      },
      "source": [
        "\n",
        "from google.colab import auth\n",
        "auth.authenticate_user()\n",
        "\n",
        "import gspread\n",
        "from oauth2client.client import GoogleCredentials\n",
        "\n",
        "gc = gspread.authorize(GoogleCredentials.get_application_default())"
      ],
      "execution_count": 3,
      "outputs": []
    },
    {
      "cell_type": "code",
      "metadata": {
        "id": "_b68FLwweyHU",
        "outputId": "6d307d1a-2be0-4c00-c943-de6ce422d01d",
        "colab": {
          "base_uri": "https://localhost:8080/",
          "height": 202
        }
      },
      "source": [
        "from gspread_dataframe import set_with_dataframe, get_as_dataframe\n",
        "\n",
        "name = 'dividends'\n",
        "# name = 'test'\n",
        "sheet = gc.open(name).sheet1\n",
        "new_df = get_as_dataframe(sheet)\n",
        "tickers = new_df.dropna(how='all')[['symbol']]\n",
        "tickers.head(5)"
      ],
      "execution_count": 65,
      "outputs": [
        {
          "output_type": "execute_result",
          "data": {
            "text/html": [
              "<div>\n",
              "<style scoped>\n",
              "    .dataframe tbody tr th:only-of-type {\n",
              "        vertical-align: middle;\n",
              "    }\n",
              "\n",
              "    .dataframe tbody tr th {\n",
              "        vertical-align: top;\n",
              "    }\n",
              "\n",
              "    .dataframe thead th {\n",
              "        text-align: right;\n",
              "    }\n",
              "</style>\n",
              "<table border=\"1\" class=\"dataframe\">\n",
              "  <thead>\n",
              "    <tr style=\"text-align: right;\">\n",
              "      <th></th>\n",
              "      <th>symbol</th>\n",
              "    </tr>\n",
              "  </thead>\n",
              "  <tbody>\n",
              "    <tr>\n",
              "      <th>0</th>\n",
              "      <td>LNZLP.MOEX</td>\n",
              "    </tr>\n",
              "    <tr>\n",
              "      <th>1</th>\n",
              "      <td>LNZL.MOEX</td>\n",
              "    </tr>\n",
              "    <tr>\n",
              "      <th>2</th>\n",
              "      <td>NLMK.MOEX</td>\n",
              "    </tr>\n",
              "    <tr>\n",
              "      <th>3</th>\n",
              "      <td>MTLRP.MOEX</td>\n",
              "    </tr>\n",
              "    <tr>\n",
              "      <th>4</th>\n",
              "      <td>CHMF.MOEX</td>\n",
              "    </tr>\n",
              "  </tbody>\n",
              "</table>\n",
              "</div>"
            ],
            "text/plain": [
              "       symbol\n",
              "0  LNZLP.MOEX\n",
              "1   LNZL.MOEX\n",
              "2   NLMK.MOEX\n",
              "3  MTLRP.MOEX\n",
              "4   CHMF.MOEX"
            ]
          },
          "metadata": {},
          "execution_count": 65
        }
      ]
    },
    {
      "cell_type": "code",
      "metadata": {
        "id": "nmtinOfKr7Au",
        "outputId": "25b9cec1-8c57-454c-8670-b520676dda52",
        "colab": {
          "base_uri": "https://localhost:8080/",
          "height": 1000
        }
      },
      "source": [
        "def get_div(row):\n",
        "  x = ok.Asset(row.symbol)\n",
        "  div = x.dividends\n",
        "  div.index = div.index.to_timestamp()\n",
        "\n",
        "  div_value = div[:'2022-01'].last('12M').sum() if '2021' in div.index else float('nan')\n",
        "  forecast_div_value = div.last('12M').sum() if '2022' in div.index else float('nan')\n",
        "\n",
        "  row['ticker'] = row.symbol.split('.')[0]\n",
        "  row['div_value'] = div_value\n",
        "  row['forecast_div_value'] = forecast_div_value\n",
        "  row['inc'] = div_value / x.price * 100\n",
        "  row['forecast_inc'] = forecast_div_value / x.price * 100\n",
        "  row['name'] = x.name\n",
        "  print(row.to_dict())\n",
        "  return row\n",
        "\n",
        "new_data_df = tickers.apply(get_div, axis='columns', result_type='expand').round(2)\n",
        "new_data_df.head(5)"
      ],
      "execution_count": 66,
      "outputs": [
        {
          "output_type": "stream",
          "name": "stdout",
          "text": [
            "{'symbol': 'LNZLP.MOEX', 'ticker': 'LNZLP', 'div_value': 3699.27, 'forecast_div_value': nan, 'inc': 175.73729216152017, 'forecast_inc': nan, 'name': 'Lena Gold-Mining Public Joint Stock Company Lenzoloto'}\n",
            "{'symbol': 'LNZL.MOEX', 'ticker': 'LNZL', 'div_value': 15219.5, 'forecast_div_value': nan, 'inc': 138.10798548094374, 'forecast_inc': nan, 'name': 'Lena Gold-Mining Public Joint Stock Company Lenzoloto'}\n",
            "{'symbol': 'NLMK.MOEX', 'ticker': 'NLMK', 'div_value': 41.91, 'forecast_div_value': 44.17, 'inc': 18.726541554959784, 'forecast_inc': 19.736371760500447, 'name': 'Public Joint Stock Company \"Novolipetsk Steel\"'}\n",
            "{'symbol': 'MTLRP.MOEX', 'ticker': 'MTLRP', 'div_value': 1.17, 'forecast_div_value': 58.89, 'inc': 0.36996047430830037, 'forecast_inc': 18.621343873517787, 'name': 'Mechel PAO'}\n",
            "{'symbol': 'CHMF.MOEX', 'ticker': 'CHMF', 'div_value': 253.42000000000002, 'forecast_div_value': 320.51, 'inc': 15.102502979737784, 'forecast_inc': 19.100715137067937, 'name': 'Public Joint Stock Company Severstal'}\n",
            "{'symbol': 'MAGN.MOEX', 'ticker': 'MAGN', 'div_value': 8.925, 'forecast_div_value': 11.96, 'inc': 14.314354450681638, 'forecast_inc': 19.182036888532476, 'name': 'Public Joint Stock Company Magnitogorsk Iron & Steel Works'}\n",
            "{'symbol': 'NKNCP.MOEX', 'ticker': 'NKNCP', 'div_value': 10.27, 'forecast_div_value': 15.899999999999999, 'inc': 10.168316831683168, 'forecast_inc': 15.74257425742574, 'name': 'Public Joint Stock Company Nizhnekamskneftekhim'}\n",
            "{'symbol': 'STSBP.MOEX', 'ticker': 'STSBP', 'div_value': 0.09159999999999999, 'forecast_div_value': nan, 'inc': 15.016393442622949, 'forecast_inc': nan, 'name': 'Stavropolenergosbyt Public Joint-Stock Company'}\n",
            "{'symbol': 'GMKN.MOEX', 'ticker': 'GMKN', 'div_value': 3376.26, 'forecast_div_value': 3268.45, 'inc': 14.9167623928603, 'forecast_inc': 14.440443580454183, 'name': 'Public Joint Stock Company Mining and Metallurgical Company Norilsk Nickel'}\n",
            "{'symbol': 'KGKCP.MOEX', 'ticker': 'KGKCP', 'div_value': 6.8491, 'forecast_div_value': nan, 'inc': 14.15103305785124, 'forecast_inc': nan, 'name': 'Public Joint Stock Company Kurgan Generation Company'}\n",
            "{'symbol': 'MVID.MOEX', 'ticker': 'MVID', 'div_value': 73.0, 'forecast_div_value': 77.88, 'inc': 12.5, 'forecast_inc': 13.335616438356162, 'name': 'Public Joint Stock Company M.video'}\n",
            "{'symbol': 'QIWI.MOEX', 'ticker': 'QIWI', 'div_value': 83.74, 'forecast_div_value': 83.34, 'inc': 12.982945736434107, 'forecast_inc': 12.92093023255814, 'name': 'QIWI plc'}\n",
            "{'symbol': 'MRSB.MOEX', 'ticker': 'MRSB', 'div_value': 0.0595, 'forecast_div_value': nan, 'inc': 12.142857142857142, 'forecast_inc': nan, 'name': 'Mordovia Energy Retail Company Public Joint-Stock Company'}\n",
            "{'symbol': 'RASP.MOEX', 'ticker': 'RASP', 'div_value': 28.7, 'forecast_div_value': 54.54, 'inc': 7.09132239573038, 'forecast_inc': 13.475983395928049, 'name': 'Public Joint Stock Company Raspadskaya'}\n",
            "{'symbol': 'WTCMP.MOEX', 'ticker': 'WTCMP', 'div_value': 1.1246, 'forecast_div_value': nan, 'inc': 12.664414414414413, 'forecast_inc': nan, 'name': 'Joint Stock Company \"World Trade Center Moscow\" RUB1 PRF(USD)'}\n",
            "{'symbol': 'UPRO.MOEX', 'ticker': 'UPRO', 'div_value': 0.31720000000000004, 'forecast_div_value': 0.3489, 'inc': 11.369175627240145, 'forecast_inc': 12.505376344086022, 'name': 'Public Joint-Stock Company Unipro'}\n",
            "{'symbol': 'TATNP.MOEX', 'ticker': 'TATNP', 'div_value': 40.59, 'forecast_div_value': 60.33, 'inc': 8.50943396226415, 'forecast_inc': 12.647798742138363, 'name': 'PJSC Tatneft'}\n",
            "{'symbol': 'OGKB.MOEX', 'ticker': 'OGKB', 'div_value': 0.06, 'forecast_div_value': 0.0834, 'inc': 8.823529411764705, 'forecast_inc': 12.26470588235294, 'name': 'Public Joint-Stock Company \"Second Generating Company of the Electric Power Wholesale Market\"'}\n",
            "{'symbol': 'NKNC.MOEX', 'ticker': 'NKNC', 'div_value': 10.27, 'forecast_div_value': 15.899999999999999, 'inc': 7.875766871165643, 'forecast_inc': 12.19325153374233, 'name': 'Public Joint Stock Company Nizhnekamskneftekhim'}\n",
            "{'symbol': 'GAZP.MOEX', 'ticker': 'GAZP', 'div_value': 12.55, 'forecast_div_value': 39.58, 'inc': 3.58305258950494, 'forecast_inc': 11.300177011362987, 'name': 'Public Joint Stock Company Gazprom'}\n",
            "{'symbol': 'WTCM.MOEX', 'ticker': 'WTCM', 'div_value': 1.1246, 'forecast_div_value': nan, 'inc': 11.690228690228691, 'forecast_inc': nan, 'name': 'Joint Stock Company \"World Trade Center Moscow\"'}\n",
            "{'symbol': 'LKOH.MOEX', 'ticker': 'LKOH', 'div_value': 553.0, 'forecast_div_value': 772.98, 'inc': 7.960843590297271, 'forecast_inc': 11.1276182250054, 'name': 'PJSC LUKOIL'}\n",
            "{'symbol': 'MTSS.MOEX', 'ticker': 'MTSS', 'div_value': 37.06, 'forecast_div_value': 36.0, 'inc': 11.71672462851723, 'forecast_inc': 11.38159974707556, 'name': 'Mobile TeleSystems Public Joint Stock Company'}\n",
            "{'symbol': 'VTBR.MOEX', 'ticker': 'VTBR', 'div_value': 0.0014, 'forecast_div_value': 0.0057, 'inc': 2.8, 'forecast_inc': 11.4, 'name': 'VTB Bank (public joint-stock company)'}\n",
            "{'symbol': 'ALRS.MOEX', 'ticker': 'ALRS', 'div_value': 18.33, 'forecast_div_value': 14.72, 'inc': 13.790249774300332, 'forecast_inc': 11.074330424315379, 'name': 'Public Joint Stock Company ALROSA'}\n",
            "{'symbol': 'TATN.MOEX', 'ticker': 'TATN', 'div_value': 40.59, 'forecast_div_value': 60.33, 'inc': 7.629699248120302, 'forecast_inc': 11.340225563909774, 'name': 'PJSC Tatneft'}\n",
            "{'symbol': 'MRKC.MOEX', 'ticker': 'MRKC', 'div_value': 0.0335, 'forecast_div_value': 0.0452, 'inc': 7.976190476190477, 'forecast_inc': 10.761904761904761, 'name': 'Interregional Distribution Grid Company of Centre Public Joint Stock Company'}\n",
            "{'symbol': 'LSNGP.MOEX', 'ticker': 'LSNGP', 'div_value': 15.17, 'forecast_div_value': 19.99, 'inc': 8.282828282828282, 'forecast_inc': 10.914550914550913, 'name': 'Public Joint stock company Rosseti Lenenergo'}\n",
            "{'symbol': 'RGSS.MOEX', 'ticker': 'RGSS', 'div_value': 0.025, 'forecast_div_value': nan, 'inc': 10.869565217391305, 'forecast_inc': nan, 'name': 'Rosgosstrakh Insurance Company (Public Joint Stock Company)'}\n",
            "{'symbol': 'MSRS.MOEX', 'ticker': 'MSRS', 'div_value': 0.0493, 'forecast_div_value': 0.1457, 'inc': 3.763358778625954, 'forecast_inc': 11.122137404580151, 'name': 'Public Joint-Stock Company \"Rosseti Moscow Region\"'}\n",
            "{'symbol': 'PHOR.MOEX', 'ticker': 'PHOR', 'div_value': 558.0, 'forecast_div_value': 615.5799999999999, 'inc': 9.592573491490459, 'forecast_inc': 10.58243080625752, 'name': 'Public Joint-Stock Company PhosAgro'}\n",
            "{'symbol': 'LSRG.MOEX', 'ticker': 'LSRG', 'div_value': 39.0, 'forecast_div_value': 78.0, 'inc': 5.380794701986756, 'forecast_inc': 10.761589403973511, 'name': 'PJSC LSR Group'}\n",
            "{'symbol': 'BANEP.MOEX', 'ticker': 'BANEP', 'div_value': 0.1, 'forecast_div_value': 118.4, 'inc': 0.008900756564307966, 'forecast_inc': 10.538495772140632, 'name': 'Public Joint Stock Oil Company Bashneft'}\n",
            "{'symbol': 'RSTIP.MOEX', 'ticker': 'RSTIP', 'div_value': 0.0588, 'forecast_div_value': 0.2008, 'inc': 3.0153846153846153, 'forecast_inc': 10.297435897435898, 'name': 'Rosseti Public Joint Stock Company'}\n",
            "{'symbol': 'KRKNP.MOEX', 'ticker': 'KRKNP', 'div_value': 1132.93, 'forecast_div_value': 1582.2, 'inc': 7.019392812887237, 'forecast_inc': 9.802973977695167, 'name': 'Public Joint Stock Company Saratov Oil Refinery'}\n",
            "{'symbol': 'SIBN.MOEX', 'ticker': 'SIBN', 'div_value': 50.0, 'forecast_div_value': 52.34, 'inc': 9.512032721392561, 'forecast_inc': 9.957195852753735, 'name': 'Public Joint Stock Company Gazprom Neft'}\n",
            "{'symbol': 'ENRU.MOEX', 'ticker': 'ENRU', 'div_value': 0.0, 'forecast_div_value': 0.085, 'inc': 0.0, 'forecast_inc': 9.55056179775281, 'name': 'Public Joint-Stock Company Enel Russia'}\n",
            "{'symbol': 'KGKC.MOEX', 'ticker': 'KGKC', 'div_value': 4.5074000000000005, 'forecast_div_value': nan, 'inc': 9.351452282157677, 'forecast_inc': nan, 'name': 'Public Joint Stock Company Kurgan Generation Company'}\n",
            "{'symbol': 'MGTSP.MOEX', 'ticker': 'MGTSP', 'div_value': 154.0, 'forecast_div_value': 132.28, 'inc': 10.906515580736544, 'forecast_inc': 9.36827195467422, 'name': 'Public Joint Stock Company Moscow City Telephone Network'}\n",
            "{'symbol': 'FEES.MOEX', 'ticker': 'FEES', 'div_value': 0.0161, 'forecast_div_value': 0.0165, 'inc': 8.944444444444445, 'forecast_inc': 9.166666666666668, 'name': 'Public Joint-Stock Company Federal Grid Company of Unified Energy System'}\n",
            "{'symbol': 'AGRO.MOEX', 'ticker': 'AGRO', 'div_value': 144.97, 'forecast_div_value': 105.9, 'inc': 12.358908780903665, 'forecast_inc': 9.028132992327366, 'name': 'Ros Agro PLC'}\n",
            "{'symbol': 'DSKY.MOEX', 'ticker': 'DSKY', 'div_value': 11.27, 'forecast_div_value': 12.780000000000001, 'inc': 8.040810502283104, 'forecast_inc': 9.118150684931507, 'name': 'Public Joint Stock Company Detsky Mir'}\n",
            "{'symbol': 'POLY.MOEX', 'ticker': 'POLY', 'div_value': 99.16, 'forecast_div_value': 124.41, 'inc': 6.728642193119359, 'forecast_inc': 8.442016692678292, 'name': 'Polymetal International plc'}\n",
            "{'symbol': 'SBERP.MOEX', 'ticker': 'SBERP', 'div_value': 18.7, 'forecast_div_value': 28.05, 'inc': 5.990133897110641, 'forecast_inc': 8.985200845665963, 'name': 'Sberbank of Russia'}\n",
            "{'symbol': 'TRNFP.MOEX', 'ticker': 'TRNFP', 'div_value': 9224.28, 'forecast_div_value': 13045.11, 'inc': 6.100714285714286, 'forecast_inc': 8.627718253968254, 'name': 'Public Joint Stock Company Transneft'}\n",
            "{'symbol': 'MRKP.MOEX', 'ticker': 'MRKP', 'div_value': 0.0259, 'forecast_div_value': 0.0228, 'inc': 9.96153846153846, 'forecast_inc': 8.76923076923077, 'name': 'Interregional Distribution Grid Company of Center and Volga Region Public Joint Stock Company'}\n",
            "{'symbol': 'RSTI.MOEX', 'ticker': 'RSTI', 'div_value': 0.0245, 'forecast_div_value': 0.1142, 'inc': 1.7625899280575543, 'forecast_inc': 8.215827338129497, 'name': 'Rosseti Public Joint Stock Company'}\n",
            "{'symbol': 'NMTP.MOEX', 'ticker': 'NMTP', 'div_value': 0.06, 'forecast_div_value': 0.6263, 'inc': 0.8379888268156425, 'forecast_inc': 8.747206703910614, 'name': 'Public Joint Stock Company Novorossiysk Commercial Sea Port'}\n",
            "{'symbol': 'SNGSP.MOEX', 'ticker': 'SNGSP', 'div_value': 6.72, 'forecast_div_value': 3.23, 'inc': 17.068834137668276, 'forecast_inc': 8.204216408432817, 'name': 'Surgutneftegas Public Joint Stock Company'}\n",
            "{'symbol': 'HYDR.MOEX', 'ticker': 'HYDR', 'div_value': 0.053, 'forecast_div_value': 0.0667, 'inc': 6.463414634146342, 'forecast_inc': 8.134146341463415, 'name': 'Public Joint-Stock Company Federal Hydro-Generating Company - RusHydro'}\n",
            "{'symbol': 'PMSBP.MOEX', 'ticker': 'PMSBP', 'div_value': 12.5, 'forecast_div_value': nan, 'inc': 8.180628272251308, 'forecast_inc': nan, 'name': 'Public Joint Stock Company Perm Energy Supplying Company'}\n",
            "{'symbol': 'BANE.MOEX', 'ticker': 'BANE', 'div_value': 0.0, 'forecast_div_value': 118.4, 'inc': 0.0, 'forecast_inc': 7.710843373493977, 'name': 'Public Joint Stock Oil Company Bashneft'}\n",
            "{'symbol': 'SBER.MOEX', 'ticker': 'SBER', 'div_value': 18.7, 'forecast_div_value': 28.05, 'inc': 5.47985347985348, 'forecast_inc': 8.21978021978022, 'name': 'Sberbank of Russia'}\n",
            "{'symbol': 'EELT.MOEX', 'ticker': 'EELT', 'div_value': 0.5885, 'forecast_div_value': nan, 'inc': 8.039617486338797, 'forecast_inc': nan, 'name': 'European Eltech Public Joint Stock Company'}\n",
            "{'symbol': 'GLTR.MOEX', 'ticker': 'GLTR', 'div_value': 50.24, 'forecast_div_value': 47.730000000000004, 'inc': 8.579234972677597, 'forecast_inc': 8.15061475409836, 'name': 'Globaltrans Investment Plc'}\n",
            "{'symbol': 'RZSB.MOEX', 'ticker': 'RZSB', 'div_value': 1.4517, 'forecast_div_value': nan, 'inc': 7.804838709677418, 'forecast_inc': nan, 'name': 'Joint-Stock Company Ryazanenergosbyt'}\n",
            "{'symbol': 'AKRN.MOEX', 'ticker': 'AKRN', 'div_value': 780.0, 'forecast_div_value': 1159.43, 'inc': 6.11764705882353, 'forecast_inc': 9.093568627450981, 'name': 'Public Joint Stock Company Acron'}\n",
            "{'symbol': 'PMSB.MOEX', 'ticker': 'PMSB', 'div_value': 12.5, 'forecast_div_value': nan, 'inc': 7.891414141414141, 'forecast_inc': nan, 'name': 'Public Joint Stock Company Perm Energy Supplying Company'}\n",
            "{'symbol': 'KZOS.MOEX', 'ticker': 'KZOS', 'div_value': 9.11, 'forecast_div_value': 7.58, 'inc': 9.479708636836628, 'forecast_inc': 7.887617065556713, 'name': 'Kazan Public Joint Stock Company Organichesky sintez'}\n",
            "{'symbol': 'RDRB.MOEX', 'ticker': 'RDRB', 'div_value': 17.3136, 'forecast_div_value': nan, 'inc': 7.660884955752214, 'forecast_inc': nan, 'name': 'The Russian Public Joint-Stock Commercial Roads Bank (Public joint-stock company)'}\n",
            "{'symbol': 'ROSN.MOEX', 'ticker': 'ROSN', 'div_value': 24.970000000000002, 'forecast_div_value': 54.8, 'inc': 3.9843625339077713, 'forecast_inc': 8.74421573320568, 'name': 'Public Joint Stock Company Rosneft Oil Company'}\n",
            "{'symbol': 'TTLK.MOEX', 'ticker': 'TTLK', 'div_value': 0.0393, 'forecast_div_value': 0.0447, 'inc': 6.046153846153846, 'forecast_inc': 6.8769230769230765, 'name': 'Tattelecom Public Joint-Stock Company'}\n",
            "{'symbol': 'RTKMP.MOEX', 'ticker': 'RTKMP', 'div_value': 5.0, 'forecast_div_value': 6.0, 'inc': 5.9453032104637344, 'forecast_inc': 7.134363852556482, 'name': 'Public Joint Stock Company Rostelecom'}\n",
            "{'symbol': 'NKHP.MOEX', 'ticker': 'NKHP', 'div_value': 23.17, 'forecast_div_value': 24.6, 'inc': 6.696531791907515, 'forecast_inc': 7.109826589595376, 'name': 'Public Joint Stock Company Novorossyisk Grain Plant'}\n",
            "{'symbol': 'MOEX.MOEX', 'ticker': 'MOEX', 'div_value': 9.45, 'forecast_div_value': 11.94, 'inc': 5.606644912488875, 'forecast_inc': 7.083951349747848, 'name': 'Public Joint-Stock Company Moscow Exchange MICEX-RTS'}\n",
            "{'symbol': 'KRSBP.MOEX', 'ticker': 'KRSBP', 'div_value': 0.6471, 'forecast_div_value': nan, 'inc': 7.064410480349345, 'forecast_inc': nan, 'name': 'Public Joint Stock Company Krasnoyarskenergosbyt'}\n",
            "{'symbol': 'HIMCP.MOEX', 'ticker': 'HIMCP', 'div_value': 0.5605, 'forecast_div_value': 0.7954, 'inc': 4.964570416297609, 'forecast_inc': 7.045172719220549, 'name': 'Khimprom Public Joint stock company'}\n",
            "{'symbol': 'GCHE.MOEX', 'ticker': 'GCHE', 'div_value': 219.26999999999998, 'forecast_div_value': 231.88, 'inc': 6.271128271128271, 'forecast_inc': 6.631774631774631, 'name': 'Public Joint Stock Company \"Cherkizovo Group\"'}\n",
            "{'symbol': 'MSNG.MOEX', 'ticker': 'MSNG', 'div_value': 0.1794, 'forecast_div_value': 0.1477, 'inc': 8.154545454545454, 'forecast_inc': 6.713636363636363, 'name': 'Public Joint Stock Company Mosenergo'}\n",
            "{'symbol': 'BSPB.MOEX', 'ticker': 'BSPB', 'div_value': 4.56, 'forecast_div_value': 6.1, 'inc': 4.957060550059788, 'forecast_inc': 6.631155560386999, 'name': '\"Bank \"Saint-Petersburg\" Public Joint-Stock Company'}\n",
            "{'symbol': 'RTKM.MOEX', 'ticker': 'RTKM', 'div_value': 5.0, 'forecast_div_value': 6.0, 'inc': 5.379814934366258, 'forecast_inc': 6.45577792123951, 'name': 'Public Joint Stock Company Rostelecom'}\n",
            "{'symbol': 'MGTS.MOEX', 'ticker': 'MGTS', 'div_value': 154.0, 'forecast_div_value': 132.28, 'inc': 6.652267818574514, 'forecast_inc': 5.714038876889848, 'name': 'Public Joint Stock Company Moscow City Telephone Network'}\n",
            "{'symbol': 'VSMO.MOEX', 'ticker': 'VSMO', 'div_value': 1129.63, 'forecast_div_value': 1970.79, 'inc': 2.4546501521077793, 'forecast_inc': 4.282464146023468, 'name': 'public stock company VSMPO-AVISMA Corporation'}\n",
            "{'symbol': 'TRMK.MOEX', 'ticker': 'TRMK', 'div_value': 29.380000000000003, 'forecast_div_value': 4.5, 'inc': 35.38906287641533, 'forecast_inc': 5.420380631173211, 'name': 'PAO TMK'}\n",
            "{'symbol': 'MDMG.MOEX', 'ticker': 'MDMG', 'div_value': 37.39, 'forecast_div_value': 44.45, 'inc': 4.383866807363114, 'forecast_inc': 5.211630906319615, 'name': 'MD Medical Group Investments Plc'}\n",
            "{'symbol': 'IRAO.MOEX', 'ticker': 'IRAO', 'div_value': 0.1807, 'forecast_div_value': 0.2439, 'inc': 3.8365180467091293, 'forecast_inc': 5.178343949044586, 'name': 'Public Joint Stock Company Inter RAO UES'}\n",
            "{'symbol': 'NVTK.MOEX', 'ticker': 'NVTK', 'div_value': 51.41, 'forecast_div_value': 91.18, 'inc': 2.9002595058106735, 'forecast_inc': 5.143856482003837, 'name': 'PAO NOVATEK'}\n",
            "{'symbol': 'KRSB.MOEX', 'ticker': 'KRSB', 'div_value': 0.6471, 'forecast_div_value': 0.455, 'inc': 7.378563283922464, 'forecast_inc': 5.188141391106043, 'name': 'Public Joint Stock Company Krasnoyarskenergosbyt'}\n",
            "{'symbol': 'DIOD.MOEX', 'ticker': 'DIOD', 'div_value': 0.65, 'forecast_div_value': 0.43, 'inc': 7.558139534883722, 'forecast_inc': 5.0, 'name': 'DIOD Maker of Eco-Friendly Equipment and Nutrition Public Joint Stock Company'}\n",
            "{'symbol': 'BISVP.MOEX', 'ticker': 'BISVP', 'div_value': 0.264, 'forecast_div_value': 0.3969, 'inc': 3.1541218637992836, 'forecast_inc': 4.741935483870968, 'name': \"Public Joint-Stock Company Bashinformsvyaz RUB1 PRF'A'(USD)\"}\n",
            "{'symbol': 'BELU.MOEX', 'ticker': 'BELU', 'div_value': 162.76, 'forecast_div_value': 182.62, 'inc': 4.18191161356629, 'forecast_inc': 4.692189105858171, 'name': 'Beluga Group Public Joint-Stock Company'}\n",
            "{'symbol': 'KAZT.MOEX', 'ticker': 'KAZT', 'div_value': 18.85, 'forecast_div_value': 17.0, 'inc': 5.053619302949062, 'forecast_inc': 4.557640750670242, 'name': 'Public Joint Stock Company KuibyshevAzot'}\n",
            "{'symbol': 'KAZTP.MOEX', 'ticker': 'KAZTP', 'div_value': 18.85, 'forecast_div_value': 17.0, 'inc': 4.808673469387755, 'forecast_inc': 4.336734693877551, 'name': 'Public Joint Stock Company KuibyshevAzot'}\n",
            "{'symbol': 'FLOT.MOEX', 'ticker': 'FLOT', 'div_value': 6.67, 'forecast_div_value': 3.05, 'inc': 7.959427207637232, 'forecast_inc': 3.639618138424821, 'name': 'Sovcomflot Pao'}\n",
            "{'symbol': 'PRMB.MOEX', 'ticker': 'PRMB', 'div_value': 1706.55, 'forecast_div_value': nan, 'inc': 3.914105504587156, 'forecast_inc': nan, 'name': 'Public joint-stock commercial bank Primorye'}\n",
            "{'symbol': 'ASSB.MOEX', 'ticker': 'ASSB', 'div_value': 0.0, 'forecast_div_value': 0.0388, 'inc': 0.0, 'forecast_inc': 4.127659574468086, 'name': 'Astrakhan Power Sale Company Public Joint-Stock Company'}\n",
            "{'symbol': 'ARSA.MOEX', 'ticker': 'ARSA', 'div_value': 0.36, 'forecast_div_value': nan, 'inc': 4.161849710982659, 'forecast_inc': nan, 'name': 'Arsagera Asset Management'}\n",
            "{'symbol': 'KBSB.MOEX', 'ticker': 'KBSB', 'div_value': 7.07, 'forecast_div_value': nan, 'inc': 4.682119205298013, 'forecast_inc': nan, 'name': 'Public Joint Stock Company \"TNS energo Kuban\"'}\n",
            "{'symbol': 'PIKK.MOEX', 'ticker': 'PIKK', 'div_value': 68.14, 'forecast_div_value': 45.22, 'inc': 6.187233269772087, 'forecast_inc': 4.106056478706983, 'name': 'Public Joint Stock Company PIK-specialized homebuilder'}\n",
            "{'symbol': 'PLZL.MOEX', 'ticker': 'PLZL', 'div_value': 654.63, 'forecast_div_value': 646.77, 'inc': 4.127553593947036, 'forecast_inc': 4.077994955863808, 'name': 'Public Joint Stock Company Polyus'}\n",
            "{'symbol': 'SELG.MOEX', 'ticker': 'SELG', 'div_value': 2.73, 'forecast_div_value': 2.73, 'inc': 4.014705882352941, 'forecast_inc': 4.014705882352941, 'name': 'Public Joint-Stock Company Seligdar'}\n",
            "{'symbol': 'LSNG.MOEX', 'ticker': 'LSNG', 'div_value': 0.2626, 'forecast_div_value': 0.3002, 'inc': 2.8206229860365197, 'forecast_inc': 3.224489795918367, 'name': 'Public Joint stock company Rosseti Lenenergo'}\n",
            "{'symbol': 'SELGP.MOEX', 'ticker': 'SELGP', 'div_value': 2.25, 'forecast_div_value': 2.25, 'inc': 3.287070854638422, 'forecast_inc': 3.287070854638422, 'name': 'Public Joint-Stock Company Seligdar'}\n",
            "{'symbol': 'AQUA.MOEX', 'ticker': 'AQUA', 'div_value': 17.0, 'forecast_div_value': 18.0, 'inc': 3.011514614703277, 'forecast_inc': 3.188662533215235, 'name': 'PJSC Russian Aquaculture'}\n",
            "{'symbol': 'MGNT.MOEX', 'ticker': 'MGNT', 'div_value': 539.6800000000001, 'forecast_div_value': 489.70000000000005, 'inc': 8.416062378167641, 'forecast_inc': 7.636647173489279, 'name': 'Public Joint Stock Company Magnit'}\n",
            "{'symbol': 'INGR.MOEX', 'ticker': 'INGR', 'div_value': 36.39, 'forecast_div_value': nan, 'inc': 2.7673003802281366, 'forecast_inc': nan, 'name': 'Public Joint Stock Company \"INGRAD\"'}\n",
            "{'symbol': 'FIXP.MOEX', 'ticker': 'FIXP', 'div_value': 11.69, 'forecast_div_value': 13.399999999999999, 'inc': 1.974662162162162, 'forecast_inc': 2.263513513513513, 'name': 'Fix Price Group Ltd.'}\n",
            "{'symbol': 'VLHZ.MOEX', 'ticker': 'VLHZ', 'div_value': 1.8, 'forecast_div_value': nan, 'inc': 2.1778584392014517, 'forecast_inc': nan, 'name': 'Public Joint Stock Company Vladimir Chemical Plant'}\n",
            "{'symbol': 'ABRD.MOEX', 'ticker': 'ABRD', 'div_value': 3.8899999999999997, 'forecast_div_value': nan, 'inc': 1.959697732997481, 'forecast_inc': nan, 'name': 'Public Joint Stock Company Abrau-Durso'}\n",
            "{'symbol': 'KZOSP.MOEX', 'ticker': 'KZOSP', 'div_value': 0.75, 'forecast_div_value': 0.5, 'inc': 2.8702640642939152, 'forecast_inc': 1.9135093761959436, 'name': 'Kazan Public Joint Stock Company Organichesky sintez'}\n",
            "{'symbol': 'AFKS.MOEX', 'ticker': 'AFKS', 'div_value': 0.31, 'forecast_div_value': 0.53, 'inc': 1.1163125675189054, 'forecast_inc': 1.9085343896290963, 'name': 'Sistema Public Joint Stock Financial Corporation'}\n",
            "{'symbol': 'SMLT.MOEX', 'ticker': 'SMLT', 'div_value': 82.0, 'forecast_div_value': 82.0, 'inc': 1.6977225672877845, 'forecast_inc': 1.6977225672877845, 'name': 'Samolet Group Public Joint Stock Company'}\n",
            "{'symbol': 'SNGS.MOEX', 'ticker': 'SNGS', 'div_value': 0.7, 'forecast_div_value': 0.6, 'inc': 1.583710407239819, 'forecast_inc': 1.3574660633484161, 'name': 'Surgutneftegas Public Joint Stock Company'}\n",
            "{'symbol': 'LVHK.MOEX', 'ticker': 'LVHK', 'div_value': 0.3, 'forecast_div_value': 0.2549, 'inc': 1.6713091922005572, 'forecast_inc': 1.4200557103064069, 'name': 'Levenhuk Inc'}\n",
            "{'symbol': 'TCSG.MOEX', 'ticker': 'TCSG', 'div_value': 17.51, 'forecast_div_value': 83.32, 'inc': 0.2408528198074278, 'forecast_inc': 1.146079779917469, 'name': 'TCS Group Holding PLC'}\n",
            "{'symbol': 'HHRU.MOEX', 'ticker': 'HHRU', 'div_value': 40.33, 'forecast_div_value': 34.56, 'inc': 0.8906802120141343, 'forecast_inc': 0.7632508833922261, 'name': 'HeadHunter Group PLC'}\n",
            "{'symbol': 'CNTLP.MOEX', 'ticker': 'CNTLP', 'div_value': 0.25, 'forecast_div_value': 0.0496, 'inc': 2.598752598752599, 'forecast_inc': 0.5155925155925156, 'name': 'Central Telegraph Public Joint Stock Company'}\n",
            "{'symbol': 'YAKG.MOEX', 'ticker': 'YAKG', 'div_value': 0.61, 'forecast_div_value': nan, 'inc': 0.4728682170542635, 'forecast_inc': nan, 'name': 'Public Joint Stock Company Yakutsk Fuel and Energy Company'}\n",
            "{'symbol': 'KMAZ.MOEX', 'ticker': 'KMAZ', 'div_value': 0.54, 'forecast_div_value': 0.4242, 'inc': 0.44739022369511183, 'forecast_inc': 0.35144987572493785, 'name': 'KAMAZ Publicly Traded Company'}\n",
            "{'symbol': 'FIVE.MOEX', 'ticker': 'FIVE', 'div_value': 2.5038, 'forecast_div_value': nan, 'inc': 0.10672634271099744, 'forecast_inc': nan, 'name': 'X5 Retail Group N.V'}\n",
            "{'symbol': 'JNOSP.MOEX', 'ticker': 'JNOSP', 'div_value': 0.01, 'forecast_div_value': nan, 'inc': 0.05649717514124294, 'forecast_inc': nan, 'name': 'Public Joint Stock Company Slavneft-Yaroslavnefteorgsintez'}\n",
            "{'symbol': 'KROTP.MOEX', 'ticker': 'KROTP', 'div_value': 0.13, 'forecast_div_value': nan, 'inc': 0.03795620437956205, 'forecast_inc': nan, 'name': 'Joint-Stock Company Krasnyj Octyabr RUB1 PRF(RUB)'}\n",
            "{'symbol': 'KROT.MOEX', 'ticker': 'KROT', 'div_value': 0.1, 'forecast_div_value': nan, 'inc': 0.022701475595913734, 'forecast_inc': nan, 'name': 'Public Joint-Stock Company Krasnyj Octyabr'}\n"
          ]
        },
        {
          "output_type": "execute_result",
          "data": {
            "text/html": [
              "<div>\n",
              "<style scoped>\n",
              "    .dataframe tbody tr th:only-of-type {\n",
              "        vertical-align: middle;\n",
              "    }\n",
              "\n",
              "    .dataframe tbody tr th {\n",
              "        vertical-align: top;\n",
              "    }\n",
              "\n",
              "    .dataframe thead th {\n",
              "        text-align: right;\n",
              "    }\n",
              "</style>\n",
              "<table border=\"1\" class=\"dataframe\">\n",
              "  <thead>\n",
              "    <tr style=\"text-align: right;\">\n",
              "      <th></th>\n",
              "      <th>symbol</th>\n",
              "      <th>ticker</th>\n",
              "      <th>div_value</th>\n",
              "      <th>forecast_div_value</th>\n",
              "      <th>inc</th>\n",
              "      <th>forecast_inc</th>\n",
              "      <th>name</th>\n",
              "    </tr>\n",
              "  </thead>\n",
              "  <tbody>\n",
              "    <tr>\n",
              "      <th>0</th>\n",
              "      <td>LNZLP.MOEX</td>\n",
              "      <td>LNZLP</td>\n",
              "      <td>3699.27</td>\n",
              "      <td>NaN</td>\n",
              "      <td>175.74</td>\n",
              "      <td>NaN</td>\n",
              "      <td>Lena Gold-Mining Public Joint Stock Company Le...</td>\n",
              "    </tr>\n",
              "    <tr>\n",
              "      <th>1</th>\n",
              "      <td>LNZL.MOEX</td>\n",
              "      <td>LNZL</td>\n",
              "      <td>15219.50</td>\n",
              "      <td>NaN</td>\n",
              "      <td>138.11</td>\n",
              "      <td>NaN</td>\n",
              "      <td>Lena Gold-Mining Public Joint Stock Company Le...</td>\n",
              "    </tr>\n",
              "    <tr>\n",
              "      <th>2</th>\n",
              "      <td>NLMK.MOEX</td>\n",
              "      <td>NLMK</td>\n",
              "      <td>41.91</td>\n",
              "      <td>44.17</td>\n",
              "      <td>18.73</td>\n",
              "      <td>19.74</td>\n",
              "      <td>Public Joint Stock Company \"Novolipetsk Steel\"</td>\n",
              "    </tr>\n",
              "    <tr>\n",
              "      <th>3</th>\n",
              "      <td>MTLRP.MOEX</td>\n",
              "      <td>MTLRP</td>\n",
              "      <td>1.17</td>\n",
              "      <td>58.89</td>\n",
              "      <td>0.37</td>\n",
              "      <td>18.62</td>\n",
              "      <td>Mechel PAO</td>\n",
              "    </tr>\n",
              "    <tr>\n",
              "      <th>4</th>\n",
              "      <td>CHMF.MOEX</td>\n",
              "      <td>CHMF</td>\n",
              "      <td>253.42</td>\n",
              "      <td>320.51</td>\n",
              "      <td>15.10</td>\n",
              "      <td>19.10</td>\n",
              "      <td>Public Joint Stock Company Severstal</td>\n",
              "    </tr>\n",
              "  </tbody>\n",
              "</table>\n",
              "</div>"
            ],
            "text/plain": [
              "       symbol  ...                                               name\n",
              "0  LNZLP.MOEX  ...  Lena Gold-Mining Public Joint Stock Company Le...\n",
              "1   LNZL.MOEX  ...  Lena Gold-Mining Public Joint Stock Company Le...\n",
              "2   NLMK.MOEX  ...     Public Joint Stock Company \"Novolipetsk Steel\"\n",
              "3  MTLRP.MOEX  ...                                         Mechel PAO\n",
              "4   CHMF.MOEX  ...               Public Joint Stock Company Severstal\n",
              "\n",
              "[5 rows x 7 columns]"
            ]
          },
          "metadata": {},
          "execution_count": 66
        }
      ]
    },
    {
      "cell_type": "code",
      "metadata": {
        "id": "qup9RCr2XeA_",
        "outputId": "d7007946-9d77-4d5c-9188-2065509630e1",
        "colab": {
          "base_uri": "https://localhost:8080/",
          "height": 1000
        }
      },
      "source": [
        "def get_prices(row):\n",
        "  x = ok.Asset(row.symbol)\n",
        "  prices = x.close_daily\n",
        "  prices.index = prices.index.to_timestamp()\n",
        "  row['price'] = x.price\n",
        "  row['30d_min'] = prices.last('30D').min()\n",
        "  row['30d_max'] = prices.last('30D').max()\n",
        "  row['30d_drowdown'] = x.price / row['30d_max'] * 100 - 100\n",
        "  row['365d_min'] = prices.last('365D').min()\n",
        "  row['365d_max'] = prices.last('365D').max()\n",
        "  row['365d_drowdown'] = x.price / row['365d_max'] * 100 - 100\n",
        "  print(row.to_dict())\n",
        "  return row\n",
        "\n",
        "new_data_df = new_data_df.apply(get_prices, axis='columns', result_type='expand').round(2)\n",
        "new_data_df.head(5)\n"
      ],
      "execution_count": 67,
      "outputs": [
        {
          "output_type": "stream",
          "name": "stdout",
          "text": [
            "{'symbol': 'LNZLP.MOEX', 'ticker': 'LNZLP', 'div_value': 3699.27, 'forecast_div_value': nan, 'inc': 175.74, 'forecast_inc': nan, 'name': 'Lena Gold-Mining Public Joint Stock Company Lenzoloto', 'price': 2105.0, '30d_min': 2095.0, '30d_max': 2215.0, '30d_drowdown': -4.966139954853276, '365d_min': 1935.0, '365d_max': 7200.0, '365d_drowdown': -70.76388888888889}\n",
            "{'symbol': 'LNZL.MOEX', 'ticker': 'LNZL', 'div_value': 15219.5, 'forecast_div_value': nan, 'inc': 138.11, 'forecast_inc': nan, 'name': 'Lena Gold-Mining Public Joint Stock Company Lenzoloto', 'price': 11020.0, '30d_min': 10910.0, '30d_max': 11830.0, '30d_drowdown': -6.84699915469146, '365d_min': 10100.0, '365d_max': 35000.0, '365d_drowdown': -68.51428571428572}\n",
            "{'symbol': 'NLMK.MOEX', 'ticker': 'NLMK', 'div_value': 41.91, 'forecast_div_value': 44.17, 'inc': 18.73, 'forecast_inc': 19.74, 'name': 'Public Joint Stock Company \"Novolipetsk Steel\"', 'price': 223.8, '30d_min': 218.94, '30d_max': 231.1, '30d_drowdown': -3.1588057118130592, '365d_min': 190.06, '365d_max': 279.58, '365d_drowdown': -19.951355604835825}\n",
            "{'symbol': 'MTLRP.MOEX', 'ticker': 'MTLRP', 'div_value': 1.17, 'forecast_div_value': 58.89, 'inc': 0.37, 'forecast_inc': 18.62, 'name': 'Mechel PAO', 'price': 316.25, '30d_min': 296.5, '30d_max': 329.0, '30d_drowdown': -3.875379939209722, '365d_min': 69.35, '365d_max': 329.0, '365d_drowdown': -3.875379939209722}\n",
            "{'symbol': 'CHMF.MOEX', 'ticker': 'CHMF', 'div_value': 253.42, 'forecast_div_value': 320.51, 'inc': 15.1, 'forecast_inc': 19.1, 'name': 'Public Joint Stock Company Severstal', 'price': 1678.0, '30d_min': 1614.2, '30d_max': 1676.4, '30d_drowdown': 0.09544261512763796, '365d_min': 1105.4, '365d_max': 1881.2, '365d_drowdown': -10.80161598979376}\n",
            "{'symbol': 'MAGN.MOEX', 'ticker': 'MAGN', 'div_value': 8.93, 'forecast_div_value': 11.96, 'inc': 14.31, 'forecast_inc': 19.18, 'name': 'Public Joint Stock Company Magnitogorsk Iron & Steel Works', 'price': 62.35, '30d_min': 61.86, '30d_max': 70.02, '30d_drowdown': -10.954013139103097, '365d_min': 41.465, '365d_max': 79.085, '365d_drowdown': -21.160776379844464}\n",
            "{'symbol': 'NKNCP.MOEX', 'ticker': 'NKNCP', 'div_value': 10.27, 'forecast_div_value': 15.9, 'inc': 10.17, 'forecast_inc': 15.74, 'name': 'Public Joint Stock Company Nizhnekamskneftekhim', 'price': 101.0, '30d_min': 101.0, '30d_max': 107.12, '30d_drowdown': -5.713218820014944, '365d_min': 73.3, '365d_max': 127.02, '365d_drowdown': -20.484962997953076}\n",
            "{'symbol': 'STSBP.MOEX', 'ticker': 'STSBP', 'div_value': 0.09, 'forecast_div_value': nan, 'inc': 15.02, 'forecast_inc': nan, 'name': 'Stavropolenergosbyt Public Joint-Stock Company', 'price': 0.61, '30d_min': 0.6035, '30d_max': 0.6525, '30d_drowdown': -6.513409961685824, '365d_min': 0.323, '365d_max': 0.785, '365d_drowdown': -22.29299363057325}\n",
            "{'symbol': 'GMKN.MOEX', 'ticker': 'GMKN', 'div_value': 3376.26, 'forecast_div_value': 3268.45, 'inc': 14.92, 'forecast_inc': 14.44, 'name': 'Public Joint Stock Company Mining and Metallurgical Company Norilsk Nickel', 'price': 22634.0, '30d_min': 21664.0, '30d_max': 23672.0, '30d_drowdown': -4.384927340317674, '365d_min': 20602.0, '365d_max': 28130.0, '365d_drowdown': -19.537859936011372}\n",
            "{'symbol': 'KGKCP.MOEX', 'ticker': 'KGKCP', 'div_value': 6.85, 'forecast_div_value': nan, 'inc': 14.15, 'forecast_inc': nan, 'name': 'Public Joint Stock Company Kurgan Generation Company', 'price': 48.4, '30d_min': 48.2, '30d_max': 50.8, '30d_drowdown': -4.7244094488189035, '365d_min': 46.8, '365d_max': 62.0, '365d_drowdown': -21.935483870967744}\n",
            "{'symbol': 'MVID.MOEX', 'ticker': 'MVID', 'div_value': 73.0, 'forecast_div_value': 77.88, 'inc': 12.5, 'forecast_inc': 13.34, 'name': 'Public Joint Stock Company M.video', 'price': 584.0, '30d_min': 581.1, '30d_max': 624.2, '30d_drowdown': -6.440243511694973, '365d_min': 549.6, '365d_max': 870.0, '365d_drowdown': -32.8735632183908}\n",
            "{'symbol': 'QIWI.MOEX', 'ticker': 'QIWI', 'div_value': 83.74, 'forecast_div_value': 83.34, 'inc': 12.98, 'forecast_inc': 12.92, 'name': 'QIWI plc', 'price': 645.0, '30d_min': 621.0, '30d_max': 684.0, '30d_drowdown': -5.701754385964904, '365d_min': 587.5, '365d_max': 1275.0, '365d_drowdown': -49.411764705882355}\n",
            "{'symbol': 'MRSB.MOEX', 'ticker': 'MRSB', 'div_value': 0.06, 'forecast_div_value': nan, 'inc': 12.14, 'forecast_inc': nan, 'name': 'Mordovia Energy Retail Company Public Joint-Stock Company', 'price': 0.49, '30d_min': 0.475, '30d_max': 0.514, '30d_drowdown': -4.669260700389117, '365d_min': 0.348, '365d_max': 0.532, '365d_drowdown': -7.89473684210526}\n",
            "{'symbol': 'RASP.MOEX', 'ticker': 'RASP', 'div_value': 28.7, 'forecast_div_value': 54.54, 'inc': 7.09, 'forecast_inc': 13.48, 'name': 'Public Joint Stock Company Raspadskaya', 'price': 404.72, '30d_min': 414.5, '30d_max': 477.82, '30d_drowdown': -15.298648026453463, '365d_min': 144.76, '365d_max': 477.82, '365d_drowdown': -15.298648026453463}\n",
            "{'symbol': 'WTCMP.MOEX', 'ticker': 'WTCMP', 'div_value': 1.12, 'forecast_div_value': nan, 'inc': 12.66, 'forecast_inc': nan, 'name': 'Joint Stock Company \"World Trade Center Moscow\" RUB1 PRF(USD)', 'price': 8.88, '30d_min': 8.82, '30d_max': 9.1, '30d_drowdown': -2.417582417582409, '365d_min': 8.06, '365d_max': 10.76, '365d_drowdown': -17.472118959107803}\n",
            "{'symbol': 'UPRO.MOEX', 'ticker': 'UPRO', 'div_value': 0.32, 'forecast_div_value': 0.35, 'inc': 11.37, 'forecast_inc': 12.51, 'name': 'Public Joint-Stock Company Unipro', 'price': 2.79, '30d_min': 2.728, '30d_max': 2.839, '30d_drowdown': -1.7259598450158506, '365d_min': 2.693, '365d_max': 2.988, '365d_drowdown': -6.626506024096386}\n",
            "{'symbol': 'TATNP.MOEX', 'ticker': 'TATNP', 'div_value': 40.59, 'forecast_div_value': 60.33, 'inc': 8.51, 'forecast_inc': 12.65, 'name': 'PJSC Tatneft', 'price': 477.0, '30d_min': 480.0, '30d_max': 532.0, '30d_drowdown': -10.338345864661662, '365d_min': 446.9, '365d_max': 579.0, '365d_drowdown': -17.61658031088082}\n",
            "{'symbol': 'OGKB.MOEX', 'ticker': 'OGKB', 'div_value': 0.06, 'forecast_div_value': 0.08, 'inc': 8.82, 'forecast_inc': 12.26, 'name': 'Public Joint-Stock Company \"Second Generating Company of the Electric Power Wholesale Market\"', 'price': 0.68, '30d_min': 0.6877, '30d_max': 0.7564, '30d_drowdown': -10.100475938656786, '365d_min': 0.6654, '365d_max': 0.8423, '365d_drowdown': -19.26866912026594}\n",
            "{'symbol': 'NKNC.MOEX', 'ticker': 'NKNC', 'div_value': 10.27, 'forecast_div_value': 15.9, 'inc': 7.88, 'forecast_inc': 12.19, 'name': 'Public Joint Stock Company Nizhnekamskneftekhim', 'price': 130.4, '30d_min': 124.75, '30d_max': 132.8, '30d_drowdown': -1.8072289156626482, '365d_min': 86.1, '365d_max': 163.05, '365d_drowdown': -20.02453235203926}\n",
            "{'symbol': 'GAZP.MOEX', 'ticker': 'GAZP', 'div_value': 12.55, 'forecast_div_value': 39.58, 'inc': 3.58, 'forecast_inc': 11.3, 'name': 'Public Joint Stock Company Gazprom', 'price': 350.26, '30d_min': 333.6, '30d_max': 369.97, '30d_drowdown': -5.32745898316081, '365d_min': 181.89, '365d_max': 389.82, '365d_drowdown': -10.148273562156902}\n",
            "{'symbol': 'WTCM.MOEX', 'ticker': 'WTCM', 'div_value': 1.12, 'forecast_div_value': nan, 'inc': 11.69, 'forecast_inc': nan, 'name': 'Joint Stock Company \"World Trade Center Moscow\"', 'price': 9.62, '30d_min': 9.54, '30d_max': 10.38, '30d_drowdown': -7.32177263969173, '365d_min': 8.74, '365d_max': 11.44, '365d_drowdown': -15.90909090909092}\n",
            "{'symbol': 'LKOH.MOEX', 'ticker': 'LKOH', 'div_value': 553.0, 'forecast_div_value': 772.98, 'inc': 7.96, 'forecast_inc': 11.13, 'name': 'PJSC LUKOIL', 'price': 6946.5, '30d_min': 6878.0, '30d_max': 7441.5, '30d_drowdown': -6.651884700665192, '365d_min': 4864.0, '365d_max': 7441.5, '365d_drowdown': -6.651884700665192}\n",
            "{'symbol': 'MTSS.MOEX', 'ticker': 'MTSS', 'div_value': 37.06, 'forecast_div_value': 36.0, 'inc': 11.72, 'forecast_inc': 11.38, 'name': 'Mobile TeleSystems Public Joint Stock Company', 'price': 316.3, '30d_min': 310.05, '30d_max': 319.2, '30d_drowdown': -0.9085213032581407, '365d_min': 310.05, '365d_max': 350.45, '365d_drowdown': -9.744614067627339}\n",
            "{'symbol': 'VTBR.MOEX', 'ticker': 'VTBR', 'div_value': 0.0, 'forecast_div_value': 0.01, 'inc': 2.8, 'forecast_inc': 11.4, 'name': 'VTB Bank (public joint-stock company)', 'price': 0.05, '30d_min': 0.05, '30d_max': 0.0574, '30d_drowdown': -12.891986062717763, '365d_min': 0.0361, '365d_max': 0.0574, '365d_drowdown': -12.891986062717763}\n",
            "{'symbol': 'ALRS.MOEX', 'ticker': 'ALRS', 'div_value': 18.33, 'forecast_div_value': 14.72, 'inc': 13.79, 'forecast_inc': 11.07, 'name': 'Public Joint Stock Company ALROSA', 'price': 132.92, '30d_min': 124.92, '30d_max': 134.03, '30d_drowdown': -0.8281727971349824, '365d_min': 84.86, '365d_max': 150.2, '365d_drowdown': -11.504660452729695}\n",
            "{'symbol': 'TATN.MOEX', 'ticker': 'TATN', 'div_value': 40.59, 'forecast_div_value': 60.33, 'inc': 7.63, 'forecast_inc': 11.34, 'name': 'PJSC Tatneft', 'price': 532.0, '30d_min': 533.2, '30d_max': 580.7, '30d_drowdown': -8.386430170483905, '365d_min': 479.1, '365d_max': 624.6, '365d_drowdown': -14.825488312520022}\n",
            "{'symbol': 'MRKC.MOEX', 'ticker': 'MRKC', 'div_value': 0.03, 'forecast_div_value': 0.05, 'inc': 7.98, 'forecast_inc': 10.76, 'name': 'Interregional Distribution Grid Company of Centre Public Joint Stock Company', 'price': 0.42, '30d_min': 0.407, '30d_max': 0.449, '30d_drowdown': -6.4587973273942225, '365d_min': 0.32, '365d_max': 0.449, '365d_drowdown': -6.4587973273942225}\n",
            "{'symbol': 'LSNGP.MOEX', 'ticker': 'LSNGP', 'div_value': 15.17, 'forecast_div_value': 19.99, 'inc': 8.28, 'forecast_inc': 10.91, 'name': 'Public Joint stock company Rosseti Lenenergo', 'price': 183.15, '30d_min': 170.4, '30d_max': 187.5, '30d_drowdown': -2.319999999999993, '365d_min': 148.85, '365d_max': 187.5, '365d_drowdown': -2.319999999999993}\n",
            "{'symbol': 'RGSS.MOEX', 'ticker': 'RGSS', 'div_value': 0.02, 'forecast_div_value': nan, 'inc': 10.87, 'forecast_inc': nan, 'name': 'Rosgosstrakh Insurance Company (Public Joint Stock Company)', 'price': 0.23, '30d_min': 0.2262, '30d_max': 0.2386, '30d_drowdown': -3.6043587594299993, '365d_min': 0.14, '365d_max': 0.3452, '365d_drowdown': -33.371958285052145}\n",
            "{'symbol': 'MSRS.MOEX', 'ticker': 'MSRS', 'div_value': 0.05, 'forecast_div_value': 0.15, 'inc': 3.76, 'forecast_inc': 11.12, 'name': 'Public Joint-Stock Company \"Rosseti Moscow Region\"', 'price': 1.31, '30d_min': 1.314, '30d_max': 1.4635, '30d_drowdown': -10.48855483430134, '365d_min': 1.1645, '365d_max': 1.5045, '365d_drowdown': -12.927883017613823}\n",
            "{'symbol': 'PHOR.MOEX', 'ticker': 'PHOR', 'div_value': 558.0, 'forecast_div_value': 615.58, 'inc': 9.59, 'forecast_inc': 10.58, 'name': 'Public Joint-Stock Company PhosAgro', 'price': 5817.0, '30d_min': 5602.0, '30d_max': 6019.0, '30d_drowdown': -3.3560392091709588, '365d_min': 3007.0, '365d_max': 6019.0, '365d_drowdown': -3.3560392091709588}\n",
            "{'symbol': 'LSRG.MOEX', 'ticker': 'LSRG', 'div_value': 39.0, 'forecast_div_value': 78.0, 'inc': 5.38, 'forecast_inc': 10.76, 'name': 'PJSC LSR Group', 'price': 724.8, '30d_min': 735.2, '30d_max': 762.0, '30d_drowdown': -4.88188976377954, '365d_min': 734.0, '365d_max': 960.0, '365d_drowdown': -24.5}\n",
            "{'symbol': 'BANEP.MOEX', 'ticker': 'BANEP', 'div_value': 0.1, 'forecast_div_value': 118.4, 'inc': 0.01, 'forecast_inc': 10.54, 'name': 'Public Joint Stock Oil Company Bashneft', 'price': 1123.5, '30d_min': 1123.0, '30d_max': 1178.5, '30d_drowdown': -4.666949512091648, '365d_min': 983.5, '365d_max': 1307.0, '365d_drowdown': -14.039785768936497}\n",
            "{'symbol': 'RSTIP.MOEX', 'ticker': 'RSTIP', 'div_value': 0.06, 'forecast_div_value': 0.2, 'inc': 3.02, 'forecast_inc': 10.3, 'name': 'Rosseti Public Joint Stock Company', 'price': 1.95, '30d_min': 1.925, '30d_max': 2.175, '30d_drowdown': -10.34482758620689, '365d_min': 1.8, '365d_max': 2.243, '365d_drowdown': -13.062862238074004}\n",
            "{'symbol': 'KRKNP.MOEX', 'ticker': 'KRKNP', 'div_value': 1132.93, 'forecast_div_value': 1582.2, 'inc': 7.02, 'forecast_inc': 9.8, 'name': 'Public Joint Stock Company Saratov Oil Refinery', 'price': 16140.0, '30d_min': 15620.0, '30d_max': 16300.0, '30d_drowdown': -0.9815950920245484, '365d_min': 15000.0, '365d_max': 17040.0, '365d_drowdown': -5.281690140845072}\n",
            "{'symbol': 'SIBN.MOEX', 'ticker': 'SIBN', 'div_value': 50.0, 'forecast_div_value': 52.34, 'inc': 9.51, 'forecast_inc': 9.96, 'name': 'Public Joint Stock Company Gazprom Neft', 'price': 525.65, '30d_min': 490.85, '30d_max': 525.0, '30d_drowdown': 0.12380952380952692, '365d_min': 311.55, '365d_max': 525.0, '365d_drowdown': 0.12380952380952692}\n",
            "{'symbol': 'ENRU.MOEX', 'ticker': 'ENRU', 'div_value': 0.0, 'forecast_div_value': 0.08, 'inc': 0.0, 'forecast_inc': 9.55, 'name': 'Public Joint-Stock Company Enel Russia', 'price': 0.89, '30d_min': 0.8588, '30d_max': 0.8898, '30d_drowdown': 0.022476961114861638, '365d_min': 0.7728, '365d_max': 0.9425, '365d_drowdown': -5.570291777188331}\n",
            "{'symbol': 'KGKC.MOEX', 'ticker': 'KGKC', 'div_value': 4.51, 'forecast_div_value': nan, 'inc': 9.35, 'forecast_inc': nan, 'name': 'Public Joint Stock Company Kurgan Generation Company', 'price': 48.2, '30d_min': 48.2, '30d_max': 51.0, '30d_drowdown': -5.490196078431367, '365d_min': 46.8, '365d_max': 54.0, '365d_drowdown': -10.740740740740733}\n",
            "{'symbol': 'MGTSP.MOEX', 'ticker': 'MGTSP', 'div_value': 154.0, 'forecast_div_value': 132.28, 'inc': 10.91, 'forecast_inc': 9.37, 'name': 'Public Joint Stock Company Moscow City Telephone Network', 'price': 1412.0, '30d_min': 1364.0, '30d_max': 1588.0, '30d_drowdown': -11.083123425692705, '365d_min': 1362.0, '365d_max': 2032.0, '365d_drowdown': -30.511811023622045}\n",
            "{'symbol': 'FEES.MOEX', 'ticker': 'FEES', 'div_value': 0.02, 'forecast_div_value': 0.02, 'inc': 8.94, 'forecast_inc': 9.17, 'name': 'Public Joint-Stock Company Federal Grid Company of Unified Energy System', 'price': 0.18, '30d_min': 0.1798, '30d_max': 0.197, '30d_drowdown': -8.629441624365484, '365d_min': 0.1798, '365d_max': 0.2306, '365d_drowdown': -21.942758022549867}\n",
            "{'symbol': 'AGRO.MOEX', 'ticker': 'AGRO', 'div_value': 144.97, 'forecast_div_value': 105.9, 'inc': 12.36, 'forecast_inc': 9.03, 'name': 'Ros Agro PLC', 'price': 1173.0, '30d_min': 1155.0, '30d_max': 1248.4, '30d_drowdown': -6.039730855495037, '365d_min': 785.0, '365d_max': 1248.4, '365d_drowdown': -6.039730855495037}\n",
            "{'symbol': 'DSKY.MOEX', 'ticker': 'DSKY', 'div_value': 11.27, 'forecast_div_value': 12.78, 'inc': 8.04, 'forecast_inc': 9.12, 'name': 'Public Joint Stock Company Detsky Mir', 'price': 140.16, '30d_min': 134.62, '30d_max': 143.86, '30d_drowdown': -2.571944946475753, '365d_min': 120.6, '365d_max': 160.78, '365d_drowdown': -12.824978231123268}\n",
            "{'symbol': 'POLY.MOEX', 'ticker': 'POLY', 'div_value': 99.16, 'forecast_div_value': 124.41, 'inc': 6.73, 'forecast_inc': 8.44, 'name': 'Polymetal International plc', 'price': 1473.7, '30d_min': 1316.3, '30d_max': 1462.1, '30d_drowdown': 0.7933793858149443, '365d_min': 1208.5, '365d_max': 1841.6, '365d_drowdown': -19.97719374456993}\n",
            "{'symbol': 'SBERP.MOEX', 'ticker': 'SBERP', 'div_value': 18.7, 'forecast_div_value': 28.05, 'inc': 5.99, 'forecast_inc': 8.99, 'name': 'Sberbank of Russia', 'price': 312.18, '30d_min': 310.58, '30d_max': 339.92, '30d_drowdown': -8.160743704401042, '365d_min': 220.89, '365d_max': 356.0, '365d_drowdown': -12.30898876404494}\n",
            "{'symbol': 'TRNFP.MOEX', 'ticker': 'TRNFP', 'div_value': 9224.28, 'forecast_div_value': 13045.11, 'inc': 6.1, 'forecast_inc': 8.63, 'name': 'Public Joint Stock Company Transneft', 'price': 151200.0, '30d_min': 149300.0, '30d_max': 158400.0, '30d_drowdown': -4.545454545454547, '365d_min': 139150.0, '365d_max': 179500.0, '365d_drowdown': -15.766016713091929}\n",
            "{'symbol': 'MRKP.MOEX', 'ticker': 'MRKP', 'div_value': 0.03, 'forecast_div_value': 0.02, 'inc': 9.96, 'forecast_inc': 8.77, 'name': 'Interregional Distribution Grid Company of Center and Volga Region Public Joint Stock Company', 'price': 0.26, '30d_min': 0.2632, '30d_max': 0.2816, '30d_drowdown': -7.670454545454547, '365d_min': 0.2297, '365d_max': 0.2966, '365d_drowdown': -12.339851652056637}\n",
            "{'symbol': 'RSTI.MOEX', 'ticker': 'RSTI', 'div_value': 0.02, 'forecast_div_value': 0.11, 'inc': 1.76, 'forecast_inc': 8.22, 'name': 'Rosseti Public Joint Stock Company', 'price': 1.39, '30d_min': 1.3762, '30d_max': 1.453, '30d_drowdown': -4.335856847900914, '365d_min': 1.2273, '365d_max': 1.8192, '365d_drowdown': -23.59278803869833}\n",
            "{'symbol': 'NMTP.MOEX', 'ticker': 'NMTP', 'div_value': 0.06, 'forecast_div_value': 0.63, 'inc': 0.84, 'forecast_inc': 8.75, 'name': 'Public Joint Stock Company Novorossiysk Commercial Sea Port', 'price': 7.16, '30d_min': 7.205, '30d_max': 8.12, '30d_drowdown': -11.82266009852215, '365d_min': 6.89, '365d_max': 8.545, '365d_drowdown': -16.208308952603858}\n",
            "{'symbol': 'SNGSP.MOEX', 'ticker': 'SNGSP', 'div_value': 6.72, 'forecast_div_value': 3.23, 'inc': 17.07, 'forecast_inc': 8.2, 'name': 'Surgutneftegas Public Joint Stock Company', 'price': 39.37, '30d_min': 38.15, '30d_max': 40.53, '30d_drowdown': -2.8620774734764467, '365d_min': 37.48, '365d_max': 48.245, '365d_drowdown': -18.395688672401292}\n",
            "{'symbol': 'HYDR.MOEX', 'ticker': 'HYDR', 'div_value': 0.05, 'forecast_div_value': 0.07, 'inc': 6.46, 'forecast_inc': 8.13, 'name': 'Public Joint-Stock Company Federal Hydro-Generating Company - RusHydro', 'price': 0.82, '30d_min': 0.8113, '30d_max': 0.8437, '30d_drowdown': -2.809055351428242, '365d_min': 0.754, '365d_max': 0.878, '365d_drowdown': -6.605922551252846}\n",
            "{'symbol': 'PMSBP.MOEX', 'ticker': 'PMSBP', 'div_value': 12.5, 'forecast_div_value': nan, 'inc': 8.18, 'forecast_inc': nan, 'name': 'Public Joint Stock Company Perm Energy Supplying Company', 'price': 152.8, '30d_min': 153.0, '30d_max': 158.4, '30d_drowdown': -3.5353535353535364, '365d_min': 130.0, '365d_max': 189.8, '365d_drowdown': -19.494204425711274}\n",
            "{'symbol': 'BANE.MOEX', 'ticker': 'BANE', 'div_value': 0.0, 'forecast_div_value': 118.4, 'inc': 0.0, 'forecast_inc': 7.71, 'name': 'Public Joint Stock Oil Company Bashneft', 'price': 1535.5, '30d_min': 1470.0, '30d_max': 1590.0, '30d_drowdown': -3.427672955974842, '365d_min': 1336.0, '365d_max': 1728.0, '365d_drowdown': -11.14004629629629}\n",
            "{'symbol': 'SBER.MOEX', 'ticker': 'SBER', 'div_value': 18.7, 'forecast_div_value': 28.05, 'inc': 5.48, 'forecast_inc': 8.22, 'name': 'Sberbank of Russia', 'price': 341.25, '30d_min': 337.91, '30d_max': 373.18, '30d_drowdown': -8.55619272201082, '365d_min': 239.42, '365d_max': 387.6, '365d_drowdown': -11.958204334365334}\n",
            "{'symbol': 'EELT.MOEX', 'ticker': 'EELT', 'div_value': 0.59, 'forecast_div_value': nan, 'inc': 8.04, 'forecast_inc': nan, 'name': 'European Eltech Public Joint Stock Company', 'price': 7.32, '30d_min': 7.26, '30d_max': 7.46, '30d_drowdown': -1.8766756032171656, '365d_min': 7.04, '365d_max': 8.66, '365d_drowdown': -15.473441108545032}\n",
            "{'symbol': 'GLTR.MOEX', 'ticker': 'GLTR', 'div_value': 50.24, 'forecast_div_value': 47.73, 'inc': 8.58, 'forecast_inc': 8.15, 'name': 'Globaltrans Investment Plc', 'price': 585.6, '30d_min': 594.0, '30d_max': 633.05, '30d_drowdown': -7.495458494589684, '365d_min': 434.5, '365d_max': 649.5, '365d_drowdown': -9.83833718244803}\n",
            "{'symbol': 'RZSB.MOEX', 'ticker': 'RZSB', 'div_value': 1.45, 'forecast_div_value': nan, 'inc': 7.8, 'forecast_inc': nan, 'name': 'Joint-Stock Company Ryazanenergosbyt', 'price': 18.6, '30d_min': 18.14, '30d_max': 19.16, '30d_drowdown': -2.9227557411273466, '365d_min': 9.34, '365d_max': 27.0, '365d_drowdown': -31.1111111111111}\n",
            "{'symbol': 'AKRN.MOEX', 'ticker': 'AKRN', 'div_value': 780.0, 'forecast_div_value': 1159.43, 'inc': 6.12, 'forecast_inc': 9.09, 'name': 'Public Joint Stock Company Acron', 'price': 12750.0, '30d_min': 8620.0, '30d_max': 12608.0, '30d_drowdown': 1.1262690355329852, '365d_min': 5876.0, '365d_max': 12608.0, '365d_drowdown': 1.1262690355329852}\n",
            "{'symbol': 'PMSB.MOEX', 'ticker': 'PMSB', 'div_value': 12.5, 'forecast_div_value': nan, 'inc': 7.89, 'forecast_inc': nan, 'name': 'Public Joint Stock Company Perm Energy Supplying Company', 'price': 158.4, '30d_min': 158.5, '30d_max': 171.7, '30d_drowdown': -7.746068724519503, '365d_min': 131.5, '365d_max': 218.3, '365d_drowdown': -27.43930371049015}\n",
            "{'symbol': 'KZOS.MOEX', 'ticker': 'KZOS', 'div_value': 9.11, 'forecast_div_value': 7.58, 'inc': 9.48, 'forecast_inc': 7.89, 'name': 'Kazan Public Joint Stock Company Organichesky sintez', 'price': 96.1, '30d_min': 96.3, '30d_max': 107.7, '30d_drowdown': -10.770659238625825, '365d_min': 78.8, '365d_max': 118.8, '365d_drowdown': -19.10774410774411}\n",
            "{'symbol': 'RDRB.MOEX', 'ticker': 'RDRB', 'div_value': 17.31, 'forecast_div_value': nan, 'inc': 7.66, 'forecast_inc': nan, 'name': 'The Russian Public Joint-Stock Commercial Roads Bank (Public joint-stock company)', 'price': 226.0, '30d_min': 224.0, '30d_max': 228.0, '30d_drowdown': -0.8771929824561369, '365d_min': 208.0, '365d_max': 250.0, '365d_drowdown': -9.599999999999994}\n",
            "{'symbol': 'ROSN.MOEX', 'ticker': 'ROSN', 'div_value': 24.97, 'forecast_div_value': 54.8, 'inc': 3.98, 'forecast_inc': 8.74, 'name': 'Public Joint Stock Company Rosneft Oil Company', 'price': 626.7, '30d_min': 619.2, '30d_max': 655.05, '30d_drowdown': -4.3279138997022955, '365d_min': 423.95, '365d_max': 655.25, '365d_drowdown': -4.357115604731007}\n",
            "{'symbol': 'TTLK.MOEX', 'ticker': 'TTLK', 'div_value': 0.04, 'forecast_div_value': 0.04, 'inc': 6.05, 'forecast_inc': 6.88, 'name': 'Tattelecom Public Joint-Stock Company', 'price': 0.65, '30d_min': 0.6145, '30d_max': 0.71, '30d_drowdown': -8.450704225352098, '365d_min': 0.3705, '365d_max': 0.732, '365d_drowdown': -11.202185792349724}\n",
            "{'symbol': 'RTKMP.MOEX', 'ticker': 'RTKMP', 'div_value': 5.0, 'forecast_div_value': 6.0, 'inc': 5.95, 'forecast_inc': 7.13, 'name': 'Public Joint Stock Company Rostelecom', 'price': 84.1, '30d_min': 83.5, '30d_max': 87.6, '30d_drowdown': -3.9954337899543333, '365d_min': 83.2, '365d_max': 93.8, '365d_drowdown': -10.341151385927503}\n",
            "{'symbol': 'NKHP.MOEX', 'ticker': 'NKHP', 'div_value': 23.17, 'forecast_div_value': 24.6, 'inc': 6.7, 'forecast_inc': 7.11, 'name': 'Public Joint Stock Company Novorossyisk Grain Plant', 'price': 346.0, '30d_min': 347.5, '30d_max': 357.0, '30d_drowdown': -3.081232492997202, '365d_min': 251.0, '365d_max': 491.0, '365d_drowdown': -29.53156822810591}\n",
            "{'symbol': 'MOEX.MOEX', 'ticker': 'MOEX', 'div_value': 9.45, 'forecast_div_value': 11.94, 'inc': 5.61, 'forecast_inc': 7.08, 'name': 'Public Joint-Stock Company Moscow Exchange MICEX-RTS', 'price': 168.55, '30d_min': 169.26, '30d_max': 184.09, '30d_drowdown': -8.441523168015635, '365d_min': 136.05, '365d_max': 191.02, '365d_drowdown': -11.763166160611448}\n",
            "{'symbol': 'KRSBP.MOEX', 'ticker': 'KRSBP', 'div_value': 0.65, 'forecast_div_value': nan, 'inc': 7.06, 'forecast_inc': nan, 'name': 'Public Joint Stock Company Krasnoyarskenergosbyt', 'price': 9.16, '30d_min': 9.28, '30d_max': 9.76, '30d_drowdown': -6.147540983606561, '365d_min': 7.26, '365d_max': 12.0, '365d_drowdown': -23.66666666666667}\n",
            "{'symbol': 'HIMCP.MOEX', 'ticker': 'HIMCP', 'div_value': 0.56, 'forecast_div_value': 0.8, 'inc': 4.96, 'forecast_inc': 7.05, 'name': 'Khimprom Public Joint stock company', 'price': 11.29, '30d_min': 11.18, '30d_max': 12.21, '30d_drowdown': -7.534807534807555, '365d_min': 6.92, '365d_max': 14.28, '365d_drowdown': -20.938375350140063}\n",
            "{'symbol': 'GCHE.MOEX', 'ticker': 'GCHE', 'div_value': 219.27, 'forecast_div_value': 231.88, 'inc': 6.27, 'forecast_inc': 6.63, 'name': 'Public Joint Stock Company \"Cherkizovo Group\"', 'price': 3496.5, '30d_min': 3280.0, '30d_max': 3574.5, '30d_drowdown': -2.182123373898449, '365d_min': 1870.0, '365d_max': 3574.5, '365d_drowdown': -2.182123373898449}\n",
            "{'symbol': 'MSNG.MOEX', 'ticker': 'MSNG', 'div_value': 0.18, 'forecast_div_value': 0.15, 'inc': 8.15, 'forecast_inc': 6.71, 'name': 'Public Joint Stock Company Mosenergo', 'price': 2.2, '30d_min': 2.19, '30d_max': 2.3495, '30d_drowdown': -6.363055969355173, '365d_min': 2.0355, '365d_max': 2.5995, '365d_drowdown': -15.368340065397177}\n",
            "{'symbol': 'BSPB.MOEX', 'ticker': 'BSPB', 'div_value': 4.56, 'forecast_div_value': 6.1, 'inc': 4.96, 'forecast_inc': 6.63, 'name': '\"Bank \"Saint-Petersburg\" Public Joint-Stock Company', 'price': 91.99, '30d_min': 84.79, '30d_max': 94.45, '30d_drowdown': -2.6045526733721687, '365d_min': 49.34, '365d_max': 94.45, '365d_drowdown': -2.6045526733721687}\n",
            "{'symbol': 'RTKM.MOEX', 'ticker': 'RTKM', 'div_value': 5.0, 'forecast_div_value': 6.0, 'inc': 5.38, 'forecast_inc': 6.46, 'name': 'Public Joint Stock Company Rostelecom', 'price': 92.94, '30d_min': 91.32, '30d_max': 95.74, '30d_drowdown': -2.9245874242740655, '365d_min': 89.3, '365d_max': 110.98, '365d_drowdown': -16.255181113714187}\n",
            "{'symbol': 'MGTS.MOEX', 'ticker': 'MGTS', 'div_value': 154.0, 'forecast_div_value': 132.28, 'inc': 6.65, 'forecast_inc': 5.71, 'name': 'Public Joint Stock Company Moscow City Telephone Network', 'price': 2315.0, '30d_min': 2030.0, '30d_max': 2885.0, '30d_drowdown': -19.75736568457539, '365d_min': 2000.0, '365d_max': 2885.0, '365d_drowdown': -19.75736568457539}\n",
            "{'symbol': 'VSMO.MOEX', 'ticker': 'VSMO', 'div_value': 1129.63, 'forecast_div_value': 1970.79, 'inc': 2.45, 'forecast_inc': 4.28, 'name': 'public stock company VSMPO-AVISMA Corporation', 'price': 46020.0, '30d_min': 34000.0, '30d_max': 44180.0, '30d_drowdown': 4.164780443639657, '365d_min': 18400.0, '365d_max': 44180.0, '365d_drowdown': 4.164780443639657}\n",
            "{'symbol': 'TRMK.MOEX', 'ticker': 'TRMK', 'div_value': 29.38, 'forecast_div_value': 4.5, 'inc': 35.39, 'forecast_inc': 5.42, 'name': 'PAO TMK', 'price': 83.02, '30d_min': 83.22, '30d_max': 95.04, '30d_drowdown': -12.647306397306409, '365d_min': 57.1, '365d_max': 124.6, '365d_drowdown': -33.37078651685394}\n",
            "{'symbol': 'MDMG.MOEX', 'ticker': 'MDMG', 'div_value': 37.39, 'forecast_div_value': 44.45, 'inc': 4.38, 'forecast_inc': 5.21, 'name': 'MD Medical Group Investments Plc', 'price': 852.9, '30d_min': 832.8, '30d_max': 879.6, '30d_drowdown': -3.0354706684856865, '365d_min': 450.25, '365d_max': 903.3, '365d_drowdown': -5.579541680504818}\n",
            "{'symbol': 'IRAO.MOEX', 'ticker': 'IRAO', 'div_value': 0.18, 'forecast_div_value': 0.24, 'inc': 3.84, 'forecast_inc': 5.18, 'name': 'Public Joint Stock Company Inter RAO UES', 'price': 4.71, '30d_min': 4.7105, '30d_max': 5.08, '30d_drowdown': -7.283464566929126, '365d_min': 4.175, '365d_max': 5.547, '365d_drowdown': -15.089237425635474}\n",
            "{'symbol': 'NVTK.MOEX', 'ticker': 'NVTK', 'div_value': 51.41, 'forecast_div_value': 91.18, 'inc': 2.9, 'forecast_inc': 5.14, 'name': 'PAO NOVATEK', 'price': 1772.6, '30d_min': 1756.2, '30d_max': 1897.0, '30d_drowdown': -6.557722720084342, '365d_min': 1177.8, '365d_max': 1993.0, '365d_drowdown': -11.058705469142012}\n",
            "{'symbol': 'KRSB.MOEX', 'ticker': 'KRSB', 'div_value': 0.65, 'forecast_div_value': 0.46, 'inc': 7.38, 'forecast_inc': 5.19, 'name': 'Public Joint Stock Company Krasnoyarskenergosbyt', 'price': 8.77, '30d_min': 8.62, '30d_max': 9.64, '30d_drowdown': -9.024896265560173, '365d_min': 7.24, '365d_max': 11.55, '365d_drowdown': -24.06926406926408}\n",
            "{'symbol': 'DIOD.MOEX', 'ticker': 'DIOD', 'div_value': 0.65, 'forecast_div_value': 0.43, 'inc': 7.56, 'forecast_inc': 5.0, 'name': 'DIOD Maker of Eco-Friendly Equipment and Nutrition Public Joint Stock Company', 'price': 8.6, '30d_min': 8.13, '30d_max': 8.71, '30d_drowdown': -1.2629161882893243, '365d_min': 6.98, '365d_max': 12.19, '365d_drowdown': -29.450369155045124}\n",
            "{'symbol': 'BISVP.MOEX', 'ticker': 'BISVP', 'div_value': 0.26, 'forecast_div_value': 0.4, 'inc': 3.15, 'forecast_inc': 4.74, 'name': \"Public Joint-Stock Company Bashinformsvyaz RUB1 PRF'A'(USD)\", 'price': 8.37, '30d_min': 8.4, '30d_max': 8.65, '30d_drowdown': -3.236994219653184, '365d_min': 8.03, '365d_max': 10.18, '365d_drowdown': -17.779960707269154}\n",
            "{'symbol': 'BELU.MOEX', 'ticker': 'BELU', 'div_value': 162.76, 'forecast_div_value': 182.62, 'inc': 4.18, 'forecast_inc': 4.69, 'name': 'Beluga Group Public Joint-Stock Company', 'price': 3892.0, '30d_min': 3555.0, '30d_max': 4224.0, '30d_drowdown': -7.859848484848484, '365d_min': 1298.0, '365d_max': 6204.0, '365d_drowdown': -37.26627981947131}\n",
            "{'symbol': 'KAZT.MOEX', 'ticker': 'KAZT', 'div_value': 18.85, 'forecast_div_value': 17.0, 'inc': 5.05, 'forecast_inc': 4.56, 'name': 'Public Joint Stock Company KuibyshevAzot', 'price': 373.0, '30d_min': 373.2, '30d_max': 414.0, '30d_drowdown': -9.903381642512073, '365d_min': 149.6, '365d_max': 428.0, '365d_drowdown': -12.850467289719631}\n",
            "{'symbol': 'KAZTP.MOEX', 'ticker': 'KAZTP', 'div_value': 18.85, 'forecast_div_value': 17.0, 'inc': 4.81, 'forecast_inc': 4.34, 'name': 'Public Joint Stock Company KuibyshevAzot', 'price': 392.0, '30d_min': 390.2, '30d_max': 429.6, '30d_drowdown': -8.752327746741159, '365d_min': 148.2, '365d_max': 429.6, '365d_drowdown': -8.752327746741159}\n",
            "{'symbol': 'FLOT.MOEX', 'ticker': 'FLOT', 'div_value': 6.67, 'forecast_div_value': 3.05, 'inc': 7.96, 'forecast_inc': 3.64, 'name': 'Sovcomflot Pao', 'price': 83.8, '30d_min': 84.09, '30d_max': 87.05, '30d_drowdown': -3.7334865020103365, '365d_min': 83.54, '365d_max': 97.77, '365d_drowdown': -14.288636596092871}\n",
            "{'symbol': 'PRMB.MOEX', 'ticker': 'PRMB', 'div_value': 1706.55, 'forecast_div_value': nan, 'inc': 3.91, 'forecast_inc': nan, 'name': 'Public joint-stock commercial bank Primorye', 'price': 43600.0, '30d_min': 39400.0, '30d_max': 46800.0, '30d_drowdown': -6.837606837606842, '365d_min': 23800.0, '365d_max': 56200.0, '365d_drowdown': -22.419928825622776}\n",
            "{'symbol': 'ASSB.MOEX', 'ticker': 'ASSB', 'div_value': 0.0, 'forecast_div_value': 0.04, 'inc': 0.0, 'forecast_inc': 4.13, 'name': 'Astrakhan Power Sale Company Public Joint-Stock Company', 'price': 0.94, '30d_min': 0.915, '30d_max': 1.096, '30d_drowdown': -14.233576642335777, '365d_min': 0.7715, '365d_max': 1.328, '365d_drowdown': -29.21686746987953}\n",
            "{'symbol': 'ARSA.MOEX', 'ticker': 'ARSA', 'div_value': 0.36, 'forecast_div_value': nan, 'inc': 4.16, 'forecast_inc': nan, 'name': 'Arsagera Asset Management', 'price': 8.65, '30d_min': 7.37, '30d_max': 8.9, '30d_drowdown': -2.8089887640449405, '365d_min': 3.7, '365d_max': 9.45, '365d_drowdown': -8.465608465608454}\n",
            "{'symbol': 'KBSB.MOEX', 'ticker': 'KBSB', 'div_value': 7.07, 'forecast_div_value': nan, 'inc': 4.68, 'forecast_inc': nan, 'name': 'Public Joint Stock Company \"TNS energo Kuban\"', 'price': 151.0, '30d_min': 157.0, '30d_max': 218.5, '30d_drowdown': -30.892448512585815, '365d_min': 124.5, '365d_max': 237.0, '365d_drowdown': -36.28691983122363}\n",
            "{'symbol': 'PIKK.MOEX', 'ticker': 'PIKK', 'div_value': 68.14, 'forecast_div_value': 45.22, 'inc': 6.19, 'forecast_inc': 4.11, 'name': 'Public Joint Stock Company PIK-specialized homebuilder', 'price': 1101.3, '30d_min': 1102.1, '30d_max': 1280.0, '30d_drowdown': -13.9609375, '365d_min': 574.3, '365d_max': 1500.0, '365d_drowdown': -26.58}\n",
            "{'symbol': 'PLZL.MOEX', 'ticker': 'PLZL', 'div_value': 654.63, 'forecast_div_value': 646.77, 'inc': 4.13, 'forecast_inc': 4.08, 'name': 'Public Joint Stock Company Polyus', 'price': 15860.0, '30d_min': 13453.5, '30d_max': 15972.0, '30d_drowdown': -0.7012271475081491, '365d_min': 11694.5, '365d_max': 16103.5, '365d_drowdown': -1.5120936442388313}\n",
            "{'symbol': 'SELG.MOEX', 'ticker': 'SELG', 'div_value': 2.73, 'forecast_div_value': 2.73, 'inc': 4.01, 'forecast_inc': 4.01, 'name': 'Public Joint-Stock Company Seligdar', 'price': 68.0, '30d_min': 56.37, '30d_max': 69.09, '30d_drowdown': -1.5776523375307647, '365d_min': 42.55, '365d_max': 69.09, '365d_drowdown': -1.5776523375307647}\n",
            "{'symbol': 'LSNG.MOEX', 'ticker': 'LSNG', 'div_value': 0.26, 'forecast_div_value': 0.3, 'inc': 2.82, 'forecast_inc': 3.22, 'name': 'Public Joint stock company Rosseti Lenenergo', 'price': 9.31, '30d_min': 9.11, '30d_max': 11.75, '30d_drowdown': -20.7659574468085, '365d_min': 5.23, '365d_max': 12.79, '365d_drowdown': -27.208756841282238}\n",
            "{'symbol': 'SELGP.MOEX', 'ticker': 'SELGP', 'div_value': 2.25, 'forecast_div_value': 2.25, 'inc': 3.29, 'forecast_inc': 3.29, 'name': 'Public Joint-Stock Company Seligdar', 'price': 68.45, '30d_min': 56.9, '30d_max': 68.2, '30d_drowdown': 0.3665689149560052, '365d_min': 39.8, '365d_max': 68.2, '365d_drowdown': 0.3665689149560052}\n",
            "{'symbol': 'AQUA.MOEX', 'ticker': 'AQUA', 'div_value': 17.0, 'forecast_div_value': 18.0, 'inc': 3.01, 'forecast_inc': 3.19, 'name': 'PJSC Russian Aquaculture', 'price': 564.5, '30d_min': 540.5, '30d_max': 569.5, '30d_drowdown': -0.8779631255487317, '365d_min': 238.0, '365d_max': 603.0, '365d_drowdown': -6.384742951907128}\n",
            "{'symbol': 'MGNT.MOEX', 'ticker': 'MGNT', 'div_value': 539.68, 'forecast_div_value': 489.7, 'inc': 8.42, 'forecast_inc': 7.64, 'name': 'Public Joint Stock Company Magnit', 'price': 6412.5, '30d_min': 6159.0, '30d_max': 6920.0, '30d_drowdown': -7.333815028901739, '365d_min': 4865.0, '365d_max': 6920.0, '365d_drowdown': -7.333815028901739}\n",
            "{'symbol': 'INGR.MOEX', 'ticker': 'INGR', 'div_value': 36.39, 'forecast_div_value': nan, 'inc': 2.77, 'forecast_inc': nan, 'name': 'Public Joint Stock Company \"INGRAD\"', 'price': 1315.0, '30d_min': 1313.0, '30d_max': 1401.0, '30d_drowdown': -6.138472519628834, '365d_min': 954.0, '365d_max': 1614.0, '365d_drowdown': -18.525402726146226}\n",
            "{'symbol': 'FIXP.MOEX', 'ticker': 'FIXP', 'div_value': 11.69, 'forecast_div_value': 13.4, 'inc': 1.97, 'forecast_inc': 2.26, 'name': 'Fix Price Group Ltd.', 'price': 592.0, '30d_min': 593.0, '30d_max': 632.1, '30d_drowdown': -6.343932922006019, '365d_min': 547.9, '365d_max': 743.0, '365d_drowdown': -20.323014804845215}\n",
            "{'symbol': 'VLHZ.MOEX', 'ticker': 'VLHZ', 'div_value': 1.8, 'forecast_div_value': nan, 'inc': 2.18, 'forecast_inc': nan, 'name': 'Public Joint Stock Company Vladimir Chemical Plant', 'price': 82.65, '30d_min': 78.45, '30d_max': 99.0, '30d_drowdown': -16.5151515151515, '365d_min': 54.1, '365d_max': 99.0, '365d_drowdown': -16.5151515151515}\n",
            "{'symbol': 'ABRD.MOEX', 'ticker': 'ABRD', 'div_value': 3.89, 'forecast_div_value': nan, 'inc': 1.96, 'forecast_inc': nan, 'name': 'Public Joint Stock Company Abrau-Durso', 'price': 198.5, '30d_min': 198.0, '30d_max': 269.0, '30d_drowdown': -26.208178438661704, '365d_min': 192.0, '365d_max': 281.0, '365d_drowdown': -29.359430604982208}\n",
            "{'symbol': 'KZOSP.MOEX', 'ticker': 'KZOSP', 'div_value': 0.75, 'forecast_div_value': 0.5, 'inc': 2.87, 'forecast_inc': 1.91, 'name': 'Kazan Public Joint Stock Company Organichesky sintez', 'price': 26.13, '30d_min': 26.12, '30d_max': 30.28, '30d_drowdown': -13.705416116248358, '365d_min': 10.8, '365d_max': 43.28, '365d_drowdown': -39.62569316081331}\n",
            "{'symbol': 'AFKS.MOEX', 'ticker': 'AFKS', 'div_value': 0.31, 'forecast_div_value': 0.53, 'inc': 1.12, 'forecast_inc': 1.91, 'name': 'Sistema Public Joint Stock Financial Corporation', 'price': 27.77, '30d_min': 26.96, '30d_max': 28.914, '30d_drowdown': -3.956560835581385, '365d_min': 26.098, '365d_max': 37.976, '365d_drowdown': -26.874868337897624}\n",
            "{'symbol': 'SMLT.MOEX', 'ticker': 'SMLT', 'div_value': 82.0, 'forecast_div_value': 82.0, 'inc': 1.7, 'forecast_inc': 1.7, 'name': 'Samolet Group Public Joint Stock Company', 'price': 4830.0, '30d_min': 4800.0, '30d_max': 4942.0, '30d_drowdown': -2.2662889518413607, '365d_min': 935.0, '365d_max': 5716.4, '365d_drowdown': -15.50626268280736}\n",
            "{'symbol': 'SNGS.MOEX', 'ticker': 'SNGS', 'div_value': 0.7, 'forecast_div_value': 0.6, 'inc': 1.58, 'forecast_inc': 1.36, 'name': 'Surgutneftegas Public Joint Stock Company', 'price': 44.2, '30d_min': 33.53, '30d_max': 46.87, '30d_drowdown': -5.696607638148052, '365d_min': 32.35, '365d_max': 46.87, '365d_drowdown': -5.696607638148052}\n",
            "{'symbol': 'LVHK.MOEX', 'ticker': 'LVHK', 'div_value': 0.3, 'forecast_div_value': 0.25, 'inc': 1.67, 'forecast_inc': 1.42, 'name': 'Levenhuk Inc', 'price': 17.95, '30d_min': 17.54, '30d_max': 18.72, '30d_drowdown': -4.113247863247864, '365d_min': 8.07, '365d_max': 24.16, '365d_drowdown': -25.70364238410596}\n",
            "{'symbol': 'TCSG.MOEX', 'ticker': 'TCSG', 'div_value': 17.51, 'forecast_div_value': 83.32, 'inc': 0.24, 'forecast_inc': 1.15, 'name': 'TCS Group Holding PLC', 'price': 7270.0, '30d_min': 7268.0, '30d_max': 8345.0, '30d_drowdown': -12.88196524865188, '365d_min': 2201.2, '365d_max': 8345.0, '365d_drowdown': -12.88196524865188}\n",
            "{'symbol': 'HHRU.MOEX', 'ticker': 'HHRU', 'div_value': 40.33, 'forecast_div_value': 34.56, 'inc': 0.89, 'forecast_inc': 0.76, 'name': 'HeadHunter Group PLC', 'price': 4528.0, '30d_min': 3756.0, '30d_max': 4773.0, '30d_drowdown': -5.133040016760944, '365d_min': 1838.0, '365d_max': 4773.0, '365d_drowdown': -5.133040016760944}\n",
            "{'symbol': 'CNTLP.MOEX', 'ticker': 'CNTLP', 'div_value': 0.25, 'forecast_div_value': 0.05, 'inc': 2.6, 'forecast_inc': 0.52, 'name': 'Central Telegraph Public Joint Stock Company', 'price': 9.62, '30d_min': 9.64, '30d_max': 10.26, '30d_drowdown': -6.23781676413256, '365d_min': 9.48, '365d_max': 17.6, '365d_drowdown': -45.3409090909091}\n",
            "{'symbol': 'YAKG.MOEX', 'ticker': 'YAKG', 'div_value': 0.61, 'forecast_div_value': nan, 'inc': 0.47, 'forecast_inc': nan, 'name': 'Public Joint Stock Company Yakutsk Fuel and Energy Company', 'price': 129.0, '30d_min': 130.3, '30d_max': 150.0, '30d_drowdown': -14.0, '365d_min': 49.2, '365d_max': 154.8, '365d_drowdown': -16.66666666666667}\n",
            "{'symbol': 'KMAZ.MOEX', 'ticker': 'KMAZ', 'div_value': 0.54, 'forecast_div_value': 0.42, 'inc': 0.45, 'forecast_inc': 0.35, 'name': 'KAMAZ Publicly Traded Company', 'price': 120.7, '30d_min': 114.5, '30d_max': 127.5, '30d_drowdown': -5.333333333333329, '365d_min': 61.5, '365d_max': 127.5, '365d_drowdown': -5.333333333333329}\n",
            "{'symbol': 'FIVE.MOEX', 'ticker': 'FIVE', 'div_value': 2.5, 'forecast_div_value': nan, 'inc': 0.11, 'forecast_inc': nan, 'name': 'X5 Retail Group N.V', 'price': 2346.0, '30d_min': 2349.0, '30d_max': 2474.0, '30d_drowdown': -5.173807599029914, '365d_min': 2204.0, '365d_max': 2890.0, '365d_drowdown': -18.82352941176471}\n",
            "{'symbol': 'JNOSP.MOEX', 'ticker': 'JNOSP', 'div_value': 0.01, 'forecast_div_value': nan, 'inc': 0.06, 'forecast_inc': nan, 'name': 'Public Joint Stock Company Slavneft-Yaroslavnefteorgsintez', 'price': 17.7, '30d_min': 16.02, '30d_max': 19.84, '30d_drowdown': -10.786290322580655, '365d_min': 13.3, '365d_max': 23.7, '365d_drowdown': -25.31645569620254}\n",
            "{'symbol': 'KROTP.MOEX', 'ticker': 'KROTP', 'div_value': 0.13, 'forecast_div_value': nan, 'inc': 0.04, 'forecast_inc': nan, 'name': 'Joint-Stock Company Krasnyj Octyabr RUB1 PRF(RUB)', 'price': 342.5, '30d_min': 320.0, '30d_max': 342.0, '30d_drowdown': 0.14619883040936088, '365d_min': 258.0, '365d_max': 543.0, '365d_drowdown': -36.92449355432781}\n",
            "{'symbol': 'KROT.MOEX', 'ticker': 'KROT', 'div_value': 0.1, 'forecast_div_value': nan, 'inc': 0.02, 'forecast_inc': nan, 'name': 'Public Joint-Stock Company Krasnyj Octyabr', 'price': 440.5, '30d_min': 409.5, '30d_max': 450.0, '30d_drowdown': -2.1111111111111143, '365d_min': 368.5, '365d_max': 771.0, '365d_drowdown': -42.86640726329443}\n"
          ]
        },
        {
          "output_type": "execute_result",
          "data": {
            "text/html": [
              "<div>\n",
              "<style scoped>\n",
              "    .dataframe tbody tr th:only-of-type {\n",
              "        vertical-align: middle;\n",
              "    }\n",
              "\n",
              "    .dataframe tbody tr th {\n",
              "        vertical-align: top;\n",
              "    }\n",
              "\n",
              "    .dataframe thead th {\n",
              "        text-align: right;\n",
              "    }\n",
              "</style>\n",
              "<table border=\"1\" class=\"dataframe\">\n",
              "  <thead>\n",
              "    <tr style=\"text-align: right;\">\n",
              "      <th></th>\n",
              "      <th>symbol</th>\n",
              "      <th>ticker</th>\n",
              "      <th>div_value</th>\n",
              "      <th>forecast_div_value</th>\n",
              "      <th>inc</th>\n",
              "      <th>forecast_inc</th>\n",
              "      <th>name</th>\n",
              "      <th>price</th>\n",
              "      <th>30d_min</th>\n",
              "      <th>30d_max</th>\n",
              "      <th>30d_drowdown</th>\n",
              "      <th>365d_min</th>\n",
              "      <th>365d_max</th>\n",
              "      <th>365d_drowdown</th>\n",
              "    </tr>\n",
              "  </thead>\n",
              "  <tbody>\n",
              "    <tr>\n",
              "      <th>0</th>\n",
              "      <td>LNZLP.MOEX</td>\n",
              "      <td>LNZLP</td>\n",
              "      <td>3699.27</td>\n",
              "      <td>NaN</td>\n",
              "      <td>175.74</td>\n",
              "      <td>NaN</td>\n",
              "      <td>Lena Gold-Mining Public Joint Stock Company Le...</td>\n",
              "      <td>2105.00</td>\n",
              "      <td>2095.00</td>\n",
              "      <td>2215.0</td>\n",
              "      <td>-4.97</td>\n",
              "      <td>1935.00</td>\n",
              "      <td>7200.00</td>\n",
              "      <td>-70.76</td>\n",
              "    </tr>\n",
              "    <tr>\n",
              "      <th>1</th>\n",
              "      <td>LNZL.MOEX</td>\n",
              "      <td>LNZL</td>\n",
              "      <td>15219.50</td>\n",
              "      <td>NaN</td>\n",
              "      <td>138.11</td>\n",
              "      <td>NaN</td>\n",
              "      <td>Lena Gold-Mining Public Joint Stock Company Le...</td>\n",
              "      <td>11020.00</td>\n",
              "      <td>10910.00</td>\n",
              "      <td>11830.0</td>\n",
              "      <td>-6.85</td>\n",
              "      <td>10100.00</td>\n",
              "      <td>35000.00</td>\n",
              "      <td>-68.51</td>\n",
              "    </tr>\n",
              "    <tr>\n",
              "      <th>2</th>\n",
              "      <td>NLMK.MOEX</td>\n",
              "      <td>NLMK</td>\n",
              "      <td>41.91</td>\n",
              "      <td>44.17</td>\n",
              "      <td>18.73</td>\n",
              "      <td>19.74</td>\n",
              "      <td>Public Joint Stock Company \"Novolipetsk Steel\"</td>\n",
              "      <td>223.80</td>\n",
              "      <td>218.94</td>\n",
              "      <td>231.1</td>\n",
              "      <td>-3.16</td>\n",
              "      <td>190.06</td>\n",
              "      <td>279.58</td>\n",
              "      <td>-19.95</td>\n",
              "    </tr>\n",
              "    <tr>\n",
              "      <th>3</th>\n",
              "      <td>MTLRP.MOEX</td>\n",
              "      <td>MTLRP</td>\n",
              "      <td>1.17</td>\n",
              "      <td>58.89</td>\n",
              "      <td>0.37</td>\n",
              "      <td>18.62</td>\n",
              "      <td>Mechel PAO</td>\n",
              "      <td>316.25</td>\n",
              "      <td>296.50</td>\n",
              "      <td>329.0</td>\n",
              "      <td>-3.88</td>\n",
              "      <td>69.35</td>\n",
              "      <td>329.00</td>\n",
              "      <td>-3.88</td>\n",
              "    </tr>\n",
              "    <tr>\n",
              "      <th>4</th>\n",
              "      <td>CHMF.MOEX</td>\n",
              "      <td>CHMF</td>\n",
              "      <td>253.42</td>\n",
              "      <td>320.51</td>\n",
              "      <td>15.10</td>\n",
              "      <td>19.10</td>\n",
              "      <td>Public Joint Stock Company Severstal</td>\n",
              "      <td>1678.00</td>\n",
              "      <td>1614.20</td>\n",
              "      <td>1676.4</td>\n",
              "      <td>0.10</td>\n",
              "      <td>1105.40</td>\n",
              "      <td>1881.20</td>\n",
              "      <td>-10.80</td>\n",
              "    </tr>\n",
              "  </tbody>\n",
              "</table>\n",
              "</div>"
            ],
            "text/plain": [
              "       symbol ticker  div_value  ...  365d_min  365d_max  365d_drowdown\n",
              "0  LNZLP.MOEX  LNZLP    3699.27  ...   1935.00   7200.00         -70.76\n",
              "1   LNZL.MOEX   LNZL   15219.50  ...  10100.00  35000.00         -68.51\n",
              "2   NLMK.MOEX   NLMK      41.91  ...    190.06    279.58         -19.95\n",
              "3  MTLRP.MOEX  MTLRP       1.17  ...     69.35    329.00          -3.88\n",
              "4   CHMF.MOEX   CHMF     253.42  ...   1105.40   1881.20         -10.80\n",
              "\n",
              "[5 rows x 14 columns]"
            ]
          },
          "metadata": {},
          "execution_count": 67
        }
      ]
    },
    {
      "cell_type": "code",
      "metadata": {
        "id": "8hNCnAZHknyq",
        "outputId": "023d78fc-64cd-4ae3-b0ca-1e5aaba10239",
        "colab": {
          "base_uri": "https://localhost:8080/",
          "height": 423
        }
      },
      "source": [
        "set_with_dataframe(sheet, new_data_df, include_index=False)"
      ],
      "execution_count": 68,
      "outputs": [
        {
          "output_type": "error",
          "ename": "APIError",
          "evalue": "ignored",
          "traceback": [
            "\u001b[0;31m---------------------------------------------------------------------------\u001b[0m",
            "\u001b[0;31mAPIError\u001b[0m                                  Traceback (most recent call last)",
            "\u001b[0;32m<ipython-input-68-afb645e5dd50>\u001b[0m in \u001b[0;36m<module>\u001b[0;34m()\u001b[0m\n\u001b[0;32m----> 1\u001b[0;31m \u001b[0mset_with_dataframe\u001b[0m\u001b[0;34m(\u001b[0m\u001b[0msheet\u001b[0m\u001b[0;34m,\u001b[0m \u001b[0mnew_data_df\u001b[0m\u001b[0;34m,\u001b[0m \u001b[0minclude_index\u001b[0m\u001b[0;34m=\u001b[0m\u001b[0;32mFalse\u001b[0m\u001b[0;34m)\u001b[0m\u001b[0;34m\u001b[0m\u001b[0;34m\u001b[0m\u001b[0m\n\u001b[0m",
            "\u001b[0;32m/usr/local/lib/python3.7/dist-packages/gspread_dataframe.py\u001b[0m in \u001b[0;36mset_with_dataframe\u001b[0;34m(worksheet, dataframe, row, col, include_index, include_column_header, resize, allow_formulas)\u001b[0m\n\u001b[1;32m    252\u001b[0m     \u001b[0mlogger\u001b[0m\u001b[0;34m.\u001b[0m\u001b[0mdebug\u001b[0m\u001b[0;34m(\u001b[0m\u001b[0;34m\"%d cell updates to send\"\u001b[0m\u001b[0;34m,\u001b[0m \u001b[0mlen\u001b[0m\u001b[0;34m(\u001b[0m\u001b[0mcells_to_update\u001b[0m\u001b[0;34m)\u001b[0m\u001b[0;34m)\u001b[0m\u001b[0;34m\u001b[0m\u001b[0;34m\u001b[0m\u001b[0m\n\u001b[1;32m    253\u001b[0m \u001b[0;34m\u001b[0m\u001b[0m\n\u001b[0;32m--> 254\u001b[0;31m     \u001b[0mresp\u001b[0m \u001b[0;34m=\u001b[0m \u001b[0mworksheet\u001b[0m\u001b[0;34m.\u001b[0m\u001b[0mupdate_cells\u001b[0m\u001b[0;34m(\u001b[0m\u001b[0mcells_to_update\u001b[0m\u001b[0;34m,\u001b[0m \u001b[0mvalue_input_option\u001b[0m\u001b[0;34m=\u001b[0m\u001b[0;34m'USER_ENTERED'\u001b[0m\u001b[0;34m)\u001b[0m\u001b[0;34m\u001b[0m\u001b[0;34m\u001b[0m\u001b[0m\n\u001b[0m\u001b[1;32m    255\u001b[0m     \u001b[0mlogger\u001b[0m\u001b[0;34m.\u001b[0m\u001b[0mdebug\u001b[0m\u001b[0;34m(\u001b[0m\u001b[0;34m\"Cell update response: %s\"\u001b[0m\u001b[0;34m,\u001b[0m \u001b[0mresp\u001b[0m\u001b[0;34m)\u001b[0m\u001b[0;34m\u001b[0m\u001b[0;34m\u001b[0m\u001b[0m\n",
            "\u001b[0;32m/usr/local/lib/python3.7/dist-packages/gspread/models.py\u001b[0m in \u001b[0;36mupdate_cells\u001b[0;34m(self, cell_list, value_input_option)\u001b[0m\n\u001b[1;32m    607\u001b[0m             },\n\u001b[1;32m    608\u001b[0m             body={\n\u001b[0;32m--> 609\u001b[0;31m                 \u001b[0;34m'values'\u001b[0m\u001b[0;34m:\u001b[0m \u001b[0mvalues_rect\u001b[0m\u001b[0;34m\u001b[0m\u001b[0;34m\u001b[0m\u001b[0m\n\u001b[0m\u001b[1;32m    610\u001b[0m             }\n\u001b[1;32m    611\u001b[0m         )\n",
            "\u001b[0;32m/usr/local/lib/python3.7/dist-packages/gspread/models.py\u001b[0m in \u001b[0;36mvalues_update\u001b[0;34m(self, range, params, body)\u001b[0m\n\u001b[1;32m    113\u001b[0m     \u001b[0;32mdef\u001b[0m \u001b[0mvalues_update\u001b[0m\u001b[0;34m(\u001b[0m\u001b[0mself\u001b[0m\u001b[0;34m,\u001b[0m \u001b[0mrange\u001b[0m\u001b[0;34m,\u001b[0m \u001b[0mparams\u001b[0m\u001b[0;34m=\u001b[0m\u001b[0;32mNone\u001b[0m\u001b[0;34m,\u001b[0m \u001b[0mbody\u001b[0m\u001b[0;34m=\u001b[0m\u001b[0;32mNone\u001b[0m\u001b[0;34m)\u001b[0m\u001b[0;34m:\u001b[0m\u001b[0;34m\u001b[0m\u001b[0;34m\u001b[0m\u001b[0m\n\u001b[1;32m    114\u001b[0m         \u001b[0murl\u001b[0m \u001b[0;34m=\u001b[0m \u001b[0mSPREADSHEET_VALUES_URL\u001b[0m \u001b[0;34m%\u001b[0m \u001b[0;34m(\u001b[0m\u001b[0mself\u001b[0m\u001b[0;34m.\u001b[0m\u001b[0mid\u001b[0m\u001b[0;34m,\u001b[0m \u001b[0mquote\u001b[0m\u001b[0;34m(\u001b[0m\u001b[0mrange\u001b[0m\u001b[0;34m,\u001b[0m \u001b[0msafe\u001b[0m\u001b[0;34m=\u001b[0m\u001b[0;34m''\u001b[0m\u001b[0;34m)\u001b[0m\u001b[0;34m)\u001b[0m\u001b[0;34m\u001b[0m\u001b[0;34m\u001b[0m\u001b[0m\n\u001b[0;32m--> 115\u001b[0;31m         \u001b[0mr\u001b[0m \u001b[0;34m=\u001b[0m \u001b[0mself\u001b[0m\u001b[0;34m.\u001b[0m\u001b[0mclient\u001b[0m\u001b[0;34m.\u001b[0m\u001b[0mrequest\u001b[0m\u001b[0;34m(\u001b[0m\u001b[0;34m'put'\u001b[0m\u001b[0;34m,\u001b[0m \u001b[0murl\u001b[0m\u001b[0;34m,\u001b[0m \u001b[0mparams\u001b[0m\u001b[0;34m=\u001b[0m\u001b[0mparams\u001b[0m\u001b[0;34m,\u001b[0m \u001b[0mjson\u001b[0m\u001b[0;34m=\u001b[0m\u001b[0mbody\u001b[0m\u001b[0;34m)\u001b[0m\u001b[0;34m\u001b[0m\u001b[0;34m\u001b[0m\u001b[0m\n\u001b[0m\u001b[1;32m    116\u001b[0m         \u001b[0;32mreturn\u001b[0m \u001b[0mr\u001b[0m\u001b[0;34m.\u001b[0m\u001b[0mjson\u001b[0m\u001b[0;34m(\u001b[0m\u001b[0;34m)\u001b[0m\u001b[0;34m\u001b[0m\u001b[0;34m\u001b[0m\u001b[0m\n\u001b[1;32m    117\u001b[0m \u001b[0;34m\u001b[0m\u001b[0m\n",
            "\u001b[0;32m/usr/local/lib/python3.7/dist-packages/gspread/client.py\u001b[0m in \u001b[0;36mrequest\u001b[0;34m(self, method, endpoint, params, data, json, files, headers)\u001b[0m\n\u001b[1;32m     77\u001b[0m             \u001b[0;32mreturn\u001b[0m \u001b[0mresponse\u001b[0m\u001b[0;34m\u001b[0m\u001b[0;34m\u001b[0m\u001b[0m\n\u001b[1;32m     78\u001b[0m         \u001b[0;32melse\u001b[0m\u001b[0;34m:\u001b[0m\u001b[0;34m\u001b[0m\u001b[0;34m\u001b[0m\u001b[0m\n\u001b[0;32m---> 79\u001b[0;31m             \u001b[0;32mraise\u001b[0m \u001b[0mAPIError\u001b[0m\u001b[0;34m(\u001b[0m\u001b[0mresponse\u001b[0m\u001b[0;34m)\u001b[0m\u001b[0;34m\u001b[0m\u001b[0;34m\u001b[0m\u001b[0m\n\u001b[0m\u001b[1;32m     80\u001b[0m \u001b[0;34m\u001b[0m\u001b[0m\n\u001b[1;32m     81\u001b[0m     \u001b[0;32mdef\u001b[0m \u001b[0mlist_spreadsheet_files\u001b[0m\u001b[0;34m(\u001b[0m\u001b[0mself\u001b[0m\u001b[0;34m)\u001b[0m\u001b[0;34m:\u001b[0m\u001b[0;34m\u001b[0m\u001b[0;34m\u001b[0m\u001b[0m\n",
            "\u001b[0;31mAPIError\u001b[0m: {\n  \"error\": {\n    \"code\": 401,\n    \"message\": \"Request had invalid authentication credentials. Expected OAuth 2 access token, login cookie or other valid authentication credential. See https://developers.google.com/identity/sign-in/web/devconsole-project.\",\n    \"status\": \"UNAUTHENTICATED\"\n  }\n}\n"
          ]
        }
      ]
    },
    {
      "cell_type": "code",
      "metadata": {
        "id": "VKIAR-CdhSmx",
        "outputId": "f8551c3e-23b6-4990-9765-b59fbd9160a4",
        "colab": {
          "base_uri": "https://localhost:8080/"
        }
      },
      "source": [
        "import sys\n",
        "for i in range(2, sys.maxsize):\n",
        "  value = sheet.cell(i, 1).value\n",
        "  if not value:\n",
        "    break\n",
        "  print(value)\n"
      ],
      "execution_count": 29,
      "outputs": [
        {
          "output_type": "stream",
          "name": "stdout",
          "text": [
            "NLMK.MOEX\n",
            "MAGN.MOEX\n",
            "CHMF.MOEX\n",
            "MTLRP.MOEX\n",
            "NKNCP.MOEX\n",
            "GMKN.MOEX\n",
            "MVID.MOEX\n",
            "RASP.MOEX\n",
            "QIWI.MOEX\n",
            "TATNP.MOEX\n",
            "UPRO.MOEX\n",
            "NKNC.MOEX\n",
            "OGKB.MOEX\n",
            "GAZP.MOEX\n",
            "VTBR.MOEX\n",
            "MTSS.MOEX\n",
            "TATN.MOEX\n",
            "LKOH.MOEX\n",
            "ALRS.MOEX\n",
            "LSNGP.MOEX\n",
            "MSRS.MOEX\n",
            "MRKC.MOEX\n",
            "PHOR.MOEX\n",
            "LSRG.MOEX\n",
            "BANEP.MOEX\n",
            "RSTIP.MOEX\n",
            "KRKNP.MOEX\n",
            "MGTSP.MOEX\n",
            "ENRU.MOEX\n",
            "AKRN.MOEX\n",
            "FEES.MOEX\n",
            "DSKY.MOEX\n",
            "SBERP.MOEX\n",
            "AGRO.MOEX\n",
            "ROSN.MOEX\n",
            "MRKP.MOEX\n",
            "TRNFP.MOEX\n",
            "NMTP.MOEX\n",
            "POLY.MOEX\n",
            "SBER.MOEX\n",
            "RSTI.MOEX\n",
            "HYDR.MOEX\n",
            "SNGSP.MOEX\n",
            "GLTR.MOEX\n",
            "KZOS.MOEX\n",
            "BANE.MOEX\n",
            "MGNT.MOEX\n",
            "RTKMP.MOEX\n",
            "NKHP.MOEX\n",
            "MOEX.MOEX\n",
            "HIMCP.MOEX\n",
            "TTLK.MOEX\n",
            "MSNG.MOEX\n",
            "BSPB.MOEX\n",
            "GCHE.MOEX\n",
            "RTKM.MOEX\n",
            "MGTS.MOEX\n",
            "TRMK.MOEX\n",
            "MDMG.MOEX\n",
            "KRSB.MOEX\n",
            "IRAO.MOEX\n",
            "NVTK.MOEX\n",
            "DIOD.MOEX\n",
            "BELU.MOEX\n",
            "BISVP.MOEX\n",
            "KAZT.MOEX\n",
            "VSMO.MOEX\n",
            "KAZTP.MOEX\n",
            "ASSB.MOEX\n",
            "PIKK.MOEX\n",
            "PLZL.MOEX\n",
            "SELG.MOEX\n",
            "FLOT.MOEX\n",
            "SELGP.MOEX\n",
            "AQUA.MOEX\n",
            "LSNG.MOEX\n",
            "SIBN.MOEX\n",
            "FIXP.MOEX\n",
            "AFKS.MOEX\n",
            "KZOSP.MOEX\n",
            "SMLT.MOEX\n",
            "LVHK.MOEX\n",
            "SNGS.MOEX\n",
            "TCSG.MOEX\n",
            "HHRU.MOEX\n",
            "CNTLP.MOEX\n",
            "KMAZ.MOEX\n",
            "LNZLP.MOEX\n",
            "LNZL.MOEX\n",
            "STSBP.MOEX\n",
            "KGKCP.MOEX\n",
            "MRSB.MOEX\n",
            "WTCMP.MOEX\n",
            "WTCM.MOEX\n",
            "RGSS.MOEX\n",
            "KGKC.MOEX\n",
            "PMSBP.MOEX\n",
            "EELT.MOEX\n",
            "RZSB.MOEX\n",
            "PMSB.MOEX\n",
            "RDRB.MOEX\n",
            "KRSBP.MOEX\n",
            "PRMB.MOEX\n",
            "ARSA.MOEX\n",
            "KBSB.MOEX\n",
            "INGR.MOEX\n",
            "VLHZ.MOEX\n",
            "ABRD.MOEX\n",
            "YAKG.MOEX\n",
            "FIVE.MOEX\n",
            "JNOSP.MOEX\n",
            "KROTP.MOEX\n",
            "KROT.MOEX\n"
          ]
        }
      ]
    },
    {
      "cell_type": "code",
      "metadata": {
        "id": "voazA6IslUef"
      },
      "source": [
        "# available symbols in namespace\n",
        "ok.symbols_in_namespace('MOEX')"
      ],
      "execution_count": null,
      "outputs": []
    },
    {
      "cell_type": "markdown",
      "metadata": {
        "id": "676Jl7wFlUeg"
      },
      "source": [
        "## Compare assets from different stock markets"
      ]
    },
    {
      "cell_type": "markdown",
      "metadata": {
        "id": "6CP08hy_lUeg"
      },
      "source": [
        "`AssetList` is used to compare different type of stocks, indexes, currencies, or commodities. Asset performance is adjusted to the **base currency** (USD is default)."
      ]
    },
    {
      "cell_type": "code",
      "metadata": {
        "id": "-rLSBptObNJF"
      },
      "source": [
        "x = ok.Asset('OHI.US')\n",
        "print(x)\n",
        "print('Price:', x.price)\n"
      ],
      "execution_count": null,
      "outputs": []
    },
    {
      "cell_type": "code",
      "metadata": {
        "id": "0uSv-peBbq4r"
      },
      "source": [
        "div = x.dividends\n",
        "div[div>0]"
      ],
      "execution_count": null,
      "outputs": []
    },
    {
      "cell_type": "code",
      "metadata": {
        "id": "HNsDetN-bW5C"
      },
      "source": [
        "t = div.resample(\"Y\").sum()\n",
        "t.index = t.index.to_timestamp()\n",
        "t.plot(kind='bar')"
      ],
      "execution_count": null,
      "outputs": []
    },
    {
      "cell_type": "code",
      "metadata": {
        "id": "i0tI9owHcyho"
      },
      "source": [
        "t = div.rolling(12).sum().dropna()\n",
        "t.index = t.index.to_timestamp() # fix TypeError: Object of type Period is not JSON serializable\n",
        "t.plot(kind='bar')\n",
        "\n"
      ],
      "execution_count": null,
      "outputs": []
    },
    {
      "cell_type": "code",
      "metadata": {
        "id": "RAG654jdlUeh"
      },
      "source": [
        "al = ok.AssetList(['OHI.US'], ccy='USD', first_date='2015-01', last_date='2022-12', inflation=False) \n",
        "al"
      ],
      "execution_count": null,
      "outputs": []
    },
    {
      "cell_type": "code",
      "metadata": {
        "id": "hii5yXuqlUei"
      },
      "source": [
        "t = (al.assets_dividend_yield *100).round(2)\n",
        "t.set_index(t.index.to_timestamp()).plot()"
      ],
      "execution_count": null,
      "outputs": []
    },
    {
      "cell_type": "markdown",
      "metadata": {
        "id": "D7RhXkb9lUei"
      },
      "source": [
        "lets see the accumulated return and comapare it with the inflation."
      ]
    },
    {
      "cell_type": "code",
      "metadata": {
        "id": "yMZT-51plJi5"
      },
      "source": [
        "t = al._get_assets_dividends(remove_forecast=False)\n",
        "t.index = t.index.to_timestamp()\n",
        "t.last('12M')"
      ],
      "execution_count": null,
      "outputs": []
    },
    {
      "cell_type": "code",
      "metadata": {
        "id": "AEOtBKTpoJcX"
      },
      "source": [
        "al.asset_obj_dict['LKOH.MOEX'].close_monthly.loc[al.first_date: al.last_date]"
      ],
      "execution_count": null,
      "outputs": []
    },
    {
      "cell_type": "code",
      "metadata": {
        "id": "X2QGwsoUoIgV"
      },
      "source": [
        "asset.close_monthly.loc[al.first_date: al.last_date]"
      ],
      "execution_count": null,
      "outputs": []
    },
    {
      "cell_type": "code",
      "metadata": {
        "id": "Wzs-19IMqdOc"
      },
      "source": [
        "al._get_assets_dividends(remove_forecast=False)"
      ],
      "execution_count": null,
      "outputs": []
    },
    {
      "cell_type": "code",
      "metadata": {
        "id": "qQedZw9Oknia"
      },
      "source": [
        "\n",
        "import types\n",
        "def div(self) -> pd.DataFrame:\n",
        "    frame = {}\n",
        "    df = self._get_assets_dividends(remove_forecast=False)\n",
        "    for tick in self.symbols:\n",
        "        div_monthly = df[tick]\n",
        "        if div_monthly.sum() != 0:\n",
        "            asset = self.asset_obj_dict[tick]\n",
        "            price_monthly_ts = asset.close_monthly.loc[self.first_date: self.last_date]\n",
        "            if asset.currency != self.currency:\n",
        "                price_monthly_ts = self._adjust_price_to_currency_monthly(price_monthly_ts, asset.currency)\n",
        "        else:\n",
        "            # skipping prices if no dividends\n",
        "            div_yield = div_monthly\n",
        "            frame.update({tick: div_yield})\n",
        "            continue\n",
        "        # Get dividend yield time series\n",
        "        div_yield = pd.Series(dtype=float)\n",
        "        # div_monthly.index = div_monthly.index.to_timestamp()\n",
        "        for date in price_monthly_ts.index.to_timestamp(how=\"End\"):\n",
        "            ltm_div = div_monthly[date:].first(\"12M\").sum()\n",
        "            last_price = price_monthly_ts.loc[date:].iloc[0]\n",
        "            print(date, ltm_div, last_price)\n",
        "            value = ltm_div / last_price * 100\n",
        "            div_yield.at[date] = value\n",
        "        div_yield.index = div_yield.index.to_period(\"M\")\n",
        "        frame.update({tick: div_yield})\n",
        "    return pd.DataFrame(frame)\n",
        "\n",
        "al.div = types.MethodType(div, al)\n",
        "a = al.div()"
      ],
      "execution_count": null,
      "outputs": []
    },
    {
      "cell_type": "code",
      "metadata": {
        "id": "wM3d7wrQmGsR"
      },
      "source": [
        "a.set_index(a.index.to_timestamp()).plot.bar()"
      ],
      "execution_count": null,
      "outputs": []
    },
    {
      "cell_type": "code",
      "metadata": {
        "id": "l5prTtEYl25k"
      },
      "source": [
        "al.assets_dividend_yield  *100"
      ],
      "execution_count": null,
      "outputs": []
    },
    {
      "cell_type": "code",
      "metadata": {
        "id": "PAxinkc_jXKv"
      },
      "source": [
        "t = div.rolling(12).sum().dropna()\n",
        "t.index = t.index.to_timestamp() # fix TypeError: Object of type Period is not JSON serializable\n",
        "t.plot(kind='bar')\n",
        "\n"
      ],
      "execution_count": null,
      "outputs": []
    },
    {
      "cell_type": "code",
      "metadata": {
        "id": "vpexAfDJlUej"
      },
      "source": [
        "x.dividend_growing_years"
      ],
      "execution_count": null,
      "outputs": []
    },
    {
      "cell_type": "code",
      "metadata": {
        "id": "uJ_md7Vkaqvn"
      },
      "source": [
        "x.dividend_paying_years\n"
      ],
      "execution_count": null,
      "outputs": []
    },
    {
      "cell_type": "code",
      "metadata": {
        "id": "bE5Bx_C0atU1"
      },
      "source": [
        "\n",
        "x.dividends_annual"
      ],
      "execution_count": null,
      "outputs": []
    },
    {
      "cell_type": "code",
      "metadata": {
        "id": "psUcwTb6awv0"
      },
      "source": [
        "x.get_dividend_mean_growth_rate(period=5)"
      ],
      "execution_count": null,
      "outputs": []
    },
    {
      "cell_type": "code",
      "metadata": {
        "id": "fCaWcmcoaz-7"
      },
      "source": [
        ""
      ],
      "execution_count": null,
      "outputs": []
    },
    {
      "cell_type": "code",
      "metadata": {
        "id": "6OuLiir1O6TR"
      },
      "source": [
        ""
      ],
      "execution_count": null,
      "outputs": []
    },
    {
      "cell_type": "code",
      "metadata": {
        "id": "C1rPOSWYIWOm"
      },
      "source": [
        "import requests\n",
        "demo = 'c4924e873e8fd12836bb0ff3ad647283'\n",
        "\n",
        "querytickers = requests.get(f'https://fmpcloud.io/api/v3/search?query=&exchange=NASDAQ&limit=5000&apikey={demo}')\n",
        "querytickers = querytickers.json()\n",
        "querytickers"
      ],
      "execution_count": null,
      "outputs": []
    },
    {
      "cell_type": "code",
      "metadata": {
        "id": "aNoLCLqIO7Ca"
      },
      "source": [
        "t = requests.get(f\"https://financialmodelingprep.com/api/v3/financials/income-statement/RNG&apikey={demo}\")\n",
        "t.text"
      ],
      "execution_count": null,
      "outputs": []
    },
    {
      "cell_type": "markdown",
      "metadata": {
        "id": "FnzOLN66lUek"
      },
      "source": [
        "Drawdowns history is availably and easy to see"
      ]
    },
    {
      "cell_type": "code",
      "metadata": {
        "id": "rqPZ2tnUlUek"
      },
      "source": [
        "x.drawdowns.plot();"
      ],
      "execution_count": null,
      "outputs": []
    },
    {
      "cell_type": "markdown",
      "metadata": {
        "id": "5u1jD0KulUel"
      },
      "source": [
        "See the dividend yield history for all the assets in the list."
      ]
    },
    {
      "cell_type": "code",
      "metadata": {
        "id": "3rU_wRIF45H7"
      },
      "source": [
        "\n",
        "x.dividends.resample(\"Y\").sum().plot(kind='bar');"
      ],
      "execution_count": null,
      "outputs": []
    },
    {
      "cell_type": "code",
      "metadata": {
        "id": "B5igSlhrlUem"
      },
      "source": [
        "x.assets_dividend_yield.plot()"
      ],
      "execution_count": null,
      "outputs": []
    },
    {
      "cell_type": "markdown",
      "metadata": {
        "id": "RcvXuS3nlUen"
      },
      "source": [
        "_describe_ method shows all the main parameters (risk metrics, rate of return etc.) for the list of assets."
      ]
    },
    {
      "cell_type": "code",
      "metadata": {
        "id": "WN7DMnb2lUen"
      },
      "source": [
        "x.describe(years=[1, 10])  # You can specify the period or leave the default: 1, 5 and 10 years"
      ],
      "execution_count": null,
      "outputs": []
    },
    {
      "cell_type": "markdown",
      "metadata": {
        "id": "NdHg2fMklUeo"
      },
      "source": [
        "### Correlation Matrix"
      ]
    },
    {
      "cell_type": "markdown",
      "metadata": {
        "id": "nKPYJ0G0lUep"
      },
      "source": [
        "If you need to check the correlation (or covariance) between assets returns, it's easy to use native Pandas functions."
      ]
    },
    {
      "cell_type": "markdown",
      "metadata": {
        "id": "EGgCRsbKlUep"
      },
      "source": [
        "Monthly rate of return time series are available with `.assets_ror` property:"
      ]
    },
    {
      "cell_type": "code",
      "metadata": {
        "id": "jTQk5rLglUep"
      },
      "source": [
        "x.assets_ror"
      ],
      "execution_count": null,
      "outputs": []
    },
    {
      "cell_type": "markdown",
      "metadata": {
        "id": "y_36UToklUeq"
      },
      "source": [
        "The correlation matrix is obtained by `x.ror.corr()`"
      ]
    },
    {
      "cell_type": "code",
      "metadata": {
        "id": "3q_CeM9_lUeq"
      },
      "source": [
        "x.assets_ror.corr()"
      ],
      "execution_count": null,
      "outputs": []
    },
    {
      "cell_type": "markdown",
      "metadata": {
        "id": "9EqqygERlUer"
      },
      "source": [
        "Covariance matrix:"
      ]
    },
    {
      "cell_type": "code",
      "metadata": {
        "id": "F9E0vXCYlUes"
      },
      "source": [
        "x.assets_ror.cov()"
      ],
      "execution_count": null,
      "outputs": []
    },
    {
      "cell_type": "markdown",
      "metadata": {
        "id": "Rd0tFJ3blUes"
      },
      "source": [
        "Rolling correlation with the benchmark is useful to see the correlation patterns for shorter periods.  \n",
        "The benchmark (index) should be on the first place in the AssetList (SPY.US in this example)."
      ]
    },
    {
      "cell_type": "code",
      "metadata": {
        "id": "I7qz6SpRlUes"
      },
      "source": [
        "x.index_rolling_corr(window=12*5).plot()"
      ],
      "execution_count": null,
      "outputs": []
    },
    {
      "cell_type": "markdown",
      "metadata": {
        "id": "Z0ayf7K0lUe2"
      },
      "source": [
        "## Basic portfolio methods"
      ]
    },
    {
      "cell_type": "markdown",
      "metadata": {
        "id": "YqVI1_KIlUe3"
      },
      "source": [
        "Lets create a portfolio with 3 assets and base currency USD. We need to specify weigts."
      ]
    },
    {
      "cell_type": "code",
      "metadata": {
        "id": "LasyDHFLlUe4"
      },
      "source": [
        "tickers = ['VNQ.US', 'DBXD.XETR', 'MCFTR.INDX']  # we can create lists of assets and portfolio containing general type of assets and **indexes**\n",
        "w = [0.5, 0.25, 0.25]\n",
        "currency = 'USD'"
      ],
      "execution_count": null,
      "outputs": []
    },
    {
      "cell_type": "code",
      "metadata": {
        "id": "EUHeXwaJlUe5"
      },
      "source": [
        "y = ok.Portfolio(tickers, ccy=currency, weights=w)\n",
        "y"
      ],
      "execution_count": null,
      "outputs": []
    },
    {
      "cell_type": "code",
      "metadata": {
        "id": "nN1wA-yzlUe7"
      },
      "source": [
        "y.table"
      ],
      "execution_count": null,
      "outputs": []
    },
    {
      "cell_type": "markdown",
      "metadata": {
        "id": "K6Mres4rlUe9"
      },
      "source": [
        "Portfolio has the same property `.wealth_index` (accumulated return) as AssetList objects."
      ]
    },
    {
      "cell_type": "code",
      "metadata": {
        "id": "AtTR-bvylUe-"
      },
      "source": [
        "y.wealth_index.plot();"
      ],
      "execution_count": null,
      "outputs": []
    },
    {
      "cell_type": "markdown",
      "metadata": {
        "id": "FLB-FKA5lUe_"
      },
      "source": [
        "### Risk metrics"
      ]
    },
    {
      "cell_type": "markdown",
      "metadata": {
        "id": "QbJNwdm2lUe_"
      },
      "source": [
        "You can use risk(volatility or standard deviation), semideviation, max drawdown, var and cvar metrics."
      ]
    },
    {
      "cell_type": "code",
      "metadata": {
        "id": "jNQIq7o9lUfA"
      },
      "source": [
        "y.risk_annual"
      ],
      "execution_count": null,
      "outputs": []
    },
    {
      "cell_type": "code",
      "metadata": {
        "id": "RCQr8ZX5lUfB"
      },
      "source": [
        "y.semideviation_annual"
      ],
      "execution_count": null,
      "outputs": []
    },
    {
      "cell_type": "code",
      "metadata": {
        "id": "-j3crNaMlUfB"
      },
      "source": [
        "y.get_var_historic(level=1)"
      ],
      "execution_count": null,
      "outputs": []
    },
    {
      "cell_type": "code",
      "metadata": {
        "id": "WL-UNXAilUfD"
      },
      "source": [
        "y.get_cvar_historic(level=5)"
      ],
      "execution_count": null,
      "outputs": []
    },
    {
      "cell_type": "code",
      "metadata": {
        "id": "n3cUENEJlUfD"
      },
      "source": [
        "y.drawdowns.min()"
      ],
      "execution_count": null,
      "outputs": []
    },
    {
      "cell_type": "markdown",
      "metadata": {
        "id": "8Vj5cLoJlUfE"
      },
      "source": [
        "... another useful rist metric is max drawdown recovery period - `.recovery_period`.  \n",
        "The longest recovery period for the portfolio assets value is returned."
      ]
    },
    {
      "cell_type": "code",
      "metadata": {
        "id": "fvOyQG89lUfF"
      },
      "source": [
        "y.recovery_period / 12  # years"
      ],
      "execution_count": null,
      "outputs": []
    },
    {
      "cell_type": "markdown",
      "metadata": {
        "id": "8-G1ltwXlUfF"
      },
      "source": [
        "`.describe` shows main properties for the portfolio in different trailing periods."
      ]
    },
    {
      "cell_type": "code",
      "metadata": {
        "id": "EShX8rXblUfG"
      },
      "source": [
        "y.describe()"
      ],
      "execution_count": null,
      "outputs": []
    },
    {
      "cell_type": "markdown",
      "metadata": {
        "id": "kcNeS9yPlUfG"
      },
      "source": [
        "### Forecasting return"
      ]
    },
    {
      "cell_type": "markdown",
      "metadata": {
        "id": "f-cxBHM9lUfH"
      },
      "source": [
        "Monte Carlo forecast for normal distrubution.  \n",
        "`.plot_forecast_monte_carlo` plots N random wealth indexes according to given return distribution."
      ]
    },
    {
      "cell_type": "code",
      "metadata": {
        "id": "Lg4J-o0alUfH"
      },
      "source": [
        "y.plot_forecast_monte_carlo(distr='norm', years=5, n=20)"
      ],
      "execution_count": null,
      "outputs": []
    },
    {
      "cell_type": "markdown",
      "metadata": {
        "id": "nm7Aao8ClUfI"
      },
      "source": [
        "For normal distribution it's easy to see forecasted accumulated return for a given set of percentiles."
      ]
    },
    {
      "cell_type": "code",
      "metadata": {
        "id": "H7aHk3h5lUfJ"
      },
      "source": [
        "y.plot_forecast(years=5, today_value=1000, percentiles=[10,50,90]);  # lognormal or historical distribution can be used with \"distr\" argument"
      ],
      "execution_count": null,
      "outputs": []
    },
    {
      "cell_type": "markdown",
      "metadata": {
        "id": "FApFbLhXlUfJ"
      },
      "source": [
        "**More examples of forecasting portfolio perfomance are available in [07 forecasting.ipynb](https://github.com/mbk-dev/okama/blob/master/examples/07%20forecasting.ipynb).**"
      ]
    },
    {
      "cell_type": "code",
      "metadata": {
        "id": "HC7-_foclUfJ"
      },
      "source": [
        ""
      ],
      "execution_count": null,
      "outputs": []
    }
  ]
}