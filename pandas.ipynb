{
  "nbformat": 4,
  "nbformat_minor": 0,
  "metadata": {
    "colab": {
      "name": "pandas.ipynb",
      "provenance": [],
      "include_colab_link": true
    },
    "kernelspec": {
      "name": "python3",
      "display_name": "Python 3"
    },
    "language_info": {
      "name": "python"
    }
  },
  "cells": [
    {
      "cell_type": "markdown",
      "metadata": {
        "id": "view-in-github",
        "colab_type": "text"
      },
      "source": [
        "<a href=\"https://colab.research.google.com/github/aljeshishe/colab/blob/main/pandas.ipynb\" target=\"_parent\"><img src=\"https://colab.research.google.com/assets/colab-badge.svg\" alt=\"Open In Colab\"/></a>"
      ]
    },
    {
      "cell_type": "markdown",
      "metadata": {
        "id": "2ShLzvbR3js9"
      },
      "source": [
        "show all rows"
      ]
    },
    {
      "cell_type": "code",
      "source": [
        "pip install -e git+ssh://git@github.com/aljeshishe/utils#egg=utils"
      ],
      "metadata": {
        "id": "2E83A4SMsrK6"
      },
      "execution_count": null,
      "outputs": []
    },
    {
      "cell_type": "code",
      "source": [
        "\n",
        "pip install pandas==1.3.3 plotly==5.3.1 matplotlib==3.4.3 selenium_wire==4.5.6 requests_cache==0.8.1 gspread==5.0.0 gspread_dataframe==3.2.2"
      ],
      "metadata": {
        "id": "82oCQlY_svtH"
      },
      "execution_count": null,
      "outputs": []
    },
    {
      "cell_type": "code",
      "metadata": {
        "id": "kQiI0o2U3Spi"
      },
      "source": [
        "import email\n",
        "import json\n",
        "import random\n",
        "import requests\n",
        "import requests_cache\n",
        "import pandas as pd\n",
        "import datetime\n",
        "from tqdm import tqdm \n",
        "from pathlib import Path\n",
        "from IPython.display import display, HTML\n",
        "import plotly.offline as pyo\n",
        "\n",
        "pyo.init_notebook_mode()\n",
        "pd.options.plotting.backend = 'plotly'\n",
        "pd.options.display.float_format = \"{:,.2f}\".format\n",
        "\n",
        "import utils as u\n",
        "u.pandas.patch()\n",
        "\n",
        "# requests_cache.install_cache()\n",
        "# requests_cache.uninstall_cache()\n"
      ],
      "execution_count": null,
      "outputs": []
    },
    {
      "cell_type": "markdown",
      "metadata": {
        "id": "gh9acwWr3VNn"
      },
      "source": [
        "show plotly plots in jupterlab"
      ]
    },
    {
      "cell_type": "code",
      "metadata": {
        "id": "SYODX9793QpD"
      },
      "source": [
        "!jupyter labextension install jupyterlab-plotly"
      ],
      "execution_count": null,
      "outputs": []
    },
    {
      "cell_type": "markdown",
      "metadata": {
        "id": "ewMzI2UiIyVK"
      },
      "source": [
        "### Exploratory data analisis"
      ]
    },
    {
      "cell_type": "code",
      "metadata": {
        "id": "09LeCsOoI2bY"
      },
      "source": [
        "pip install dtale pandas-profiling"
      ],
      "execution_count": null,
      "outputs": []
    },
    {
      "cell_type": "code",
      "metadata": {
        "id": "BJhMRuv4JL1a"
      },
      "source": [
        "df = pd.DataFrame([dict(a=1,b=2,c=3)])"
      ],
      "execution_count": null,
      "outputs": []
    },
    {
      "cell_type": "code",
      "metadata": {
        "id": "foqG_hykJBrQ"
      },
      "source": [
        "import dtale\n",
        "\n",
        "d = dtale.show(df)\n",
        "d.open_browser()\n",
        "# d.kill()"
      ],
      "execution_count": null,
      "outputs": []
    },
    {
      "cell_type": "code",
      "metadata": {
        "id": "ao53AwdWJRuo"
      },
      "source": [
        "# simple to notebook\n",
        "ProfileReport(df).to_notebook_iframe()\n",
        "# simple to file\n",
        "ProfileReport(df).to_file(\"your_report.html\")\n",
        "# explorative\n",
        "ProfileReport(df, explorative=True).to_notebook_iframe()\n",
        "# for large datasets\n",
        "ProfileReport(df, minimal=True).to_notebook_iframe()"
      ],
      "execution_count": null,
      "outputs": []
    }
  ]
}