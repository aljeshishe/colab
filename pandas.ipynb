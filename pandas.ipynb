{
  "nbformat": 4,
  "nbformat_minor": 0,
  "metadata": {
    "colab": {
      "name": "pandas.ipynb",
      "provenance": [],
      "authorship_tag": "ABX9TyNDCtqcuZ1nRpFMBKueH4Hq",
      "include_colab_link": true
    },
    "kernelspec": {
      "name": "python3",
      "display_name": "Python 3"
    },
    "language_info": {
      "name": "python"
    }
  },
  "cells": [
    {
      "cell_type": "markdown",
      "metadata": {
        "id": "view-in-github",
        "colab_type": "text"
      },
      "source": [
        "<a href=\"https://colab.research.google.com/github/aljeshishe/colab/blob/main/pandas.ipynb\" target=\"_parent\"><img src=\"https://colab.research.google.com/assets/colab-badge.svg\" alt=\"Open In Colab\"/></a>"
      ]
    },
    {
      "cell_type": "markdown",
      "metadata": {
        "id": "2ShLzvbR3js9"
      },
      "source": [
        "show all rows"
      ]
    },
    {
      "cell_type": "code",
      "metadata": {
        "id": "Phs6bfedIu1o"
      },
      "source": [
        "pip install pandas plotly pandasgui"
      ],
      "execution_count": null,
      "outputs": []
    },
    {
      "cell_type": "code",
      "metadata": {
        "id": "kQiI0o2U3Spi"
      },
      "source": [
        "import requests\n",
        "import requests_cache\n",
        "import pandas as pd\n",
        "import datetime\n",
        "from pandas import json_normalize\n",
        "from pathlib import Path\n",
        "import json\n",
        "from pandasgui import show\n",
        "import random\n",
        "from request import Request\n",
        "from IPython.display import display, HTML\n",
        "\n",
        "pd.set_option('display.max_rows', None)\n",
        "pd.set_option('display.max_columns', None)\n",
        "pd.set_option('display.max_colwidth', 20)\n",
        "# requests_cache.install_cache()\n",
        "# requests_cache.uninstall_cache()"
      ],
      "execution_count": null,
      "outputs": []
    },
    {
      "cell_type": "markdown",
      "metadata": {
        "id": "gh9acwWr3VNn"
      },
      "source": [
        "show plotly plots in jupterlab"
      ]
    },
    {
      "cell_type": "code",
      "metadata": {
        "id": "SYODX9793QpD"
      },
      "source": [
        "!jupyter labextension install jupyterlab-plotly"
      ],
      "execution_count": null,
      "outputs": []
    },
    {
      "cell_type": "markdown",
      "metadata": {
        "id": "ewMzI2UiIyVK"
      },
      "source": [
        "### Exploratory data analisis"
      ]
    },
    {
      "cell_type": "code",
      "metadata": {
        "id": "09LeCsOoI2bY"
      },
      "source": [
        "pip install dtale pandas-profiling"
      ],
      "execution_count": null,
      "outputs": []
    },
    {
      "cell_type": "code",
      "metadata": {
        "id": "BJhMRuv4JL1a"
      },
      "source": [
        "df = pd.DataFrame([dict(a=1,b=2,c=3)])"
      ],
      "execution_count": null,
      "outputs": []
    },
    {
      "cell_type": "code",
      "metadata": {
        "id": "foqG_hykJBrQ"
      },
      "source": [
        "import dtale\n",
        "\n",
        "d = dtale.show(df)\n",
        "d.open_browser()\n",
        "# d.kill()"
      ],
      "execution_count": null,
      "outputs": []
    },
    {
      "cell_type": "code",
      "metadata": {
        "id": "ao53AwdWJRuo"
      },
      "source": [
        "# simple to notebook\n",
        "ProfileReport(df).to_notebook_iframe()\n",
        "# simple to file\n",
        "ProfileReport(df).to_file(\"your_report.html\")\n",
        "# explorative\n",
        "ProfileReport(df, explorative=True).to_notebook_iframe()\n",
        "# for large datasets\n",
        "ProfileReport(df, minimal=True).to_notebook_iframe()"
      ],
      "execution_count": null,
      "outputs": []
    }
  ]
}