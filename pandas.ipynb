{
  "nbformat": 4,
  "nbformat_minor": 0,
  "metadata": {
    "colab": {
      "name": "pandas.ipynb",
      "provenance": [],
      "authorship_tag": "ABX9TyN50i90Pel20bHFDuihCKAy",
      "include_colab_link": true
    },
    "kernelspec": {
      "name": "python3",
      "display_name": "Python 3"
    },
    "language_info": {
      "name": "python"
    }
  },
  "cells": [
    {
      "cell_type": "markdown",
      "metadata": {
        "id": "view-in-github",
        "colab_type": "text"
      },
      "source": [
        "<a href=\"https://colab.research.google.com/github/aljeshishe/colab/blob/main/pandas.ipynb\" target=\"_parent\"><img src=\"https://colab.research.google.com/assets/colab-badge.svg\" alt=\"Open In Colab\"/></a>"
      ]
    },
    {
      "cell_type": "markdown",
      "metadata": {
        "id": "2ShLzvbR3js9"
      },
      "source": [
        "show all rows"
      ]
    },
    {
      "cell_type": "code",
      "metadata": {
        "id": "kQiI0o2U3Spi"
      },
      "source": [
        "pd.set_option('display.max_rows', None)"
      ],
      "execution_count": null,
      "outputs": []
    },
    {
      "cell_type": "markdown",
      "metadata": {
        "id": "gh9acwWr3VNn"
      },
      "source": [
        "show plotly plots in jupterlab"
      ]
    },
    {
      "cell_type": "code",
      "metadata": {
        "id": "SYODX9793QpD"
      },
      "source": [
        "!jupyter labextension install jupyterlab-plotly"
      ],
      "execution_count": null,
      "outputs": []
    }
  ]
}